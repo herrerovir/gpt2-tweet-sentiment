{
 "cells": [
  {
   "cell_type": "markdown",
   "id": "1ddb9e0c",
   "metadata": {},
   "source": [
    "# Tweet Sentiment Classification with Fine-Tuned GPT-2\n",
    "*A transformer-based solution for decoding mood on social media*"
   ]
  },
  {
   "cell_type": "markdown",
   "id": "01e65f97",
   "metadata": {},
   "source": [
    "## Import Libraries\n",
    "\n",
    "Libraries required for data processing and modeling are imported."
   ]
  },
  {
   "cell_type": "markdown",
   "id": "eb9ef42d",
   "metadata": {},
   "source": [
    "This project runs in Google Colab to make use of the free GPU support.\n",
    "Start by mounting Google Drive to access the project files. If this is your first time running the project, clone the repository. Otherwise, pull the latest changes to stay up to date.\n",
    "Once that’s done, run the setup script to install any dependencies and make sure the environment is ready to go."
   ]
  },
  {
   "cell_type": "code",
   "execution_count": null,
   "id": "26a6a769",
   "metadata": {
    "vscode": {
     "languageId": "plaintext"
    }
   },
   "outputs": [],
   "source": [
    "# Mount Drive on colab manually\n",
    "from google.colab import drive\n",
    "drive.mount(\"/content/drive\")"
   ]
  },
  {
   "cell_type": "code",
   "execution_count": null,
   "id": "4db053ab",
   "metadata": {
    "vscode": {
     "languageId": "plaintext"
    }
   },
   "outputs": [],
   "source": [
    "# If the repo doesn't exist in Google Drive, clone it\n",
    "# !git clone https://github.com/herrerovir/gpt2-tweet-sentiment\n",
    "\n",
    "# If the repo does exist:\n",
    "%cd /content/drive/MyDrive/Colab_Projects/gpt2-tweet-sentiment\n",
    "!git pull"
   ]
  },
  {
   "cell_type": "code",
   "execution_count": null,
   "id": "b6d0e274",
   "metadata": {
    "vscode": {
     "languageId": "plaintext"
    }
   },
   "outputs": [],
   "source": [
    "# Import config file\n",
    "import config\n",
    "config.setup(subdir = \"notebooks\")\n",
    "from config import *"
   ]
  }
 ],
 "metadata": {
  "language_info": {
   "name": "python"
  }
 },
 "nbformat": 4,
 "nbformat_minor": 5
}
