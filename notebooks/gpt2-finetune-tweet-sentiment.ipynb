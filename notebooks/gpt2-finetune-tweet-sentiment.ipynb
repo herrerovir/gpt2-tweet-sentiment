{
 "cells": [
  {
   "cell_type": "markdown",
   "id": "1ddb9e0c",
   "metadata": {},
   "source": [
    "# Tweet Sentiment Classification with Fine-Tuned GPT-2\n",
    "*A transformer-based solution for decoding mood on social media*"
   ]
  }
 ],
 "metadata": {
  "language_info": {
   "name": "python"
  }
 },
 "nbformat": 4,
 "nbformat_minor": 5
}
