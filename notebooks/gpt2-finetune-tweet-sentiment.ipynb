{
 "cells": [
  {
   "cell_type": "markdown",
   "id": "1ddb9e0c",
   "metadata": {
    "id": "1ddb9e0c"
   },
   "source": [
    "# Tweet Sentiment Classification with Fine-Tuned GPT-2\n",
    "*A transformer-based solution for decoding mood on social media*"
   ]
  },
  {
   "cell_type": "markdown",
   "id": "01e65f97",
   "metadata": {
    "id": "01e65f97"
   },
   "source": [
    "## Import Libraries\n",
    "\n",
    "Libraries required for data processing and modeling are imported."
   ]
  },
  {
   "cell_type": "markdown",
   "id": "eb9ef42d",
   "metadata": {
    "id": "eb9ef42d"
   },
   "source": [
    "This project runs in Google Colab to make use of the free GPU support. Start by mounting Google Drive to access the project files. If this is your first time running the project, clone the repository. Otherwise, pull the latest changes to stay up to date. Once that’s done, run the setup script to install any dependencies and make sure the environment is ready to go."
   ]
  },
  {
   "cell_type": "code",
   "execution_count": 1,
   "id": "26a6a769",
   "metadata": {
    "colab": {
     "base_uri": "https://localhost:8080/"
    },
    "executionInfo": {
     "elapsed": 20755,
     "status": "ok",
     "timestamp": 1755514689200,
     "user": {
      "displayName": "Virginia Herrero",
      "userId": "16104809763584669928"
     },
     "user_tz": -120
    },
    "id": "26a6a769",
    "outputId": "891c2f17-2457-419b-e9f8-04bf4270e2c4",
    "vscode": {
     "languageId": "plaintext"
    }
   },
   "outputs": [
    {
     "name": "stdout",
     "output_type": "stream",
     "text": [
      "Mounted at /content/drive\n"
     ]
    }
   ],
   "source": [
    "# Mount Drive on colab manually\n",
    "from google.colab import drive\n",
    "drive.mount(\"/content/drive\")"
   ]
  },
  {
   "cell_type": "code",
   "execution_count": 2,
   "id": "4db053ab",
   "metadata": {
    "colab": {
     "base_uri": "https://localhost:8080/"
    },
    "executionInfo": {
     "elapsed": 28535,
     "status": "ok",
     "timestamp": 1755514717750,
     "user": {
      "displayName": "Virginia Herrero",
      "userId": "16104809763584669928"
     },
     "user_tz": -120
    },
    "id": "4db053ab",
    "outputId": "1194844b-77f5-4d6a-d2ba-dfd9965c3bdd",
    "vscode": {
     "languageId": "plaintext"
    }
   },
   "outputs": [
    {
     "name": "stdout",
     "output_type": "stream",
     "text": [
      "/content/drive/MyDrive/Colab_Projects/gpt2-tweet-sentiment\n",
      "Updating 04fcd86..1d05e96\n",
      "error: Your local changes to the following files would be overwritten by merge:\n",
      "\tnotebooks/gpt2-finetune-tweet-sentiment.ipynb\n",
      "Please commit your changes or stash them before you merge.\n",
      "error: The following untracked working tree files would be overwritten by merge:\n",
      "\tdata/processed/HF-dataset-tweet-sentiment-extraction-cleaned/dataset_dict.json\n",
      "\tdata/processed/HF-dataset-tweet-sentiment-extraction-cleaned/test/data-00000-of-00001.arrow\n",
      "\tdata/processed/HF-dataset-tweet-sentiment-extraction-cleaned/test/dataset_info.json\n",
      "\tdata/processed/HF-dataset-tweet-sentiment-extraction-cleaned/test/state.json\n",
      "\tdata/processed/HF-dataset-tweet-sentiment-extraction-cleaned/train/data-00000-of-00001.arrow\n",
      "\tdata/processed/HF-dataset-tweet-sentiment-extraction-cleaned/train/dataset_info.json\n",
      "\tdata/processed/HF-dataset-tweet-sentiment-extraction-cleaned/train/state.json\n",
      "Please move or remove them before you merge.\n",
      "Aborting\n"
     ]
    }
   ],
   "source": [
    "# If the repo doesn't exist in Google Drive, clone it\n",
    "# !git clone https://github.com/herrerovir/gpt2-tweet-sentiment\n",
    "\n",
    "# If the repo does exist:\n",
    "%cd /content/drive/MyDrive/Colab_Projects/gpt2-tweet-sentiment\n",
    "!git pull"
   ]
  },
  {
   "cell_type": "code",
   "execution_count": 3,
   "id": "b6d0e274",
   "metadata": {
    "colab": {
     "base_uri": "https://localhost:8080/"
    },
    "executionInfo": {
     "elapsed": 500,
     "status": "ok",
     "timestamp": 1755514718266,
     "user": {
      "displayName": "Virginia Herrero",
      "userId": "16104809763584669928"
     },
     "user_tz": -120
    },
    "id": "b6d0e274",
    "outputId": "0f25ebba-cd22-448f-e978-9c86c5cc1a89",
    "vscode": {
     "languageId": "plaintext"
    }
   },
   "outputs": [
    {
     "name": "stdout",
     "output_type": "stream",
     "text": [
      "Working directory set to: /content/drive/MyDrive/Colab_Projects/gpt2-tweet-sentiment/notebooks\n"
     ]
    }
   ],
   "source": [
    "# Import config file\n",
    "import config\n",
    "config.setup(subdir = \"notebooks\")\n",
    "from config import *"
   ]
  },
  {
   "cell_type": "code",
   "execution_count": 4,
   "id": "ZNqsKGndMDXc",
   "metadata": {
    "colab": {
     "base_uri": "https://localhost:8080/"
    },
    "executionInfo": {
     "elapsed": 26524,
     "status": "ok",
     "timestamp": 1755514744807,
     "user": {
      "displayName": "Virginia Herrero",
      "userId": "16104809763584669928"
     },
     "user_tz": -120
    },
    "id": "ZNqsKGndMDXc",
    "outputId": "31bef49a-3534-47d8-a5ad-6134fdf5d462"
   },
   "outputs": [
    {
     "name": "stdout",
     "output_type": "stream",
     "text": [
      "Collecting evaluate\n",
      "  Downloading evaluate-0.4.5-py3-none-any.whl.metadata (9.5 kB)\n",
      "Requirement already satisfied: datasets>=2.0.0 in /usr/local/lib/python3.11/dist-packages (from evaluate) (4.0.0)\n",
      "Requirement already satisfied: numpy>=1.17 in /usr/local/lib/python3.11/dist-packages (from evaluate) (2.0.2)\n",
      "Requirement already satisfied: dill in /usr/local/lib/python3.11/dist-packages (from evaluate) (0.3.8)\n",
      "Requirement already satisfied: pandas in /usr/local/lib/python3.11/dist-packages (from evaluate) (2.2.2)\n",
      "Requirement already satisfied: requests>=2.19.0 in /usr/local/lib/python3.11/dist-packages (from evaluate) (2.32.3)\n",
      "Requirement already satisfied: tqdm>=4.62.1 in /usr/local/lib/python3.11/dist-packages (from evaluate) (4.67.1)\n",
      "Requirement already satisfied: xxhash in /usr/local/lib/python3.11/dist-packages (from evaluate) (3.5.0)\n",
      "Requirement already satisfied: multiprocess in /usr/local/lib/python3.11/dist-packages (from evaluate) (0.70.16)\n",
      "Requirement already satisfied: fsspec>=2021.05.0 in /usr/local/lib/python3.11/dist-packages (from fsspec[http]>=2021.05.0->evaluate) (2025.3.0)\n",
      "Requirement already satisfied: huggingface-hub>=0.7.0 in /usr/local/lib/python3.11/dist-packages (from evaluate) (0.34.4)\n",
      "Requirement already satisfied: packaging in /usr/local/lib/python3.11/dist-packages (from evaluate) (25.0)\n",
      "Requirement already satisfied: filelock in /usr/local/lib/python3.11/dist-packages (from datasets>=2.0.0->evaluate) (3.18.0)\n",
      "Requirement already satisfied: pyarrow>=15.0.0 in /usr/local/lib/python3.11/dist-packages (from datasets>=2.0.0->evaluate) (18.1.0)\n",
      "Requirement already satisfied: pyyaml>=5.1 in /usr/local/lib/python3.11/dist-packages (from datasets>=2.0.0->evaluate) (6.0.2)\n",
      "Requirement already satisfied: aiohttp!=4.0.0a0,!=4.0.0a1 in /usr/local/lib/python3.11/dist-packages (from fsspec[http]>=2021.05.0->evaluate) (3.12.15)\n",
      "Requirement already satisfied: typing-extensions>=3.7.4.3 in /usr/local/lib/python3.11/dist-packages (from huggingface-hub>=0.7.0->evaluate) (4.14.1)\n",
      "Requirement already satisfied: hf-xet<2.0.0,>=1.1.3 in /usr/local/lib/python3.11/dist-packages (from huggingface-hub>=0.7.0->evaluate) (1.1.7)\n",
      "Requirement already satisfied: charset-normalizer<4,>=2 in /usr/local/lib/python3.11/dist-packages (from requests>=2.19.0->evaluate) (3.4.3)\n",
      "Requirement already satisfied: idna<4,>=2.5 in /usr/local/lib/python3.11/dist-packages (from requests>=2.19.0->evaluate) (3.10)\n",
      "Requirement already satisfied: urllib3<3,>=1.21.1 in /usr/local/lib/python3.11/dist-packages (from requests>=2.19.0->evaluate) (2.5.0)\n",
      "Requirement already satisfied: certifi>=2017.4.17 in /usr/local/lib/python3.11/dist-packages (from requests>=2.19.0->evaluate) (2025.8.3)\n",
      "Requirement already satisfied: python-dateutil>=2.8.2 in /usr/local/lib/python3.11/dist-packages (from pandas->evaluate) (2.9.0.post0)\n",
      "Requirement already satisfied: pytz>=2020.1 in /usr/local/lib/python3.11/dist-packages (from pandas->evaluate) (2025.2)\n",
      "Requirement already satisfied: tzdata>=2022.7 in /usr/local/lib/python3.11/dist-packages (from pandas->evaluate) (2025.2)\n",
      "Requirement already satisfied: aiohappyeyeballs>=2.5.0 in /usr/local/lib/python3.11/dist-packages (from aiohttp!=4.0.0a0,!=4.0.0a1->fsspec[http]>=2021.05.0->evaluate) (2.6.1)\n",
      "Requirement already satisfied: aiosignal>=1.4.0 in /usr/local/lib/python3.11/dist-packages (from aiohttp!=4.0.0a0,!=4.0.0a1->fsspec[http]>=2021.05.0->evaluate) (1.4.0)\n",
      "Requirement already satisfied: attrs>=17.3.0 in /usr/local/lib/python3.11/dist-packages (from aiohttp!=4.0.0a0,!=4.0.0a1->fsspec[http]>=2021.05.0->evaluate) (25.3.0)\n",
      "Requirement already satisfied: frozenlist>=1.1.1 in /usr/local/lib/python3.11/dist-packages (from aiohttp!=4.0.0a0,!=4.0.0a1->fsspec[http]>=2021.05.0->evaluate) (1.7.0)\n",
      "Requirement already satisfied: multidict<7.0,>=4.5 in /usr/local/lib/python3.11/dist-packages (from aiohttp!=4.0.0a0,!=4.0.0a1->fsspec[http]>=2021.05.0->evaluate) (6.6.4)\n",
      "Requirement already satisfied: propcache>=0.2.0 in /usr/local/lib/python3.11/dist-packages (from aiohttp!=4.0.0a0,!=4.0.0a1->fsspec[http]>=2021.05.0->evaluate) (0.3.2)\n",
      "Requirement already satisfied: yarl<2.0,>=1.17.0 in /usr/local/lib/python3.11/dist-packages (from aiohttp!=4.0.0a0,!=4.0.0a1->fsspec[http]>=2021.05.0->evaluate) (1.20.1)\n",
      "Requirement already satisfied: six>=1.5 in /usr/local/lib/python3.11/dist-packages (from python-dateutil>=2.8.2->pandas->evaluate) (1.17.0)\n",
      "Downloading evaluate-0.4.5-py3-none-any.whl (84 kB)\n",
      "\u001b[2K   \u001b[90m━━━━━━━━━━━━━━━━━━━━━━━━━━━━━━━━━━━━━━━━\u001b[0m \u001b[32m84.1/84.1 kB\u001b[0m \u001b[31m5.0 MB/s\u001b[0m eta \u001b[36m0:00:00\u001b[0m\n",
      "\u001b[?25hInstalling collected packages: evaluate\n",
      "Successfully installed evaluate-0.4.5\n"
     ]
    }
   ],
   "source": [
    "# Install dependencies\n",
    "!pip install evaluate\n",
    "\n",
    "# Utilities\n",
    "import re\n",
    "from collections import Counter\n",
    "import numpy as np\n",
    "import pandas as pd\n",
    "import torch\n",
    "\n",
    "# Visualization libraries\n",
    "import matplotlib.pyplot as plt\n",
    "import seaborn as sns\n",
    "\n",
    "# Sklearn metrics\n",
    "from sklearn.metrics import (\n",
    "    confusion_matrix,\n",
    "    ConfusionMatrixDisplay,\n",
    "    classification_report\n",
    ")\n",
    "\n",
    "# Hugging Face datasets and transformers\n",
    "from datasets import load_from_disk, DatasetDict\n",
    "from transformers import (\n",
    "    AutoModelForSequenceClassification,\n",
    "    DataCollatorWithPadding,\n",
    "    GPT2Config,\n",
    "    GPT2ForSequenceClassification,\n",
    "    GPT2Tokenizer,\n",
    "    TextClassificationPipeline,\n",
    "    Trainer,\n",
    "    TrainingArguments,\n",
    "    set_seed\n",
    ")\n",
    "\n",
    "# Evaluation tools\n",
    "import evaluate\n",
    "from evaluate import load\n",
    "\n",
    "# Set random seed for reproducibility\n",
    "set_seed(42)"
   ]
  },
  {
   "cell_type": "markdown",
   "id": "8zwH4p-CMty5",
   "metadata": {
    "id": "8zwH4p-CMty5"
   },
   "source": [
    "## Data Loading\n",
    "\n",
    "This step loads a preprocessed dataset using Hugging Face’s load_from_disk method. The dataset is stored locally and includes different splits, such as training and validation, organized in a DatasetDict. Once loaded, it can be used directly for model training, evaluation, or inspection."
   ]
  },
  {
   "cell_type": "code",
   "execution_count": 5,
   "id": "oTKKNCBZMzBm",
   "metadata": {
    "colab": {
     "base_uri": "https://localhost:8080/"
    },
    "executionInfo": {
     "elapsed": 29,
     "status": "ok",
     "timestamp": 1755514744833,
     "user": {
      "displayName": "Virginia Herrero",
      "userId": "16104809763584669928"
     },
     "user_tz": -120
    },
    "id": "oTKKNCBZMzBm",
    "outputId": "7cc272fc-4989-4a42-a7ef-c5a4b4d46ca7"
   },
   "outputs": [
    {
     "data": {
      "text/plain": [
       "DatasetDict({\n",
       "    train: Dataset({\n",
       "        features: ['text', 'label'],\n",
       "        num_rows: 27481\n",
       "    })\n",
       "    test: Dataset({\n",
       "        features: ['text', 'label'],\n",
       "        num_rows: 3534\n",
       "    })\n",
       "})"
      ]
     },
     "execution_count": 5,
     "metadata": {},
     "output_type": "execute_result"
    }
   ],
   "source": [
    "# Load preprocessed Hugging Face dataset\n",
    "dataset: DatasetDict = load_from_disk(RAW_DIR / \"HF-dataset-tweet-sentiment-extraction\")\n",
    "dataset"
   ]
  },
  {
   "cell_type": "markdown",
   "id": "EAUBnIb0XHaM",
   "metadata": {
    "id": "EAUBnIb0XHaM"
   },
   "source": [
    "## Data Cleaning\n",
    "\n",
    "This step removes nulls, duplicates, URLs, mentions, and extra spaces to reduce noise and improve model performance. It also checks label distribution to ensure classes are balanced before training."
   ]
  },
  {
   "cell_type": "code",
   "execution_count": 6,
   "id": "daKK2nuNeFfJ",
   "metadata": {
    "colab": {
     "base_uri": "https://localhost:8080/"
    },
    "executionInfo": {
     "elapsed": 10,
     "status": "ok",
     "timestamp": 1755514744844,
     "user": {
      "displayName": "Virginia Herrero",
      "userId": "16104809763584669928"
     },
     "user_tz": -120
    },
    "id": "daKK2nuNeFfJ",
    "outputId": "2517ab66-e03d-478b-e5fd-7b40b216a3c3"
   },
   "outputs": [
    {
     "name": "stdout",
     "output_type": "stream",
     "text": [
      "First 5 entries from the training data:\n",
      "\n",
      "1.  I`d have responded, if I were going\n",
      "\n",
      "2.  Sooo SAD I will miss you here in San Diego!!!\n",
      "\n",
      "3. my boss is bullying me...\n",
      "\n",
      "4.  what interview! leave me alone\n",
      "\n",
      "5.  Sons of ****, why couldn`t they put them on the releases we already bought\n"
     ]
    }
   ],
   "source": [
    "# Show first entries of the dataset\n",
    "print(\"First 5 entries from the training data:\")\n",
    "for i in range(5):\n",
    "    print(f\"\\n{i+1}. {dataset['train'][i]['text']}\")"
   ]
  },
  {
   "cell_type": "markdown",
   "id": "PwxqR_kKXp4l",
   "metadata": {
    "id": "PwxqR_kKXp4l"
   },
   "source": [
    "### Dataset split and sizes\n",
    "\n",
    "Check the number of samples in each split to confirm the dataset is structured correctly and ready for use."
   ]
  },
  {
   "cell_type": "code",
   "execution_count": 7,
   "id": "IrIPyECaX1Cp",
   "metadata": {
    "colab": {
     "base_uri": "https://localhost:8080/"
    },
    "executionInfo": {
     "elapsed": 32,
     "status": "ok",
     "timestamp": 1755514744878,
     "user": {
      "displayName": "Virginia Herrero",
      "userId": "16104809763584669928"
     },
     "user_tz": -120
    },
    "id": "IrIPyECaX1Cp",
    "outputId": "6206c710-7d03-4c8c-edd5-9cd097d6b9ca"
   },
   "outputs": [
    {
     "name": "stdout",
     "output_type": "stream",
     "text": [
      "Dataset splits and sizes:\n",
      "- train: 27481 samples\n",
      "- test: 3534 samples\n"
     ]
    }
   ],
   "source": [
    "print(\"Dataset splits and sizes:\")\n",
    "for split in dataset:\n",
    "    print(f\"- {split}: {len(dataset[split])} samples\")"
   ]
  },
  {
   "cell_type": "markdown",
   "id": "jW-teIiTZdvm",
   "metadata": {
    "id": "jW-teIiTZdvm"
   },
   "source": [
    "### Null Values\n",
    "\n",
    "Identify and handle missing data to prevent errors during training and ensure model reliability. Cleaning null values helps maintain data quality."
   ]
  },
  {
   "cell_type": "code",
   "execution_count": 8,
   "id": "UwkQuHKiZfQ3",
   "metadata": {
    "colab": {
     "base_uri": "https://localhost:8080/"
    },
    "executionInfo": {
     "elapsed": 928,
     "status": "ok",
     "timestamp": 1755514745811,
     "user": {
      "displayName": "Virginia Herrero",
      "userId": "16104809763584669928"
     },
     "user_tz": -120
    },
    "id": "UwkQuHKiZfQ3",
    "outputId": "a704cbeb-c3bc-4a6a-fb66-199b51a4595d"
   },
   "outputs": [
    {
     "name": "stdout",
     "output_type": "stream",
     "text": [
      "Null values in the dataset:\n",
      "- train: 1 null values\n",
      "- test: 0 null values\n"
     ]
    }
   ],
   "source": [
    "print(\"Null values in the dataset:\")\n",
    "for split in dataset:\n",
    "    texts = dataset[split][\"text\"]\n",
    "    empty_count = sum(1 for x in texts if x is None or (isinstance(x, str) and x.strip() == \"\"))\n",
    "    print(f\"- {split}: {empty_count} null values\")\n"
   ]
  },
  {
   "cell_type": "code",
   "execution_count": 9,
   "id": "PLGeIrV7a2zF",
   "metadata": {
    "executionInfo": {
     "elapsed": 892,
     "status": "ok",
     "timestamp": 1755514746698,
     "user": {
      "displayName": "Virginia Herrero",
      "userId": "16104809763584669928"
     },
     "user_tz": -120
    },
    "id": "PLGeIrV7a2zF"
   },
   "outputs": [],
   "source": [
    "def is_valid(example):\n",
    "    \"\"\"\n",
    "    Checks whether a text example is valid for further processing.\n",
    "\n",
    "    An example is considered valid if:\n",
    "    - The 'text' field is not None.\n",
    "    - The 'text' field is not an empty string or whitespace-only.\n",
    "\n",
    "    Parameters:\n",
    "        example (dict): A single data sample, expected to have a 'text' key.\n",
    "\n",
    "    Returns:\n",
    "        bool: True if the example has a valid, non-empty 'text' field; False otherwise.\n",
    "    \"\"\"\n",
    "    return example[\"text\"] is not None and example[\"text\"].strip() != \"\"\n",
    "\n",
    "dataset = dataset.filter(is_valid)"
   ]
  },
  {
   "cell_type": "code",
   "execution_count": 10,
   "id": "DVHeX8NBbJJT",
   "metadata": {
    "colab": {
     "base_uri": "https://localhost:8080/"
    },
    "executionInfo": {
     "elapsed": 26,
     "status": "ok",
     "timestamp": 1755514746727,
     "user": {
      "displayName": "Virginia Herrero",
      "userId": "16104809763584669928"
     },
     "user_tz": -120
    },
    "id": "DVHeX8NBbJJT",
    "outputId": "ba2e9279-1f7a-41a2-f428-6f228eb11bd9"
   },
   "outputs": [
    {
     "name": "stdout",
     "output_type": "stream",
     "text": [
      "Dataset splits sizes after removing null values:\n",
      "- train: 27480 samples\n",
      "- test: 3534 samples\n"
     ]
    }
   ],
   "source": [
    "print(\"Dataset splits sizes after removing null values:\")\n",
    "for split in dataset:\n",
    "    print(f\"- {split}: {len(dataset[split])} samples\")"
   ]
  },
  {
   "cell_type": "markdown",
   "id": "d4TLGrsfajPw",
   "metadata": {
    "id": "d4TLGrsfajPw"
   },
   "source": [
    "### Duplicate Values\n",
    "\n",
    "Detect and remove duplicate entries to avoid bias and ensure the model trains on unique data points."
   ]
  },
  {
   "cell_type": "code",
   "execution_count": 11,
   "id": "iQkYdriGalvp",
   "metadata": {
    "colab": {
     "base_uri": "https://localhost:8080/"
    },
    "executionInfo": {
     "elapsed": 3268,
     "status": "ok",
     "timestamp": 1755514750001,
     "user": {
      "displayName": "Virginia Herrero",
      "userId": "16104809763584669928"
     },
     "user_tz": -120
    },
    "id": "iQkYdriGalvp",
    "outputId": "9ae5ab09-9952-44a0-d277-15863568c859"
   },
   "outputs": [
    {
     "name": "stdout",
     "output_type": "stream",
     "text": [
      "Duplicate values in the dataset:\n",
      "- train: 0 duplicates\n",
      "- test: 0 duplicates\n"
     ]
    }
   ],
   "source": [
    "print(\"Duplicate values in the dataset:\")\n",
    "for split in dataset:\n",
    "    texts = dataset[split][\"text\"]\n",
    "    dupes = len(texts) - len(set(texts))\n",
    "    print(f\"- {split}: {dupes} duplicates\")"
   ]
  },
  {
   "cell_type": "markdown",
   "id": "rlq1CJkMcDIM",
   "metadata": {
    "id": "rlq1CJkMcDIM"
   },
   "source": [
    "### Remove URLs, Mentions and White Spaces\n",
    "\n",
    "Clean the text by removing URLs, user mentions, and extra white spaces to reduce noise and improve model focus on meaningful content."
   ]
  },
  {
   "cell_type": "code",
   "execution_count": 12,
   "id": "JefLC6pvcFdW",
   "metadata": {
    "executionInfo": {
     "elapsed": 8,
     "status": "ok",
     "timestamp": 1755514750024,
     "user": {
      "displayName": "Virginia Herrero",
      "userId": "16104809763584669928"
     },
     "user_tz": -120
    },
    "id": "JefLC6pvcFdW"
   },
   "outputs": [],
   "source": [
    "def clean_tweet(text):\n",
    "    \"\"\"\n",
    "    Cleans a tweet for sentiment classification:\n",
    "\n",
    "    Steps performed:\n",
    "    - Removes URLs (e.g., http://..., https://..., www...)\n",
    "    - Removes user mentions (e.g., @username)\n",
    "    - Removes extra whitespace (multiple spaces, leading/trailing spaces)\n",
    "\n",
    "    Parameters:\n",
    "        text (str): The tweet text to clean. Can be None.\n",
    "\n",
    "    Returns:\n",
    "        str: The cleaned tweet text. If input is None, returns an empty string.\n",
    "    \"\"\"\n",
    "    if text is None:\n",
    "        return \"\"\n",
    "\n",
    "    # Remove URLs\n",
    "    text = re.sub(r\"http\\S+|www\\.\\S+\", \"\", text)\n",
    "\n",
    "    # Remove mentions\n",
    "    text = re.sub(r\"@\\w+\", \"\", text)\n",
    "\n",
    "    # Remove extra spaces and strip leading/trailing whitespace\n",
    "    text = re.sub(r\"\\s+\", \" \", text).strip()\n",
    "\n",
    "    return text"
   ]
  },
  {
   "cell_type": "code",
   "execution_count": 13,
   "id": "XRQnjAIddWJn",
   "metadata": {
    "executionInfo": {
     "elapsed": 1143,
     "status": "ok",
     "timestamp": 1755514751170,
     "user": {
      "displayName": "Virginia Herrero",
      "userId": "16104809763584669928"
     },
     "user_tz": -120
    },
    "id": "XRQnjAIddWJn"
   },
   "outputs": [],
   "source": [
    "def clean_example(example):\n",
    "    example[\"text\"] = clean_tweet(example[\"text\"])\n",
    "    return example\n",
    "\n",
    "dataset = dataset.map(clean_example)"
   ]
  },
  {
   "cell_type": "markdown",
   "id": "veJd-C-zgwSl",
   "metadata": {
    "id": "veJd-C-zgwSl"
   },
   "source": [
    "Check for duplicates again after cleaning to ensure no redundant data remains that could affect model performance."
   ]
  },
  {
   "cell_type": "code",
   "execution_count": 14,
   "id": "jdxshx5OgymY",
   "metadata": {
    "colab": {
     "base_uri": "https://localhost:8080/"
    },
    "executionInfo": {
     "elapsed": 1068,
     "status": "ok",
     "timestamp": 1755514752234,
     "user": {
      "displayName": "Virginia Herrero",
      "userId": "16104809763584669928"
     },
     "user_tz": -120
    },
    "id": "jdxshx5OgymY",
    "outputId": "ab3c10f3-46df-4101-c086-f88b1b6f186c"
   },
   "outputs": [
    {
     "name": "stdout",
     "output_type": "stream",
     "text": [
      "Duplicate values in the dataset:\n",
      "- train: 45 duplicates\n",
      "- test: 1 duplicates\n"
     ]
    }
   ],
   "source": [
    "print(\"Duplicate values in the dataset:\")\n",
    "for split in dataset:\n",
    "    texts = dataset[split][\"text\"]\n",
    "    dupes = len(texts) - len(set(texts))\n",
    "    print(f\"- {split}: {dupes} duplicates\")"
   ]
  },
  {
   "cell_type": "code",
   "execution_count": 15,
   "id": "nzYsxfl2g4KE",
   "metadata": {
    "executionInfo": {
     "elapsed": 179,
     "status": "ok",
     "timestamp": 1755514752427,
     "user": {
      "displayName": "Virginia Herrero",
      "userId": "16104809763584669928"
     },
     "user_tz": -120
    },
    "id": "nzYsxfl2g4KE"
   },
   "outputs": [],
   "source": [
    "for split in dataset:\n",
    "    # Convert to pandas DataFrame\n",
    "    df = dataset[split].to_pandas()\n",
    "    # Drop duplicates\n",
    "    df = df.drop_duplicates(subset = [\"text\"])\n",
    "    # Convert back to Dataset\n",
    "    dataset[split] = dataset[split].from_pandas(df)"
   ]
  },
  {
   "cell_type": "markdown",
   "id": "JTUHDhGEkwgX",
   "metadata": {
    "id": "JTUHDhGEkwgX"
   },
   "source": [
    "### Label Distribution\n",
    "\n",
    "Review the balance of labels to identify any class imbalances that could impact model training and evaluation. The dataset includes three labels: 0 for negative, 1 for neutral, and 2 for positive."
   ]
  },
  {
   "cell_type": "code",
   "execution_count": 16,
   "id": "Fo8PZnWyk0XF",
   "metadata": {
    "colab": {
     "base_uri": "https://localhost:8080/"
    },
    "executionInfo": {
     "elapsed": 761,
     "status": "ok",
     "timestamp": 1755514753161,
     "user": {
      "displayName": "Virginia Herrero",
      "userId": "16104809763584669928"
     },
     "user_tz": -120
    },
    "id": "Fo8PZnWyk0XF",
    "outputId": "f977829b-0b9a-46e8-ed9a-fec9e61cb64a"
   },
   "outputs": [
    {
     "name": "stdout",
     "output_type": "stream",
     "text": [
      "Dataset Label distribution:\n",
      "\n",
      "Train Set:\n",
      "  Label 0: 7773 (28.33%)\n",
      "  Label 1: 11103 (40.47%)\n",
      "  Label 2: 8559 (31.20%)\n",
      "\n",
      "Test Set:\n",
      "  Label 0: 1000 (28.30%)\n",
      "  Label 1: 1430 (40.48%)\n",
      "  Label 2: 1103 (31.22%)\n"
     ]
    }
   ],
   "source": [
    "print(\"Dataset Label distribution:\")\n",
    "for split in dataset:\n",
    "    labels = dataset[split][\"label\"]\n",
    "    counts = Counter(labels)\n",
    "    total = len(labels)\n",
    "\n",
    "    print(f\"\\n{split.title()} Set:\")\n",
    "    for label, count in sorted(counts.items()):\n",
    "        print(f\"  Label {label}: {count} ({count/total*100:.2f}%)\")"
   ]
  },
  {
   "cell_type": "markdown",
   "id": "29b604d6",
   "metadata": {
    "id": "29b604d6"
   },
   "source": [
    "The dataset has three labels: 0 (negative), 1 (neutral), and 2 (positive). The distribution across train and test sets is fairly balanced, with each class representing roughly 28% to 40% of the data. This balance reduces the risk of bias during model training."
   ]
  },
  {
   "cell_type": "code",
   "execution_count": 17,
   "id": "62G95VN9KeHp",
   "metadata": {
    "colab": {
     "base_uri": "https://localhost:8080/",
     "height": 410
    },
    "executionInfo": {
     "elapsed": 780,
     "status": "ok",
     "timestamp": 1755514753943,
     "user": {
      "displayName": "Virginia Herrero",
      "userId": "16104809763584669928"
     },
     "user_tz": -120
    },
    "id": "62G95VN9KeHp",
    "outputId": "35277a2f-e593-4caf-d204-85f0ec0571fd"
   },
   "outputs": [
    {
     "data": {
      "image/png": "[encoded data removed]",
      "text/plain": [
       "<Figure size 1200x400 with 2 Axes>"
      ]
     },
     "metadata": {},
     "output_type": "display_data"
    }
   ],
   "source": [
    "label_colors = {\"0\": \"#e27a3b\", \"1\": \"#edd041\", \"2\": \"#60aa4f\"}\n",
    "\n",
    "# Plot label distribution for each split\n",
    "fig, axes = plt.subplots(1, 2, figsize = (12, 4))\n",
    "\n",
    "for idx, split in enumerate(dataset):\n",
    "    # Convert the split to a pandas DataFrame\n",
    "    df = dataset[split].to_pandas()\n",
    "    # Calculate label distribution\n",
    "    label_counts = df[\"label\"].value_counts().sort_index()\n",
    "\n",
    "    # Prepare data for plotting\n",
    "    plot_df = pd.DataFrame({\n",
    "        \"label\": label_counts.index.astype(str),\n",
    "        \"count\": label_counts.values\n",
    "    })\n",
    "\n",
    "    # Plot using hue and custom palette\n",
    "    ax = axes[idx]\n",
    "    sns.barplot(data = plot_df, x = \"label\", y = \"count\", hue = \"label\", palette = label_colors, ax = axes[idx], legend = False)\n",
    "\n",
    "    # Add value labels on top of each bar\n",
    "    for p in ax.patches:\n",
    "        height = p.get_height()\n",
    "        ax.annotate(f\"{int(height)}\", (p.get_x() + p.get_width() / 2, height), ha = \"center\", va = \"bottom\", fontsize = 10)\n",
    "\n",
    "    axes[idx].set_title(f\"{split.title()} Set Label Distribution\")\n",
    "    axes[idx].set_xlabel(\"Label\")\n",
    "    axes[idx].set_ylabel(\"Count\")"
   ]
  },
  {
   "cell_type": "code",
   "execution_count": 18,
   "id": "_giKWDgyhXBT",
   "metadata": {
    "colab": {
     "base_uri": "https://localhost:8080/",
     "height": 81,
     "referenced_widgets": [
      "8037a16c2e7a4105b74ff6803e46c0d1",
      "654529883e29458382b47f696c4ed423",
      "f0c80bf6c2e64744bbbc14388cecc3e6",
      "3279fa126edf4eaf8cf9b9c921742866",
      "848f62e3cd9a45d5b703398cf2b6b1e7",
      "78b8f65ffaf14aaabc75cf206eb39519",
      "ae997c1c1a174938a24bd0d622e7ddac",
      "50636c8297394f6ba063b14845e92ca4",
      "bd01520cd8af4640bcd7102204154dc2",
      "49186a4fb7fe47b09880b8936f79972a",
      "99952decf0ee482ba25bd7e7423a75ab",
      "2ad6247e0f0d4cfbb5ba413ad0cb6aa5",
      "0dc97b0d794c463c83fcb6e384f09191",
      "2f5dba986aac45e6b0f4256bea989ce4",
      "1d70cf37d4924f7b876dbce8b89371e1",
      "11e013b426944598a8cba2ff20136984",
      "6dcff683979b4e03a2cab143e881b070",
      "dfc02369ec874b388acbda5e454b049b",
      "23926a30fdba4555917ad2afc887b194",
      "f29d0d2df5e8486286190a02debdb5fd",
      "43ba75f2707b4e70925426acee07d3fd",
      "63a8a7390afb45c48f71f65c5fc2a3dc"
     ]
    },
    "executionInfo": {
     "elapsed": 3573,
     "status": "ok",
     "timestamp": 1755514757507,
     "user": {
      "displayName": "Virginia Herrero",
      "userId": "16104809763584669928"
     },
     "user_tz": -120
    },
    "id": "_giKWDgyhXBT",
    "outputId": "8ca449b7-41b0-4c05-bc4f-5e828035d73a"
   },
   "outputs": [
    {
     "data": {
      "application/vnd.jupyter.widget-view+json": {
       "model_id": "8037a16c2e7a4105b74ff6803e46c0d1",
       "version_major": 2,
       "version_minor": 0
      },
      "text/plain": [
       "Saving the dataset (0/1 shards):   0%|          | 0/27435 [00:00<?, ? examples/s]"
      ]
     },
     "metadata": {},
     "output_type": "display_data"
    },
    {
     "data": {
      "application/vnd.jupyter.widget-view+json": {
       "model_id": "2ad6247e0f0d4cfbb5ba413ad0cb6aa5",
       "version_major": 2,
       "version_minor": 0
      },
      "text/plain": [
       "Saving the dataset (0/1 shards):   0%|          | 0/3533 [00:00<?, ? examples/s]"
      ]
     },
     "metadata": {},
     "output_type": "display_data"
    }
   ],
   "source": [
    "# Save the cleaned dataset\n",
    "dataset.save_to_disk(PROCESSED_DIR / \"HF-dataset-tweet-sentiment-extraction-cleaned\")"
   ]
  },
  {
   "cell_type": "markdown",
   "id": "R-SVSxZ6iCeC",
   "metadata": {
    "id": "R-SVSxZ6iCeC"
   },
   "source": [
    "## Tokenization\n",
    "\n",
    "The GPT-2 tokenizer is initialized to convert text into tokens the model can process. Since GPT-2 doesn’t have a pad token, the end-of-sequence token is used as a substitute. The dataset is tokenized with truncation enabled to limit sequence length, but padding is not added here because batching with padding is handled later during training for efficiency.\n",
    "\n",
    "Next, the label column is renamed to labels to match what the transformers library expects. Finally, the dataset format is set to PyTorch tensors, keeping only the necessary columns: input_ids, attention_mask, and labels."
   ]
  },
  {
   "cell_type": "code",
   "execution_count": 19,
   "id": "Trz_Etb8jWFJ",
   "metadata": {
    "colab": {
     "base_uri": "https://localhost:8080/",
     "height": 365,
     "referenced_widgets": [
      "d3fae819059b48228f5b024944cac5f9",
      "d06afa4337a044fb94d1adfb881085dd",
      "a2eea41bc1f34784b87a4180ab07841a",
      "4c1d292882cc465388d126901e5722a6",
      "e8de0a693c3144f0895bc7999e745eb6",
      "d46635fbee58419e87e5f31518ab8225",
      "5f5efa738f21404fa6842bd3dcd74bd8",
      "a2e8adaa2f8d4780af172c0a3de32f43",
      "bd2c49eea61043c0bad371f4e1fa2c16",
      "1ef1e39fa39d4098a2f9223be02e1403",
      "cacdc61acb0f461ba37c42621a89f702",
      "31a732fb4d2747bb8b2e79e04da3e23a",
      "d9a520bc6f7545ee8cd9914ca804c488",
      "8ae39709178e424ea32644b99aba07eb",
      "7a5c3bfb8e0d4bc0a5f0e88ff9106374",
      "d556723eedae407098d6b6abcf9caefc",
      "d361371bd63741ea9f4c3ed30adc2670",
      "ecf0bdd5749f4994909a97e1a527fc74",
      "d3f843167cfe4b7cb1aa6aee64c15b3f",
      "45b79fa0356b4fc5b3677ab418ee2b39",
      "bb222de10e9e4ebabff02347958c5b86",
      "1acd6563f516439499c3c027bfca1227",
      "748a8d5407bd4979857cf7408cf7808f",
      "473541157df2446f9114037ba0439431",
      "c14b56ccffb0438a84174153134ac6bb",
      "a08777eaaa4d48f2a703c02d300f661a",
      "abc2b59a82094a7895c3a6426714a3e2",
      "5e93e7a380de4abdb2e81f2e904b733d",
      "8c8848ef375140c6b22b91e38aaee2b9",
      "4315a52a62744a87b08e84036ce7f273",
      "c588e82c7eeb469cb04f315ab443601f",
      "4281ef0b7e2c466d8ebca3037c79dcce",
      "2b9fb728572e453088181acdb10ea78a",
      "f644a8cf240c4d529fec3a76898a2426",
      "66ad17c6913041b1bdcfff4e70b3ef94",
      "ea76d079b5bf461ab30177d01006f019",
      "750933647acf4a4faacb4924f66b7c6f",
      "128228eb292c4646bb44f655549a4dd6",
      "1c9b1d7188484facbd02453a2a7420d0",
      "fe724671cc694d7894fc622fcf0bdf5c",
      "36b618391f4149f6ab86fafa2c18b365",
      "487631e412154f62b145198baf636ca4",
      "a36e83b75e9648cea3ad34de19b8f6f3",
      "a1f32a589bc245ff986fbe45a3457110",
      "bb18b5a11889424e951313cfdfdd1b57",
      "d30034e9bf6f4a3bbbf4a2e751252153",
      "b9b0c622d1d340edaa6c18dde3f1f4f5",
      "db3d19218a1f4f7480242f346904d043",
      "a678783cc2724bb682c94df4e9283755",
      "25d61e5ace404dc48416df608771ca8e",
      "303070e42a444fd2b905238ef81b94f5",
      "8fa9f1726fb44b4ba676dac621991ea2",
      "347ffe215b48425a9466c5809c6c273d",
      "5a020f35cd1e4952a38394ed9bd107c0",
      "0a652a2390d9400db66ccadef934d92b",
      "046440f3b5d046e19bf8e108b01ab48c",
      "5b95ee5ef8d3467cbb6513b103e4770e",
      "2d1407c0ccc24a2eaf9ef6f0f35cd2d3",
      "277c88383c5b49a3bd92b0f0dd51ab5a",
      "596725f34d064183902de4220a15e3d6",
      "b4c84bf4e5534053ad90589bb9668341",
      "abb5ad4f52794fb88da2906197b2560a",
      "7cf2e735313c4e568c4c837859f78ff8",
      "3660199195bb4a6e8670025f88eca062",
      "b0a7330739ba466da0e355b8c840db54",
      "9023f375e85842a797bf3356115b4148",
      "dea19a542d524ce0a5c1d43c7accf6ce",
      "6d26634270b84bfda51e3bcca2bf1d58",
      "730cb790264e4b978e584c45b0658cbf",
      "5b6b63b003f24c60859557d69006ab89",
      "6991b61cab154da2953d426df35e0420",
      "ca9409b8084f4844ae658144465766e3",
      "499945734848421a810ec4af1822db32",
      "a46119d06e4f4e6a877da19ea1b16121",
      "04ad569d601c49b78f79a8722fbc9ca9",
      "cd77936679934d259404d6c58b54872e",
      "b24dba63e6214655a828f75c2688a7a8"
     ]
    },
    "executionInfo": {
     "elapsed": 22197,
     "status": "ok",
     "timestamp": 1755514779717,
     "user": {
      "displayName": "Virginia Herrero",
      "userId": "16104809763584669928"
     },
     "user_tz": -120
    },
    "id": "Trz_Etb8jWFJ",
    "outputId": "b95de225-049b-460f-a76a-bb5649f381ef"
   },
   "outputs": [
    {
     "name": "stderr",
     "output_type": "stream",
     "text": [
      "/usr/local/lib/python3.11/dist-packages/huggingface_hub/utils/_auth.py:94: UserWarning: \n",
      "The secret `HF_TOKEN` does not exist in your Colab secrets.\n",
      "To authenticate with the Hugging Face Hub, create a token in your settings tab (https://huggingface.co/settings/tokens), set it as secret in your Google Colab and restart your session.\n",
      "You will be able to reuse this secret in all of your notebooks.\n",
      "Please note that authentication is recommended but still optional to access public models or datasets.\n",
      "  warnings.warn(\n"
     ]
    },
    {
     "data": {
      "application/vnd.jupyter.widget-view+json": {
       "model_id": "d3fae819059b48228f5b024944cac5f9",
       "version_major": 2,
       "version_minor": 0
      },
      "text/plain": [
       "tokenizer_config.json:   0%|          | 0.00/26.0 [00:00<?, ?B/s]"
      ]
     },
     "metadata": {},
     "output_type": "display_data"
    },
    {
     "data": {
      "application/vnd.jupyter.widget-view+json": {
       "model_id": "31a732fb4d2747bb8b2e79e04da3e23a",
       "version_major": 2,
       "version_minor": 0
      },
      "text/plain": [
       "vocab.json:   0%|          | 0.00/1.04M [00:00<?, ?B/s]"
      ]
     },
     "metadata": {},
     "output_type": "display_data"
    },
    {
     "data": {
      "application/vnd.jupyter.widget-view+json": {
       "model_id": "748a8d5407bd4979857cf7408cf7808f",
       "version_major": 2,
       "version_minor": 0
      },
      "text/plain": [
       "merges.txt:   0%|          | 0.00/456k [00:00<?, ?B/s]"
      ]
     },
     "metadata": {},
     "output_type": "display_data"
    },
    {
     "data": {
      "application/vnd.jupyter.widget-view+json": {
       "model_id": "f644a8cf240c4d529fec3a76898a2426",
       "version_major": 2,
       "version_minor": 0
      },
      "text/plain": [
       "tokenizer.json:   0%|          | 0.00/1.36M [00:00<?, ?B/s]"
      ]
     },
     "metadata": {},
     "output_type": "display_data"
    },
    {
     "data": {
      "application/vnd.jupyter.widget-view+json": {
       "model_id": "bb18b5a11889424e951313cfdfdd1b57",
       "version_major": 2,
       "version_minor": 0
      },
      "text/plain": [
       "config.json:   0%|          | 0.00/665 [00:00<?, ?B/s]"
      ]
     },
     "metadata": {},
     "output_type": "display_data"
    },
    {
     "data": {
      "application/vnd.jupyter.widget-view+json": {
       "model_id": "046440f3b5d046e19bf8e108b01ab48c",
       "version_major": 2,
       "version_minor": 0
      },
      "text/plain": [
       "Map:   0%|          | 0/27435 [00:00<?, ? examples/s]"
      ]
     },
     "metadata": {},
     "output_type": "display_data"
    },
    {
     "data": {
      "application/vnd.jupyter.widget-view+json": {
       "model_id": "dea19a542d524ce0a5c1d43c7accf6ce",
       "version_major": 2,
       "version_minor": 0
      },
      "text/plain": [
       "Map:   0%|          | 0/3533 [00:00<?, ? examples/s]"
      ]
     },
     "metadata": {},
     "output_type": "display_data"
    }
   ],
   "source": [
    "# Initialize tokenizer\n",
    "tokenizer = GPT2Tokenizer.from_pretrained(\"gpt2\")\n",
    "tokenizer.pad_token = tokenizer.eos_token # workaround since GPT-2 has no pad token\n",
    "\n",
    "# Tokenization function\n",
    "def tokenize_function(examples):\n",
    "    return tokenizer(examples[\"text\"], truncation = True) # only truncation, no padding\n",
    "\n",
    "tokenized_dataset = dataset.map(tokenize_function, batched = True)\n",
    "\n",
    "# Retain the label but first rename the column, transformers expect a column named labels\n",
    "tokenized_dataset = tokenized_dataset.rename_column(\"label\", \"labels\")\n",
    "\n",
    "# Set format for PyTorch tensors and keep only necessary columns\n",
    "tokenized_dataset.set_format(\"torch\", columns=[\"input_ids\", \"attention_mask\", \"labels\"])"
   ]
  },
  {
   "cell_type": "code",
   "execution_count": 20,
   "id": "DC4zToKapfsu",
   "metadata": {
    "colab": {
     "base_uri": "https://localhost:8080/"
    },
    "executionInfo": {
     "elapsed": 10,
     "status": "ok",
     "timestamp": 1755514779729,
     "user": {
      "displayName": "Virginia Herrero",
      "userId": "16104809763584669928"
     },
     "user_tz": -120
    },
    "id": "DC4zToKapfsu",
    "outputId": "371eb025-6d9c-4ed1-e135-a771e52fa668"
   },
   "outputs": [
    {
     "name": "stdout",
     "output_type": "stream",
     "text": [
      "Tokenized train set size: 27435\n",
      "Tokenized test set size: 3533\n"
     ]
    }
   ],
   "source": [
    "train = tokenized_dataset[\"train\"]\n",
    "test = tokenized_dataset[\"test\"]\n",
    "\n",
    "print(f\"Tokenized train set size: {len(train)}\")\n",
    "print(f\"Tokenized test set size: {len(test)}\")"
   ]
  },
  {
   "cell_type": "markdown",
   "id": "pWAtdztBnKcl",
   "metadata": {
    "id": "pWAtdztBnKcl"
   },
   "source": [
    "## Data Collator\n",
    "\n",
    "The `DataCollatorWithPadding` is used to dynamically pad input sequences within each batch during training. This ensures all sequences in a batch have the same length without padding the entire dataset upfront, improving training efficiency."
   ]
  },
  {
   "cell_type": "code",
   "execution_count": 21,
   "id": "iNmNPR6mnMlG",
   "metadata": {
    "executionInfo": {
     "elapsed": 17,
     "status": "ok",
     "timestamp": 1755514779747,
     "user": {
      "displayName": "Virginia Herrero",
      "userId": "16104809763584669928"
     },
     "user_tz": -120
    },
    "id": "iNmNPR6mnMlG"
   },
   "outputs": [],
   "source": [
    "data_collator = DataCollatorWithPadding(tokenizer = tokenizer)"
   ]
  },
  {
   "cell_type": "markdown",
   "id": "xQx4bnpMm7Wt",
   "metadata": {
    "id": "xQx4bnpMm7Wt"
   },
   "source": [
    "## Evaluation Metrics\n",
    "\n",
    "The key evaluation metrics used in this project are accuracy and weighted F1 score, which measure how well the model’s predictions match the true labels."
   ]
  },
  {
   "cell_type": "code",
   "execution_count": 22,
   "id": "WbJqt4jNm9ZJ",
   "metadata": {
    "colab": {
     "base_uri": "https://localhost:8080/",
     "height": 81,
     "referenced_widgets": [
      "06c2aca71bf2476d866b014837426c6c",
      "1c4f0395c493458c91b5b5410c0a7137",
      "80c38643ba284e61b01a03af4c0132d4",
      "739c6d29349d458ebf895838e045a0eb",
      "c7b1826d518a493a9085a5f7317496d5",
      "68f869c4efa64a0abb619a246f336a1b",
      "ae2c8128dac64510bbb57269bce933e3",
      "7bb06aba28ae4b80bb5f2947e532aacf",
      "6fd39f233e1547318977c634882bb57d",
      "61494a9a37aa49fdb8cb16375949231e",
      "6f21c39ce56e4212b59ed321ea65398b",
      "a4b4fdb635bb4fbda4834a08bf7602fd",
      "8fd1c89846dd4de3b047148b2390ca0f",
      "d0e45c10bfb84bbea295ba1677cb3a15",
      "c8db04d0c4cb4c60b096045e0c5ba2a7",
      "3babf96eb54a43ca837da035bf6a4ff7",
      "c06b51ef8b384ed486ff560bfbcf5c8d",
      "569e51b8510e426abb265b583b720cae",
      "3b9b334011654fdfa63c0660baacc875",
      "b09c928e81d340ebb97c88758313ffbf",
      "a48f855494794564b4468bc0e013078b",
      "3f006f1084d241e0baaedb2e47eb5353"
     ]
    },
    "executionInfo": {
     "elapsed": 1495,
     "status": "ok",
     "timestamp": 1755514781243,
     "user": {
      "displayName": "Virginia Herrero",
      "userId": "16104809763584669928"
     },
     "user_tz": -120
    },
    "id": "WbJqt4jNm9ZJ",
    "outputId": "14d77e0a-6f03-4d79-e0b9-df70930cf912"
   },
   "outputs": [
    {
     "data": {
      "application/vnd.jupyter.widget-view+json": {
       "model_id": "06c2aca71bf2476d866b014837426c6c",
       "version_major": 2,
       "version_minor": 0
      },
      "text/plain": [
       "Downloading builder script: 0.00B [00:00, ?B/s]"
      ]
     },
     "metadata": {},
     "output_type": "display_data"
    },
    {
     "data": {
      "application/vnd.jupyter.widget-view+json": {
       "model_id": "a4b4fdb635bb4fbda4834a08bf7602fd",
       "version_major": 2,
       "version_minor": 0
      },
      "text/plain": [
       "Downloading builder script: 0.00B [00:00, ?B/s]"
      ]
     },
     "metadata": {},
     "output_type": "display_data"
    }
   ],
   "source": [
    "accuracy = load(\"accuracy\")\n",
    "f1 = load(\"f1\")\n",
    "\n",
    "def compute_metrics(eval_pred):\n",
    "    \"\"\"\n",
    "    Computes accuracy and weighted F1 score from model predictions.\n",
    "\n",
    "    Parameters:\n",
    "        eval_pred (tuple): (logits, labels)\n",
    "\n",
    "    Returns:\n",
    "        dict: {'accuracy': ..., 'f1': ...}\n",
    "    \"\"\"\n",
    "    logits, labels = eval_pred\n",
    "    preds = np.argmax(logits, axis = -1)\n",
    "    return {\n",
    "        \"accuracy\": accuracy.compute(predictions = preds, references = labels)[\"accuracy\"],\n",
    "        \"f1\": f1.compute(predictions = preds, references = labels, average = \"weighted\")[\"f1\"]\n",
    "    }"
   ]
  },
  {
   "cell_type": "markdown",
   "id": "VcBU4lRClY7j",
   "metadata": {
    "id": "VcBU4lRClY7j"
   },
   "source": [
    "## Load GPT-2 Model\n",
    "\n",
    "Load the GPT-2 model configured for sequence classification. This model will be fine-tuned to predict sentiment labels based on input text."
   ]
  },
  {
   "cell_type": "code",
   "execution_count": 23,
   "id": "CXEzi232lbmW",
   "metadata": {
    "colab": {
     "base_uri": "https://localhost:8080/",
     "height": 84,
     "referenced_widgets": [
      "4255a80d762045548317d4578cc6a99f",
      "ac76652605194296871ef19912d1093c",
      "ec78b7e25c5c441cadd8d69820857a10",
      "442f750334be4c6eb3de47bb3a679783",
      "5962517a2afc47b29b5f7f5952838ae4",
      "e79c55e94b4a447c8c5b794e63133c0a",
      "b4e2f261a7034954ada2e8f65d24dedf",
      "5149754977f54c519b33d8cf2973d310",
      "ba2589277fb94b30836ad513d25c62e5",
      "cb32d5af4a914d01b8bb7d25f33421f0",
      "1f72b3c2bf99414d89634868c350a538"
     ]
    },
    "executionInfo": {
     "elapsed": 11138,
     "status": "ok",
     "timestamp": 1755514792382,
     "user": {
      "displayName": "Virginia Herrero",
      "userId": "16104809763584669928"
     },
     "user_tz": -120
    },
    "id": "CXEzi232lbmW",
    "outputId": "7bfe7881-11e7-4531-9f73-b93d5cc6ee51"
   },
   "outputs": [
    {
     "data": {
      "application/vnd.jupyter.widget-view+json": {
       "model_id": "4255a80d762045548317d4578cc6a99f",
       "version_major": 2,
       "version_minor": 0
      },
      "text/plain": [
       "model.safetensors:   0%|          | 0.00/548M [00:00<?, ?B/s]"
      ]
     },
     "metadata": {},
     "output_type": "display_data"
    },
    {
     "name": "stderr",
     "output_type": "stream",
     "text": [
      "Some weights of GPT2ForSequenceClassification were not initialized from the model checkpoint at gpt2 and are newly initialized: ['score.weight']\n",
      "You should probably TRAIN this model on a down-stream task to be able to use it for predictions and inference.\n"
     ]
    }
   ],
   "source": [
    "# Load pretraind model\n",
    "model = GPT2ForSequenceClassification.from_pretrained(\"gpt2\", num_labels = 3)\n",
    "\n",
    "# Set pad_token_id to eos_token_id to avoid padding warnings\n",
    "model.config.pad_token_id = tokenizer.pad_token_id"
   ]
  },
  {
   "cell_type": "markdown",
   "id": "Yc4zhYVpnmdW",
   "metadata": {
    "id": "Yc4zhYVpnmdW"
   },
   "source": [
    "## Model Training\n",
    "\n",
    "Training parameters include a learning rate of 2e-5, batch size of 8, and 5 epochs. The GPT-2 model is fine-tuned on the training data to accurately classify tweet sentiments. It is evaluated and saved after each epoch based on accuracy. The `Trainer` class manages training and evaluation using the prepared datasets, tokenizer, data collator, and metric functions."
   ]
  },
  {
   "cell_type": "code",
   "execution_count": 24,
   "id": "ycSDemrgnqGS",
   "metadata": {
    "executionInfo": {
     "elapsed": 7,
     "status": "ok",
     "timestamp": 1755514792405,
     "user": {
      "displayName": "Virginia Herrero",
      "userId": "16104809763584669928"
     },
     "user_tz": -120
    },
    "id": "ycSDemrgnqGS"
   },
   "outputs": [],
   "source": [
    "output_dir = (MODELS_DIR / \"gpt2\")\n",
    "logging_dir = (MODELS_DIR / \"gpt2\" / \"logs\")"
   ]
  },
  {
   "cell_type": "code",
   "execution_count": 25,
   "id": "ML4qJmDfnllZ",
   "metadata": {
    "executionInfo": {
     "elapsed": 11,
     "status": "ok",
     "timestamp": 1755514792419,
     "user": {
      "displayName": "Virginia Herrero",
      "userId": "16104809763584669928"
     },
     "user_tz": -120
    },
    "id": "ML4qJmDfnllZ"
   },
   "outputs": [],
   "source": [
    "training_args = TrainingArguments(\n",
    "    output_dir = output_dir,\n",
    "    learning_rate = 2e-5,\n",
    "    per_device_train_batch_size = 8,\n",
    "    per_device_eval_batch_size = 8,\n",
    "    num_train_epochs = 5,\n",
    "    eval_strategy = \"epoch\",\n",
    "    save_strategy = \"epoch\",\n",
    "    logging_dir = logging_dir,\n",
    "    logging_steps = 10,\n",
    "    load_best_model_at_end = True,\n",
    "    metric_for_best_model = \"accuracy\",\n",
    "    save_total_limit = 1,\n",
    "    report_to = \"none\",  # Avoids warning if not using WandB or TensorBoard\n",
    ")"
   ]
  },
  {
   "cell_type": "code",
   "execution_count": 26,
   "id": "1fRXAojYoDfp",
   "metadata": {
    "colab": {
     "base_uri": "https://localhost:8080/",
     "height": 303
    },
    "executionInfo": {
     "elapsed": 1806408,
     "status": "ok",
     "timestamp": 1755516598835,
     "user": {
      "displayName": "Virginia Herrero",
      "userId": "16104809763584669928"
     },
     "user_tz": -120
    },
    "id": "1fRXAojYoDfp",
    "outputId": "8616ee3f-546d-428f-c306-d4b4750193a8"
   },
   "outputs": [
    {
     "name": "stderr",
     "output_type": "stream",
     "text": [
      "/tmp/ipython-input-4042273139.py:1: FutureWarning: `tokenizer` is deprecated and will be removed in version 5.0.0 for `Trainer.__init__`. Use `processing_class` instead.\n",
      "  trainer = Trainer(\n"
     ]
    },
    {
     "data": {
      "text/html": [
       "\n",
       "    <div>\n",
       "      \n",
       "      <progress value='17150' max='17150' style='width:300px; height:20px; vertical-align: middle;'></progress>\n",
       "      [17150/17150 30:03, Epoch 5/5]\n",
       "    </div>\n",
       "    <table border=\"1\" class=\"dataframe\">\n",
       "  <thead>\n",
       " <tr style=\"text-align: left;\">\n",
       "      <th>Epoch</th>\n",
       "      <th>Training Loss</th>\n",
       "      <th>Validation Loss</th>\n",
       "      <th>Accuracy</th>\n",
       "      <th>F1</th>\n",
       "    </tr>\n",
       "  </thead>\n",
       "  <tbody>\n",
       "    <tr>\n",
       "      <td>1</td>\n",
       "      <td>0.479500</td>\n",
       "      <td>0.533257</td>\n",
       "      <td>0.791962</td>\n",
       "      <td>0.792278</td>\n",
       "    </tr>\n",
       "    <tr>\n",
       "      <td>2</td>\n",
       "      <td>0.552800</td>\n",
       "      <td>0.539753</td>\n",
       "      <td>0.784602</td>\n",
       "      <td>0.784134</td>\n",
       "    </tr>\n",
       "    <tr>\n",
       "      <td>3</td>\n",
       "      <td>0.459800</td>\n",
       "      <td>0.556262</td>\n",
       "      <td>0.789414</td>\n",
       "      <td>0.789438</td>\n",
       "    </tr>\n",
       "    <tr>\n",
       "      <td>4</td>\n",
       "      <td>0.375000</td>\n",
       "      <td>0.686749</td>\n",
       "      <td>0.793660</td>\n",
       "      <td>0.793354</td>\n",
       "    </tr>\n",
       "    <tr>\n",
       "      <td>5</td>\n",
       "      <td>0.322400</td>\n",
       "      <td>0.804911</td>\n",
       "      <td>0.788282</td>\n",
       "      <td>0.788363</td>\n",
       "    </tr>\n",
       "  </tbody>\n",
       "</table><p>"
      ],
      "text/plain": [
       "<IPython.core.display.HTML object>"
      ]
     },
     "metadata": {},
     "output_type": "display_data"
    },
    {
     "data": {
      "text/plain": [
       "TrainOutput(global_step=17150, training_loss=0.45795230471010456, metrics={'train_runtime': 1804.9484, 'train_samples_per_second': 75.999, 'train_steps_per_second': 9.502, 'total_flos': 2204991421733376.0, 'train_loss': 0.45795230471010456, 'epoch': 5.0})"
      ]
     },
     "execution_count": 26,
     "metadata": {},
     "output_type": "execute_result"
    }
   ],
   "source": [
    "trainer = Trainer(\n",
    "    model = model,\n",
    "    args = training_args,\n",
    "    train_dataset = train,\n",
    "    eval_dataset = test,\n",
    "    tokenizer = tokenizer,\n",
    "    data_collator = data_collator,\n",
    "    compute_metrics = compute_metrics\n",
    ")\n",
    "\n",
    "# Train the model\n",
    "trainer.train()"
   ]
  },
  {
   "cell_type": "markdown",
   "id": "NUEMSCgv_1jB",
   "metadata": {
    "id": "NUEMSCgv_1jB"
   },
   "source": [
    "## Model Evaluation\n",
    "\n",
    "After training, the model is evaluated on the test set using accuracy and weighted F1 score. This helps measure how well the model generalizes to unseen tweet data."
   ]
  },
  {
   "cell_type": "code",
   "execution_count": 27,
   "id": "OZRdoK8v_zzF",
   "metadata": {
    "colab": {
     "base_uri": "https://localhost:8080/",
     "height": 195
    },
    "executionInfo": {
     "elapsed": 12577,
     "status": "ok",
     "timestamp": 1755516611421,
     "user": {
      "displayName": "Virginia Herrero",
      "userId": "16104809763584669928"
     },
     "user_tz": -120
    },
    "id": "OZRdoK8v_zzF",
    "outputId": "4ef4dd70-28c2-4117-879e-32f5a058857a"
   },
   "outputs": [
    {
     "data": {
      "text/html": [
       "\n",
       "    <div>\n",
       "      \n",
       "      <progress value='442' max='442' style='width:300px; height:20px; vertical-align: middle;'></progress>\n",
       "      [442/442 00:11]\n",
       "    </div>\n",
       "    "
      ],
      "text/plain": [
       "<IPython.core.display.HTML object>"
      ]
     },
     "metadata": {},
     "output_type": "display_data"
    },
    {
     "name": "stdout",
     "output_type": "stream",
     "text": [
      "GPT-2 Model Evaluation Metrics on Test Set:\n",
      "\n",
      "Eval_loss: 0.6867\n",
      "Eval_accuracy: 0.7937\n",
      "Eval_f1: 0.7934\n",
      "Eval_runtime: 11.5130\n",
      "Eval_samples_per_second: 306.8720\n",
      "Eval_steps_per_second: 38.3920\n",
      "Epoch: 5.0000\n"
     ]
    }
   ],
   "source": [
    "evaluation_path = (METRICS_RESULTS_DIR / \"gpt2-model-evaluation-metrics.txt\")\n",
    "\n",
    "with open(evaluation_path, \"w\", encoding = \"utf-8\") as f:\n",
    "\n",
    "    def save_metrics(text = \"\"):\n",
    "        print(text)\n",
    "        f.write(text + \"\\n\")\n",
    "\n",
    "    # Evaluate model\n",
    "    eval_results = trainer.evaluate()\n",
    "\n",
    "    # Print and save results\n",
    "    save_metrics(\"GPT-2 Model Evaluation Metrics on Test Set:\\n\")\n",
    "    for metric, value in eval_results.items():\n",
    "        try:\n",
    "            save_metrics(f\"{metric.capitalize()}: {value:.4f}\")\n",
    "        except TypeError:\n",
    "            save_metrics(f\"{metric.capitalize()}: {value}\")"
   ]
  },
  {
   "cell_type": "markdown",
   "id": "c0b7694b",
   "metadata": {
    "id": "c0b7694b"
   },
   "source": [
    "The GPT-2 model achieved strong performance with nearly 79.4% accuracy and weighted F1 score, showing it effectively classifies tweet sentiments. The evaluation loss indicates reasonable confidence in predictions without overfitting. Fast evaluation speed confirms the model’s efficiency for practical use. Overall, the results demonstrate the model is well-tuned and reliable for sentiment classification on this dataset."
   ]
  },
  {
   "cell_type": "code",
   "execution_count": 28,
   "id": "k_hUfFtJABDE",
   "metadata": {
    "colab": {
     "base_uri": "https://localhost:8080/",
     "height": 17
    },
    "executionInfo": {
     "elapsed": 13048,
     "status": "ok",
     "timestamp": 1755516624507,
     "user": {
      "displayName": "Virginia Herrero",
      "userId": "16104809763584669928"
     },
     "user_tz": -120
    },
    "id": "k_hUfFtJABDE",
    "outputId": "c4dbb5db-7a79-4083-9f54-dbb900daa3cc"
   },
   "outputs": [
    {
     "data": {
      "text/html": [],
      "text/plain": [
       "<IPython.core.display.HTML object>"
      ]
     },
     "metadata": {},
     "output_type": "display_data"
    }
   ],
   "source": [
    "# Predict on test set\n",
    "preds_output = trainer.predict(test)\n",
    "\n",
    "# Extract predictions and labels\n",
    "y_pred = np.argmax(preds_output.predictions, axis = 1)\n",
    "y_true = preds_output.label_ids"
   ]
  },
  {
   "cell_type": "code",
   "execution_count": 29,
   "id": "Bfe2OGABALdy",
   "metadata": {
    "colab": {
     "base_uri": "https://localhost:8080/",
     "height": 564
    },
    "executionInfo": {
     "elapsed": 1094,
     "status": "ok",
     "timestamp": 1755516625617,
     "user": {
      "displayName": "Virginia Herrero",
      "userId": "16104809763584669928"
     },
     "user_tz": -120
    },
    "id": "Bfe2OGABALdy",
    "outputId": "c7421717-3e63-44c9-e845-a2aed410c289"
   },
   "outputs": [
    {
     "data": {
      "image/png": "[encoded data removed]",
      "text/plain": [
       "<Figure size 800x600 with 2 Axes>"
      ]
     },
     "metadata": {},
     "output_type": "display_data"
    }
   ],
   "source": [
    "# Plot confusion matrix\n",
    "class_names = [\"Negative\", \"Neutral\", \"Positive\"]\n",
    "cm = confusion_matrix(y_true, y_pred)\n",
    "fig, ax = plt.subplots(figsize = (8, 6))\n",
    "disp = ConfusionMatrixDisplay(confusion_matrix = cm, display_labels = class_names)\n",
    "disp.plot(cmap = \"YlGn\", ax = ax)\n",
    "plt.title(\"GPT-2 Model Confusion Matrix\")\n",
    "plt.savefig(FIGURES_DIR / \"gpt2-model-confusion-matrix.png\", bbox_inches = \"tight\")"
   ]
  },
  {
   "cell_type": "code",
   "execution_count": 30,
   "id": "_uSl7ntRAYiV",
   "metadata": {
    "colab": {
     "base_uri": "https://localhost:8080/"
    },
    "executionInfo": {
     "elapsed": 703,
     "status": "ok",
     "timestamp": 1755516626319,
     "user": {
      "displayName": "Virginia Herrero",
      "userId": "16104809763584669928"
     },
     "user_tz": -120
    },
    "id": "_uSl7ntRAYiV",
    "outputId": "0dd14f9a-e680-44fc-ac07-a63254223a74"
   },
   "outputs": [
    {
     "name": "stdout",
     "output_type": "stream",
     "text": [
      "GPT-2 Model Classification Report:\n",
      "\n",
      "              precision    recall  f1-score   support\n",
      "\n",
      "    Negative       0.81      0.78      0.79      1000\n",
      "     Neutral       0.76      0.76      0.76      1430\n",
      "    Positive       0.82      0.85      0.84      1103\n",
      "\n",
      "    accuracy                           0.79      3533\n",
      "   macro avg       0.80      0.80      0.80      3533\n",
      "weighted avg       0.79      0.79      0.79      3533\n",
      "\n"
     ]
    }
   ],
   "source": [
    "# Show precision, recall, f1-score per class\n",
    "class_path = (METRICS_RESULTS_DIR/ \"gpt2-classification-report.txt\")\n",
    "\n",
    "report = classification_report(y_true, y_pred, target_names = class_names)\n",
    "\n",
    "# Print and save\n",
    "with open(class_path, \"w\", encoding = \"utf-8\") as f:\n",
    "    print(\"GPT-2 Model Classification Report:\\n\")\n",
    "    print(report)\n",
    "\n",
    "    f.write(\"GPT-2 Model Classification Report:\\n\\n\")\n",
    "    f.write(report)"
   ]
  },
  {
   "cell_type": "markdown",
   "id": "86a23528",
   "metadata": {
    "id": "86a23528"
   },
   "source": [
    "The GPT-2 model performs well across all classes, with precision and recall scores generally above 0.75. The positive class shows the highest F1 score at 0.84, indicating strong detection of positive sentiments. Negative and neutral classes also have balanced precision and recall around 0.78 and 0.76, respectively. Overall accuracy is 79%, with consistent macro and weighted averages, confirming balanced performance without bias toward any class."
   ]
  },
  {
   "cell_type": "code",
   "execution_count": 31,
   "id": "TeQVCyNXBOkV",
   "metadata": {
    "colab": {
     "base_uri": "https://localhost:8080/"
    },
    "executionInfo": {
     "elapsed": 3076,
     "status": "ok",
     "timestamp": 1755516629402,
     "user": {
      "displayName": "Virginia Herrero",
      "userId": "16104809763584669928"
     },
     "user_tz": -120
    },
    "id": "TeQVCyNXBOkV",
    "outputId": "d17abc91-bf3a-4b88-918d-c4404cc0929a"
   },
   "outputs": [
    {
     "data": {
      "text/plain": [
       "('/content/drive/MyDrive/Colab_Projects/gpt2-tweet-sentiment/models/gpt2/gpt2-final-model/tokenizer_config.json',\n",
       " '/content/drive/MyDrive/Colab_Projects/gpt2-tweet-sentiment/models/gpt2/gpt2-final-model/special_tokens_map.json',\n",
       " '/content/drive/MyDrive/Colab_Projects/gpt2-tweet-sentiment/models/gpt2/gpt2-final-model/vocab.json',\n",
       " '/content/drive/MyDrive/Colab_Projects/gpt2-tweet-sentiment/models/gpt2/gpt2-final-model/merges.txt',\n",
       " '/content/drive/MyDrive/Colab_Projects/gpt2-tweet-sentiment/models/gpt2/gpt2-final-model/added_tokens.json')"
      ]
     },
     "execution_count": 31,
     "metadata": {},
     "output_type": "execute_result"
    }
   ],
   "source": [
    "# Save the best model after training\n",
    "trainer.save_model(MODELS_DIR / \"gpt2\" / \"gpt2-final-model\")\n",
    "# Save tokenizer\n",
    "tokenizer.save_pretrained(MODELS_DIR / \"gpt2\" / \"gpt2-final-model\")"
   ]
  },
  {
   "cell_type": "markdown",
   "id": "UzFdSH-YBVB5",
   "metadata": {
    "id": "UzFdSH-YBVB5"
   },
   "source": [
    "## Model Inference\n",
    "\n",
    "Use the fine-tuned GPT-2 model to predict sentiment labels on new tweet data. This step applies the trained model to unseen texts for practical sentiment classification."
   ]
  },
  {
   "cell_type": "code",
   "execution_count": 32,
   "id": "YzyJEcLYBcGo",
   "metadata": {
    "executionInfo": {
     "elapsed": 334,
     "status": "ok",
     "timestamp": 1755516629742,
     "user": {
      "displayName": "Virginia Herrero",
      "userId": "16104809763584669928"
     },
     "user_tz": -120
    },
    "id": "YzyJEcLYBcGo"
   },
   "outputs": [],
   "source": [
    "# Load the trained model and the tokenizer\n",
    "model = AutoModelForSequenceClassification.from_pretrained(MODELS_DIR / \"gpt2\" / \"gpt2-final-model\")\n",
    "tokenizer = GPT2Tokenizer.from_pretrained(MODELS_DIR / \"gpt2\" / \"gpt2-final-model\")"
   ]
  },
  {
   "cell_type": "code",
   "execution_count": 33,
   "id": "IDnobfPOBvDF",
   "metadata": {
    "colab": {
     "base_uri": "https://localhost:8080/"
    },
    "executionInfo": {
     "elapsed": 377,
     "status": "ok",
     "timestamp": 1755516630093,
     "user": {
      "displayName": "Virginia Herrero",
      "userId": "16104809763584669928"
     },
     "user_tz": -120
    },
    "id": "IDnobfPOBvDF",
    "outputId": "afbb271e-88cc-4649-f2a8-3a6d361f2eb3"
   },
   "outputs": [
    {
     "name": "stderr",
     "output_type": "stream",
     "text": [
      "Device set to use cuda:0\n"
     ]
    }
   ],
   "source": [
    "# Create a classification pipeline\n",
    "device_num = 0 if torch.cuda.is_available() else -1\n",
    "pipeline = TextClassificationPipeline(model = model, tokenizer = tokenizer, device = device_num)"
   ]
  },
  {
   "cell_type": "code",
   "execution_count": 34,
   "id": "SrTwTk0WBy9S",
   "metadata": {
    "executionInfo": {
     "elapsed": 4,
     "status": "ok",
     "timestamp": 1755516630098,
     "user": {
      "displayName": "Virginia Herrero",
      "userId": "16104809763584669928"
     },
     "user_tz": -120
    },
    "id": "SrTwTk0WBy9S"
   },
   "outputs": [],
   "source": [
    "# Sample test texts\n",
    "input_texts = [\n",
    "    \"The food was hot and delicious.\",\n",
    "    \"Just landed my dream job! Can’t believe it 🙌 So excited for what’s ahead!\",\n",
    "    \"The staff of the restaurant were not friendly.\",\n",
    "    \"Ugh, my flight got delayed again. This is getting ridiculous.\",\n",
    "    \"Heading to the grocery store, then back to work. Just a regular Thursday.\",\n",
    "    \"I love how everything always breaks when I need it most. 🙃\",\n",
    "    \"My package arrived two days early! Thanks for the great service!\",\n",
    "    \"What a waste of time. I could’ve been doing literally anything else.\",\n",
    "    \"It's been a day. Not good, not bad. Just... a day.\",\n",
    "    \"Coffee hit just right this morning ☕️🔥\",\n",
    "    \"Lost all my work because of a crash. Fantastic.\",\n",
    "    \"Can’t wait for the weekend! Plans are finally coming together.\",\n",
    "    \"This place has really gone downhill. Used to love it here.\",\n",
    "    \"Weather’s perfect today—sunny with a light breeze. Love it.\",\n",
    "    \"Guess who forgot their umbrella again? This guy.\",\n",
    "    \"Wow. They really nailed it this time. Super impressed!\",\n",
    "    \"The instructions were unclear, and now I’m stuck.\",\n",
    "    \"Just finished my workout. Feeling strong 💪\",\n",
    "    \"Honestly, I don’t even care anymore.\",\n",
    "    \"Nothing beats a quiet evening with a good book.\",\n",
    "    \"Cool. Another update that broke everything.\",\n",
    "    \"Met some amazing people today—grateful for the experience.\",\n",
    "    \"No big deal, just spilled coffee on my laptop. Send help.\",\n",
    "    \"Finally got around to cleaning my room. Feels good!\",\n",
    "    \"So many bugs in this app, it should come with a net.\",\n",
    "    \"Thanks for the quick response—really appreciated.\",\n",
    "    \"Forgot how good this song is. Instant mood booster.\",\n",
    "    \"Waiting in line for 30 minutes just to be told it's closed.\",\n",
    "    \"Dinner with family tonight. Looking forward to it.\",\n",
    "    \"Hilarious. My alarm didn’t go off *again.*\",\n",
    "]"
   ]
  },
  {
   "cell_type": "code",
   "execution_count": 35,
   "id": "wjLnXDCNBzMa",
   "metadata": {
    "colab": {
     "base_uri": "https://localhost:8080/"
    },
    "executionInfo": {
     "elapsed": 1406,
     "status": "ok",
     "timestamp": 1755516631507,
     "user": {
      "displayName": "Virginia Herrero",
      "userId": "16104809763584669928"
     },
     "user_tz": -120
    },
    "id": "wjLnXDCNBzMa",
    "outputId": "fe9fa4c3-3542-4141-83ab-71b583794434"
   },
   "outputs": [
    {
     "name": "stderr",
     "output_type": "stream",
     "text": [
      "/usr/local/lib/python3.11/dist-packages/transformers/pipelines/text_classification.py:111: UserWarning: `return_all_scores` is now deprecated,  if want a similar functionality use `top_k=None` instead of `return_all_scores=True` or `top_k=1` instead of `return_all_scores=False`.\n",
      "  warnings.warn(\n",
      "You seem to be using the pipelines sequentially on GPU. In order to maximize efficiency please use a dataset\n"
     ]
    },
    {
     "name": "stdout",
     "output_type": "stream",
     "text": [
      "------------------------------------------------------------\n",
      "Tweet Sentiment Classification Inference\n",
      "------------------------------------------------------------\n",
      "\n",
      "Input Text: The food was hot and delicious.\n",
      "Predicted Sentiment: Positive (Confidence: 0.9993)\n",
      "\n",
      "Input Text: Just landed my dream job! Can’t believe it 🙌 So excited for what’s ahead!\n",
      "Predicted Sentiment: Positive (Confidence: 0.9981)\n",
      "\n",
      "Input Text: The staff of the restaurant were not friendly.\n",
      "Predicted Sentiment: Negative (Confidence: 0.9967)\n",
      "\n",
      "Input Text: Ugh, my flight got delayed again. This is getting ridiculous.\n",
      "Predicted Sentiment: Negative (Confidence: 0.9995)\n",
      "\n",
      "Input Text: Heading to the grocery store, then back to work. Just a regular Thursday.\n",
      "Predicted Sentiment: Neutral (Confidence: 0.9957)\n",
      "\n",
      "Input Text: I love how everything always breaks when I need it most. 🙃\n",
      "Predicted Sentiment: Positive (Confidence: 0.9953)\n",
      "\n",
      "Input Text: My package arrived two days early! Thanks for the great service!\n",
      "Predicted Sentiment: Positive (Confidence: 0.9997)\n",
      "\n",
      "Input Text: What a waste of time. I could’ve been doing literally anything else.\n",
      "Predicted Sentiment: Negative (Confidence: 0.9766)\n",
      "\n",
      "Input Text: It's been a day. Not good, not bad. Just... a day.\n",
      "Predicted Sentiment: Neutral (Confidence: 0.7548)\n",
      "\n",
      "Input Text: Coffee hit just right this morning ☕️🔥\n",
      "Predicted Sentiment: Positive (Confidence: 0.9718)\n",
      "\n",
      "Input Text: Lost all my work because of a crash. Fantastic.\n",
      "Predicted Sentiment: Positive (Confidence: 0.5206)\n",
      "\n",
      "Input Text: Can’t wait for the weekend! Plans are finally coming together.\n",
      "Predicted Sentiment: Positive (Confidence: 0.9983)\n",
      "\n",
      "Input Text: This place has really gone downhill. Used to love it here.\n",
      "Predicted Sentiment: Positive (Confidence: 0.6640)\n",
      "\n",
      "Input Text: Weather’s perfect today—sunny with a light breeze. Love it.\n",
      "Predicted Sentiment: Positive (Confidence: 0.9998)\n",
      "\n",
      "Input Text: Guess who forgot their umbrella again? This guy.\n",
      "Predicted Sentiment: Neutral (Confidence: 0.8902)\n",
      "\n",
      "Input Text: Wow. They really nailed it this time. Super impressed!\n",
      "Predicted Sentiment: Positive (Confidence: 0.9999)\n",
      "\n",
      "Input Text: The instructions were unclear, and now I’m stuck.\n",
      "Predicted Sentiment: Negative (Confidence: 0.9988)\n",
      "\n",
      "Input Text: Just finished my workout. Feeling strong 💪\n",
      "Predicted Sentiment: Positive (Confidence: 0.9903)\n",
      "\n",
      "Input Text: Honestly, I don’t even care anymore.\n",
      "Predicted Sentiment: Negative (Confidence: 0.6966)\n",
      "\n",
      "Input Text: Nothing beats a quiet evening with a good book.\n",
      "Predicted Sentiment: Positive (Confidence: 0.9991)\n",
      "\n",
      "Input Text: Cool. Another update that broke everything.\n",
      "Predicted Sentiment: Positive (Confidence: 0.5727)\n",
      "\n",
      "Input Text: Met some amazing people today—grateful for the experience.\n",
      "Predicted Sentiment: Positive (Confidence: 0.9986)\n",
      "\n",
      "Input Text: No big deal, just spilled coffee on my laptop. Send help.\n",
      "Predicted Sentiment: Neutral (Confidence: 0.8826)\n",
      "\n",
      "Input Text: Finally got around to cleaning my room. Feels good!\n",
      "Predicted Sentiment: Positive (Confidence: 1.0000)\n",
      "\n",
      "Input Text: So many bugs in this app, it should come with a net.\n",
      "Predicted Sentiment: Neutral (Confidence: 0.8580)\n",
      "\n",
      "Input Text: Thanks for the quick response—really appreciated.\n",
      "Predicted Sentiment: Positive (Confidence: 0.9995)\n",
      "\n",
      "Input Text: Forgot how good this song is. Instant mood booster.\n",
      "Predicted Sentiment: Positive (Confidence: 0.9877)\n",
      "\n",
      "Input Text: Waiting in line for 30 minutes just to be told it's closed.\n",
      "Predicted Sentiment: Neutral (Confidence: 0.9919)\n",
      "\n",
      "Input Text: Dinner with family tonight. Looking forward to it.\n",
      "Predicted Sentiment: Positive (Confidence: 0.9901)\n",
      "\n",
      "Input Text: Hilarious. My alarm didn’t go off *again.*\n",
      "Predicted Sentiment: Positive (Confidence: 0.9943)\n",
      "\n",
      "------------------------------------------------------------\n",
      "Inference Complete. Top predictions saved to file.\n",
      "------------------------------------------------------------\n"
     ]
    }
   ],
   "source": [
    "predictions_path = (PREDICTIONS_DIR / \"predictions_output.txt\")\n",
    "\n",
    "# Map model labels to human-readable labels\n",
    "label_map = {\n",
    "    \"LABEL_0\": \"Negative\",\n",
    "    \"LABEL_1\": \"Neutral\",\n",
    "    \"LABEL_2\": \"Positive\"\n",
    "}\n",
    "\n",
    "# Write top predictions only\n",
    "with open(predictions_path, \"w\", encoding = \"utf-8\") as f:\n",
    "\n",
    "    def write_and_print(text=\"\"):\n",
    "        print(text)\n",
    "        f.write(text + \"\\n\")\n",
    "\n",
    "    write_and_print(\"-\" * 60)\n",
    "    write_and_print(\"Tweet Sentiment Classification Inference\")\n",
    "    write_and_print(\"-\" * 60)\n",
    "\n",
    "    for i, text in enumerate(input_texts, 1):\n",
    "        # Run prediction\n",
    "        raw_preds = pipeline(text, return_all_scores=True)[0]\n",
    "\n",
    "        # Get top prediction\n",
    "        top_pred = max(raw_preds, key=lambda x: x[\"score\"])\n",
    "        top_label = label_map[top_pred[\"label\"]]\n",
    "        confidence = top_pred[\"score\"]\n",
    "\n",
    "        # Output result\n",
    "        write_and_print(f\"\\nInput Text: {text}\")\n",
    "        write_and_print(f\"Predicted Sentiment: {top_label} (Confidence: {confidence:.4f})\")\n",
    "\n",
    "    write_and_print(\"\\n\" + \"-\" * 60)\n",
    "    write_and_print(\"Inference Complete. Top predictions saved to file.\")\n",
    "    write_and_print(\"-\" * 60)"
   ]
  },
  {
   "cell_type": "markdown",
   "id": "3053bd7c",
   "metadata": {
    "id": "3053bd7c"
   },
   "source": [
    "The fine-tuned GPT-2 model was used to predict sentiment labels on a variety of new tweet examples. Each input tweet is classified as Positive, Negative, or Neutral, along with a confidence score indicating prediction certainty.\n",
    "\n",
    "Sample predictions demonstrate the model’s ability to capture sentiment nuances, accurately identifying emotions in both straightforward and subtle contexts. Confidence scores generally align well with expected sentiment, though some ambiguous cases show lower confidence, highlighting areas for potential improvement."
   ]
  }
 ],
 "metadata": {
  "accelerator": "GPU",
  "colab": {
   "gpuType": "T4",
   "provenance": []
  },
  "kernelspec": {
   "display_name": "Python 3",
   "name": "python3"
  },
  "language_info": {
   "name": "python"
  },
  "widgets": {
   "application/vnd.jupyter.widget-state+json": {
    "046440f3b5d046e19bf8e108b01ab48c": {
     "model_module": "@jupyter-widgets/controls",
     "model_module_version": "1.5.0",
     "model_name": "HBoxModel",
     "state": {
      "_dom_classes": [],
      "_model_module": "@jupyter-widgets/controls",
      "_model_module_version": "1.5.0",
      "_model_name": "HBoxModel",
      "_view_count": null,
      "_view_module": "@jupyter-widgets/controls",
      "_view_module_version": "1.5.0",
      "_view_name": "HBoxView",
      "box_style": "",
      "children": [
       "IPY_MODEL_5b95ee5ef8d3467cbb6513b103e4770e",
       "IPY_MODEL_2d1407c0ccc24a2eaf9ef6f0f35cd2d3",
       "IPY_MODEL_277c88383c5b49a3bd92b0f0dd51ab5a"
      ],
      "layout": "IPY_MODEL_596725f34d064183902de4220a15e3d6"
     }
    },
    "04ad569d601c49b78f79a8722fbc9ca9": {
     "model_module": "@jupyter-widgets/controls",
     "model_module_version": "1.5.0",
     "model_name": "ProgressStyleModel",
     "state": {
      "_model_module": "@jupyter-widgets/controls",
      "_model_module_version": "1.5.0",
      "_model_name": "ProgressStyleModel",
      "_view_count": null,
      "_view_module": "@jupyter-widgets/base",
      "_view_module_version": "1.2.0",
      "_view_name": "StyleView",
      "bar_color": null,
      "description_width": ""
     }
    },
    "06c2aca71bf2476d866b014837426c6c": {
     "model_module": "@jupyter-widgets/controls",
     "model_module_version": "1.5.0",
     "model_name": "HBoxModel",
     "state": {
      "_dom_classes": [],
      "_model_module": "@jupyter-widgets/controls",
      "_model_module_version": "1.5.0",
      "_model_name": "HBoxModel",
      "_view_count": null,
      "_view_module": "@jupyter-widgets/controls",
      "_view_module_version": "1.5.0",
      "_view_name": "HBoxView",
      "box_style": "",
      "children": [
       "IPY_MODEL_1c4f0395c493458c91b5b5410c0a7137",
       "IPY_MODEL_80c38643ba284e61b01a03af4c0132d4",
       "IPY_MODEL_739c6d29349d458ebf895838e045a0eb"
      ],
      "layout": "IPY_MODEL_c7b1826d518a493a9085a5f7317496d5"
     }
    },
    "0a652a2390d9400db66ccadef934d92b": {
     "model_module": "@jupyter-widgets/controls",
     "model_module_version": "1.5.0",
     "model_name": "DescriptionStyleModel",
     "state": {
      "_model_module": "@jupyter-widgets/controls",
      "_model_module_version": "1.5.0",
      "_model_name": "DescriptionStyleModel",
      "_view_count": null,
      "_view_module": "@jupyter-widgets/base",
      "_view_module_version": "1.2.0",
      "_view_name": "StyleView",
      "description_width": ""
     }
    },
    "0dc97b0d794c463c83fcb6e384f09191": {
     "model_module": "@jupyter-widgets/controls",
     "model_module_version": "1.5.0",
     "model_name": "HTMLModel",
     "state": {
      "_dom_classes": [],
      "_model_module": "@jupyter-widgets/controls",
      "_model_module_version": "1.5.0",
      "_model_name": "HTMLModel",
      "_view_count": null,
      "_view_module": "@jupyter-widgets/controls",
      "_view_module_version": "1.5.0",
      "_view_name": "HTMLView",
      "description": "",
      "description_tooltip": null,
      "layout": "IPY_MODEL_6dcff683979b4e03a2cab143e881b070",
      "placeholder": "​",
      "style": "IPY_MODEL_dfc02369ec874b388acbda5e454b049b",
      "value": "Saving the dataset (1/1 shards): 100%"
     }
    },
    "11e013b426944598a8cba2ff20136984": {
     "model_module": "@jupyter-widgets/base",
     "model_module_version": "1.2.0",
     "model_name": "LayoutModel",
     "state": {
      "_model_module": "@jupyter-widgets/base",
      "_model_module_version": "1.2.0",
      "_model_name": "LayoutModel",
      "_view_count": null,
      "_view_module": "@jupyter-widgets/base",
      "_view_module_version": "1.2.0",
      "_view_name": "LayoutView",
      "align_content": null,
      "align_items": null,
      "align_self": null,
      "border": null,
      "bottom": null,
      "display": null,
      "flex": null,
      "flex_flow": null,
      "grid_area": null,
      "grid_auto_columns": null,
      "grid_auto_flow": null,
      "grid_auto_rows": null,
      "grid_column": null,
      "grid_gap": null,
      "grid_row": null,
      "grid_template_areas": null,
      "grid_template_columns": null,
      "grid_template_rows": null,
      "height": null,
      "justify_content": null,
      "justify_items": null,
      "left": null,
      "margin": null,
      "max_height": null,
      "max_width": null,
      "min_height": null,
      "min_width": null,
      "object_fit": null,
      "object_position": null,
      "order": null,
      "overflow": null,
      "overflow_x": null,
      "overflow_y": null,
      "padding": null,
      "right": null,
      "top": null,
      "visibility": null,
      "width": null
     }
    },
    "128228eb292c4646bb44f655549a4dd6": {
     "model_module": "@jupyter-widgets/base",
     "model_module_version": "1.2.0",
     "model_name": "LayoutModel",
     "state": {
      "_model_module": "@jupyter-widgets/base",
      "_model_module_version": "1.2.0",
      "_model_name": "LayoutModel",
      "_view_count": null,
      "_view_module": "@jupyter-widgets/base",
      "_view_module_version": "1.2.0",
      "_view_name": "LayoutView",
      "align_content": null,
      "align_items": null,
      "align_self": null,
      "border": null,
      "bottom": null,
      "display": null,
      "flex": null,
      "flex_flow": null,
      "grid_area": null,
      "grid_auto_columns": null,
      "grid_auto_flow": null,
      "grid_auto_rows": null,
      "grid_column": null,
      "grid_gap": null,
      "grid_row": null,
      "grid_template_areas": null,
      "grid_template_columns": null,
      "grid_template_rows": null,
      "height": null,
      "justify_content": null,
      "justify_items": null,
      "left": null,
      "margin": null,
      "max_height": null,
      "max_width": null,
      "min_height": null,
      "min_width": null,
      "object_fit": null,
      "object_position": null,
      "order": null,
      "overflow": null,
      "overflow_x": null,
      "overflow_y": null,
      "padding": null,
      "right": null,
      "top": null,
      "visibility": null,
      "width": null
     }
    },
    "1acd6563f516439499c3c027bfca1227": {
     "model_module": "@jupyter-widgets/controls",
     "model_module_version": "1.5.0",
     "model_name": "DescriptionStyleModel",
     "state": {
      "_model_module": "@jupyter-widgets/controls",
      "_model_module_version": "1.5.0",
      "_model_name": "DescriptionStyleModel",
      "_view_count": null,
      "_view_module": "@jupyter-widgets/base",
      "_view_module_version": "1.2.0",
      "_view_name": "StyleView",
      "description_width": ""
     }
    },
    "1c4f0395c493458c91b5b5410c0a7137": {
     "model_module": "@jupyter-widgets/controls",
     "model_module_version": "1.5.0",
     "model_name": "HTMLModel",
     "state": {
      "_dom_classes": [],
      "_model_module": "@jupyter-widgets/controls",
      "_model_module_version": "1.5.0",
      "_model_name": "HTMLModel",
      "_view_count": null,
      "_view_module": "@jupyter-widgets/controls",
      "_view_module_version": "1.5.0",
      "_view_name": "HTMLView",
      "description": "",
      "description_tooltip": null,
      "layout": "IPY_MODEL_68f869c4efa64a0abb619a246f336a1b",
      "placeholder": "​",
      "style": "IPY_MODEL_ae2c8128dac64510bbb57269bce933e3",
      "value": "Downloading builder script: "
     }
    },
    "1c9b1d7188484facbd02453a2a7420d0": {
     "model_module": "@jupyter-widgets/base",
     "model_module_version": "1.2.0",
     "model_name": "LayoutModel",
     "state": {
      "_model_module": "@jupyter-widgets/base",
      "_model_module_version": "1.2.0",
      "_model_name": "LayoutModel",
      "_view_count": null,
      "_view_module": "@jupyter-widgets/base",
      "_view_module_version": "1.2.0",
      "_view_name": "LayoutView",
      "align_content": null,
      "align_items": null,
      "align_self": null,
      "border": null,
      "bottom": null,
      "display": null,
      "flex": null,
      "flex_flow": null,
      "grid_area": null,
      "grid_auto_columns": null,
      "grid_auto_flow": null,
      "grid_auto_rows": null,
      "grid_column": null,
      "grid_gap": null,
      "grid_row": null,
      "grid_template_areas": null,
      "grid_template_columns": null,
      "grid_template_rows": null,
      "height": null,
      "justify_content": null,
      "justify_items": null,
      "left": null,
      "margin": null,
      "max_height": null,
      "max_width": null,
      "min_height": null,
      "min_width": null,
      "object_fit": null,
      "object_position": null,
      "order": null,
      "overflow": null,
      "overflow_x": null,
      "overflow_y": null,
      "padding": null,
      "right": null,
      "top": null,
      "visibility": null,
      "width": null
     }
    },
    "1d70cf37d4924f7b876dbce8b89371e1": {
     "model_module": "@jupyter-widgets/controls",
     "model_module_version": "1.5.0",
     "model_name": "HTMLModel",
     "state": {
      "_dom_classes": [],
      "_model_module": "@jupyter-widgets/controls",
      "_model_module_version": "1.5.0",
      "_model_name": "HTMLModel",
      "_view_count": null,
      "_view_module": "@jupyter-widgets/controls",
      "_view_module_version": "1.5.0",
      "_view_name": "HTMLView",
      "description": "",
      "description_tooltip": null,
      "layout": "IPY_MODEL_43ba75f2707b4e70925426acee07d3fd",
      "placeholder": "​",
      "style": "IPY_MODEL_63a8a7390afb45c48f71f65c5fc2a3dc",
      "value": " 3533/3533 [00:00&lt;00:00, 6319.09 examples/s]"
     }
    },
    "1ef1e39fa39d4098a2f9223be02e1403": {
     "model_module": "@jupyter-widgets/base",
     "model_module_version": "1.2.0",
     "model_name": "LayoutModel",
     "state": {
      "_model_module": "@jupyter-widgets/base",
      "_model_module_version": "1.2.0",
      "_model_name": "LayoutModel",
      "_view_count": null,
      "_view_module": "@jupyter-widgets/base",
      "_view_module_version": "1.2.0",
      "_view_name": "LayoutView",
      "align_content": null,
      "align_items": null,
      "align_self": null,
      "border": null,
      "bottom": null,
      "display": null,
      "flex": null,
      "flex_flow": null,
      "grid_area": null,
      "grid_auto_columns": null,
      "grid_auto_flow": null,
      "grid_auto_rows": null,
      "grid_column": null,
      "grid_gap": null,
      "grid_row": null,
      "grid_template_areas": null,
      "grid_template_columns": null,
      "grid_template_rows": null,
      "height": null,
      "justify_content": null,
      "justify_items": null,
      "left": null,
      "margin": null,
      "max_height": null,
      "max_width": null,
      "min_height": null,
      "min_width": null,
      "object_fit": null,
      "object_position": null,
      "order": null,
      "overflow": null,
      "overflow_x": null,
      "overflow_y": null,
      "padding": null,
      "right": null,
      "top": null,
      "visibility": null,
      "width": null
     }
    },
    "1f72b3c2bf99414d89634868c350a538": {
     "model_module": "@jupyter-widgets/controls",
     "model_module_version": "1.5.0",
     "model_name": "DescriptionStyleModel",
     "state": {
      "_model_module": "@jupyter-widgets/controls",
      "_model_module_version": "1.5.0",
      "_model_name": "DescriptionStyleModel",
      "_view_count": null,
      "_view_module": "@jupyter-widgets/base",
      "_view_module_version": "1.2.0",
      "_view_name": "StyleView",
      "description_width": ""
     }
    },
    "23926a30fdba4555917ad2afc887b194": {
     "model_module": "@jupyter-widgets/base",
     "model_module_version": "1.2.0",
     "model_name": "LayoutModel",
     "state": {
      "_model_module": "@jupyter-widgets/base",
      "_model_module_version": "1.2.0",
      "_model_name": "LayoutModel",
      "_view_count": null,
      "_view_module": "@jupyter-widgets/base",
      "_view_module_version": "1.2.0",
      "_view_name": "LayoutView",
      "align_content": null,
      "align_items": null,
      "align_self": null,
      "border": null,
      "bottom": null,
      "display": null,
      "flex": null,
      "flex_flow": null,
      "grid_area": null,
      "grid_auto_columns": null,
      "grid_auto_flow": null,
      "grid_auto_rows": null,
      "grid_column": null,
      "grid_gap": null,
      "grid_row": null,
      "grid_template_areas": null,
      "grid_template_columns": null,
      "grid_template_rows": null,
      "height": null,
      "justify_content": null,
      "justify_items": null,
      "left": null,
      "margin": null,
      "max_height": null,
      "max_width": null,
      "min_height": null,
      "min_width": null,
      "object_fit": null,
      "object_position": null,
      "order": null,
      "overflow": null,
      "overflow_x": null,
      "overflow_y": null,
      "padding": null,
      "right": null,
      "top": null,
      "visibility": null,
      "width": null
     }
    },
    "25d61e5ace404dc48416df608771ca8e": {
     "model_module": "@jupyter-widgets/base",
     "model_module_version": "1.2.0",
     "model_name": "LayoutModel",
     "state": {
      "_model_module": "@jupyter-widgets/base",
      "_model_module_version": "1.2.0",
      "_model_name": "LayoutModel",
      "_view_count": null,
      "_view_module": "@jupyter-widgets/base",
      "_view_module_version": "1.2.0",
      "_view_name": "LayoutView",
      "align_content": null,
      "align_items": null,
      "align_self": null,
      "border": null,
      "bottom": null,
      "display": null,
      "flex": null,
      "flex_flow": null,
      "grid_area": null,
      "grid_auto_columns": null,
      "grid_auto_flow": null,
      "grid_auto_rows": null,
      "grid_column": null,
      "grid_gap": null,
      "grid_row": null,
      "grid_template_areas": null,
      "grid_template_columns": null,
      "grid_template_rows": null,
      "height": null,
      "justify_content": null,
      "justify_items": null,
      "left": null,
      "margin": null,
      "max_height": null,
      "max_width": null,
      "min_height": null,
      "min_width": null,
      "object_fit": null,
      "object_position": null,
      "order": null,
      "overflow": null,
      "overflow_x": null,
      "overflow_y": null,
      "padding": null,
      "right": null,
      "top": null,
      "visibility": null,
      "width": null
     }
    },
    "277c88383c5b49a3bd92b0f0dd51ab5a": {
     "model_module": "@jupyter-widgets/controls",
     "model_module_version": "1.5.0",
     "model_name": "HTMLModel",
     "state": {
      "_dom_classes": [],
      "_model_module": "@jupyter-widgets/controls",
      "_model_module_version": "1.5.0",
      "_model_name": "HTMLModel",
      "_view_count": null,
      "_view_module": "@jupyter-widgets/controls",
      "_view_module_version": "1.5.0",
      "_view_name": "HTMLView",
      "description": "",
      "description_tooltip": null,
      "layout": "IPY_MODEL_b0a7330739ba466da0e355b8c840db54",
      "placeholder": "​",
      "style": "IPY_MODEL_9023f375e85842a797bf3356115b4148",
      "value": " 27435/27435 [00:14&lt;00:00, 1741.86 examples/s]"
     }
    },
    "2ad6247e0f0d4cfbb5ba413ad0cb6aa5": {
     "model_module": "@jupyter-widgets/controls",
     "model_module_version": "1.5.0",
     "model_name": "HBoxModel",
     "state": {
      "_dom_classes": [],
      "_model_module": "@jupyter-widgets/controls",
      "_model_module_version": "1.5.0",
      "_model_name": "HBoxModel",
      "_view_count": null,
      "_view_module": "@jupyter-widgets/controls",
      "_view_module_version": "1.5.0",
      "_view_name": "HBoxView",
      "box_style": "",
      "children": [
       "IPY_MODEL_0dc97b0d794c463c83fcb6e384f09191",
       "IPY_MODEL_2f5dba986aac45e6b0f4256bea989ce4",
       "IPY_MODEL_1d70cf37d4924f7b876dbce8b89371e1"
      ],
      "layout": "IPY_MODEL_11e013b426944598a8cba2ff20136984"
     }
    },
    "2b9fb728572e453088181acdb10ea78a": {
     "model_module": "@jupyter-widgets/controls",
     "model_module_version": "1.5.0",
     "model_name": "DescriptionStyleModel",
     "state": {
      "_model_module": "@jupyter-widgets/controls",
      "_model_module_version": "1.5.0",
      "_model_name": "DescriptionStyleModel",
      "_view_count": null,
      "_view_module": "@jupyter-widgets/base",
      "_view_module_version": "1.2.0",
      "_view_name": "StyleView",
      "description_width": ""
     }
    },
    "2d1407c0ccc24a2eaf9ef6f0f35cd2d3": {
     "model_module": "@jupyter-widgets/controls",
     "model_module_version": "1.5.0",
     "model_name": "FloatProgressModel",
     "state": {
      "_dom_classes": [],
      "_model_module": "@jupyter-widgets/controls",
      "_model_module_version": "1.5.0",
      "_model_name": "FloatProgressModel",
      "_view_count": null,
      "_view_module": "@jupyter-widgets/controls",
      "_view_module_version": "1.5.0",
      "_view_name": "ProgressView",
      "bar_style": "success",
      "description": "",
      "description_tooltip": null,
      "layout": "IPY_MODEL_7cf2e735313c4e568c4c837859f78ff8",
      "max": 27435,
      "min": 0,
      "orientation": "horizontal",
      "style": "IPY_MODEL_3660199195bb4a6e8670025f88eca062",
      "value": 27435
     }
    },
    "2f5dba986aac45e6b0f4256bea989ce4": {
     "model_module": "@jupyter-widgets/controls",
     "model_module_version": "1.5.0",
     "model_name": "FloatProgressModel",
     "state": {
      "_dom_classes": [],
      "_model_module": "@jupyter-widgets/controls",
      "_model_module_version": "1.5.0",
      "_model_name": "FloatProgressModel",
      "_view_count": null,
      "_view_module": "@jupyter-widgets/controls",
      "_view_module_version": "1.5.0",
      "_view_name": "ProgressView",
      "bar_style": "success",
      "description": "",
      "description_tooltip": null,
      "layout": "IPY_MODEL_23926a30fdba4555917ad2afc887b194",
      "max": 3533,
      "min": 0,
      "orientation": "horizontal",
      "style": "IPY_MODEL_f29d0d2df5e8486286190a02debdb5fd",
      "value": 3533
     }
    },
    "303070e42a444fd2b905238ef81b94f5": {
     "model_module": "@jupyter-widgets/controls",
     "model_module_version": "1.5.0",
     "model_name": "DescriptionStyleModel",
     "state": {
      "_model_module": "@jupyter-widgets/controls",
      "_model_module_version": "1.5.0",
      "_model_name": "DescriptionStyleModel",
      "_view_count": null,
      "_view_module": "@jupyter-widgets/base",
      "_view_module_version": "1.2.0",
      "_view_name": "StyleView",
      "description_width": ""
     }
    },
    "31a732fb4d2747bb8b2e79e04da3e23a": {
     "model_module": "@jupyter-widgets/controls",
     "model_module_version": "1.5.0",
     "model_name": "HBoxModel",
     "state": {
      "_dom_classes": [],
      "_model_module": "@jupyter-widgets/controls",
      "_model_module_version": "1.5.0",
      "_model_name": "HBoxModel",
      "_view_count": null,
      "_view_module": "@jupyter-widgets/controls",
      "_view_module_version": "1.5.0",
      "_view_name": "HBoxView",
      "box_style": "",
      "children": [
       "IPY_MODEL_d9a520bc6f7545ee8cd9914ca804c488",
       "IPY_MODEL_8ae39709178e424ea32644b99aba07eb",
       "IPY_MODEL_7a5c3bfb8e0d4bc0a5f0e88ff9106374"
      ],
      "layout": "IPY_MODEL_d556723eedae407098d6b6abcf9caefc"
     }
    },
    "3279fa126edf4eaf8cf9b9c921742866": {
     "model_module": "@jupyter-widgets/controls",
     "model_module_version": "1.5.0",
     "model_name": "HTMLModel",
     "state": {
      "_dom_classes": [],
      "_model_module": "@jupyter-widgets/controls",
      "_model_module_version": "1.5.0",
      "_model_name": "HTMLModel",
      "_view_count": null,
      "_view_module": "@jupyter-widgets/controls",
      "_view_module_version": "1.5.0",
      "_view_name": "HTMLView",
      "description": "",
      "description_tooltip": null,
      "layout": "IPY_MODEL_49186a4fb7fe47b09880b8936f79972a",
      "placeholder": "​",
      "style": "IPY_MODEL_99952decf0ee482ba25bd7e7423a75ab",
      "value": " 27435/27435 [00:00&lt;00:00, 37142.91 examples/s]"
     }
    },
    "347ffe215b48425a9466c5809c6c273d": {
     "model_module": "@jupyter-widgets/controls",
     "model_module_version": "1.5.0",
     "model_name": "ProgressStyleModel",
     "state": {
      "_model_module": "@jupyter-widgets/controls",
      "_model_module_version": "1.5.0",
      "_model_name": "ProgressStyleModel",
      "_view_count": null,
      "_view_module": "@jupyter-widgets/base",
      "_view_module_version": "1.2.0",
      "_view_name": "StyleView",
      "bar_color": null,
      "description_width": ""
     }
    },
    "3660199195bb4a6e8670025f88eca062": {
     "model_module": "@jupyter-widgets/controls",
     "model_module_version": "1.5.0",
     "model_name": "ProgressStyleModel",
     "state": {
      "_model_module": "@jupyter-widgets/controls",
      "_model_module_version": "1.5.0",
      "_model_name": "ProgressStyleModel",
      "_view_count": null,
      "_view_module": "@jupyter-widgets/base",
      "_view_module_version": "1.2.0",
      "_view_name": "StyleView",
      "bar_color": null,
      "description_width": ""
     }
    },
    "36b618391f4149f6ab86fafa2c18b365": {
     "model_module": "@jupyter-widgets/base",
     "model_module_version": "1.2.0",
     "model_name": "LayoutModel",
     "state": {
      "_model_module": "@jupyter-widgets/base",
      "_model_module_version": "1.2.0",
      "_model_name": "LayoutModel",
      "_view_count": null,
      "_view_module": "@jupyter-widgets/base",
      "_view_module_version": "1.2.0",
      "_view_name": "LayoutView",
      "align_content": null,
      "align_items": null,
      "align_self": null,
      "border": null,
      "bottom": null,
      "display": null,
      "flex": null,
      "flex_flow": null,
      "grid_area": null,
      "grid_auto_columns": null,
      "grid_auto_flow": null,
      "grid_auto_rows": null,
      "grid_column": null,
      "grid_gap": null,
      "grid_row": null,
      "grid_template_areas": null,
      "grid_template_columns": null,
      "grid_template_rows": null,
      "height": null,
      "justify_content": null,
      "justify_items": null,
      "left": null,
      "margin": null,
      "max_height": null,
      "max_width": null,
      "min_height": null,
      "min_width": null,
      "object_fit": null,
      "object_position": null,
      "order": null,
      "overflow": null,
      "overflow_x": null,
      "overflow_y": null,
      "padding": null,
      "right": null,
      "top": null,
      "visibility": null,
      "width": null
     }
    },
    "3b9b334011654fdfa63c0660baacc875": {
     "model_module": "@jupyter-widgets/base",
     "model_module_version": "1.2.0",
     "model_name": "LayoutModel",
     "state": {
      "_model_module": "@jupyter-widgets/base",
      "_model_module_version": "1.2.0",
      "_model_name": "LayoutModel",
      "_view_count": null,
      "_view_module": "@jupyter-widgets/base",
      "_view_module_version": "1.2.0",
      "_view_name": "LayoutView",
      "align_content": null,
      "align_items": null,
      "align_self": null,
      "border": null,
      "bottom": null,
      "display": null,
      "flex": null,
      "flex_flow": null,
      "grid_area": null,
      "grid_auto_columns": null,
      "grid_auto_flow": null,
      "grid_auto_rows": null,
      "grid_column": null,
      "grid_gap": null,
      "grid_row": null,
      "grid_template_areas": null,
      "grid_template_columns": null,
      "grid_template_rows": null,
      "height": null,
      "justify_content": null,
      "justify_items": null,
      "left": null,
      "margin": null,
      "max_height": null,
      "max_width": null,
      "min_height": null,
      "min_width": null,
      "object_fit": null,
      "object_position": null,
      "order": null,
      "overflow": null,
      "overflow_x": null,
      "overflow_y": null,
      "padding": null,
      "right": null,
      "top": null,
      "visibility": null,
      "width": "20px"
     }
    },
    "3babf96eb54a43ca837da035bf6a4ff7": {
     "model_module": "@jupyter-widgets/base",
     "model_module_version": "1.2.0",
     "model_name": "LayoutModel",
     "state": {
      "_model_module": "@jupyter-widgets/base",
      "_model_module_version": "1.2.0",
      "_model_name": "LayoutModel",
      "_view_count": null,
      "_view_module": "@jupyter-widgets/base",
      "_view_module_version": "1.2.0",
      "_view_name": "LayoutView",
      "align_content": null,
      "align_items": null,
      "align_self": null,
      "border": null,
      "bottom": null,
      "display": null,
      "flex": null,
      "flex_flow": null,
      "grid_area": null,
      "grid_auto_columns": null,
      "grid_auto_flow": null,
      "grid_auto_rows": null,
      "grid_column": null,
      "grid_gap": null,
      "grid_row": null,
      "grid_template_areas": null,
      "grid_template_columns": null,
      "grid_template_rows": null,
      "height": null,
      "justify_content": null,
      "justify_items": null,
      "left": null,
      "margin": null,
      "max_height": null,
      "max_width": null,
      "min_height": null,
      "min_width": null,
      "object_fit": null,
      "object_position": null,
      "order": null,
      "overflow": null,
      "overflow_x": null,
      "overflow_y": null,
      "padding": null,
      "right": null,
      "top": null,
      "visibility": null,
      "width": null
     }
    },
    "3f006f1084d241e0baaedb2e47eb5353": {
     "model_module": "@jupyter-widgets/controls",
     "model_module_version": "1.5.0",
     "model_name": "DescriptionStyleModel",
     "state": {
      "_model_module": "@jupyter-widgets/controls",
      "_model_module_version": "1.5.0",
      "_model_name": "DescriptionStyleModel",
      "_view_count": null,
      "_view_module": "@jupyter-widgets/base",
      "_view_module_version": "1.2.0",
      "_view_name": "StyleView",
      "description_width": ""
     }
    },
    "4255a80d762045548317d4578cc6a99f": {
     "model_module": "@jupyter-widgets/controls",
     "model_module_version": "1.5.0",
     "model_name": "HBoxModel",
     "state": {
      "_dom_classes": [],
      "_model_module": "@jupyter-widgets/controls",
      "_model_module_version": "1.5.0",
      "_model_name": "HBoxModel",
      "_view_count": null,
      "_view_module": "@jupyter-widgets/controls",
      "_view_module_version": "1.5.0",
      "_view_name": "HBoxView",
      "box_style": "",
      "children": [
       "IPY_MODEL_ac76652605194296871ef19912d1093c",
       "IPY_MODEL_ec78b7e25c5c441cadd8d69820857a10",
       "IPY_MODEL_442f750334be4c6eb3de47bb3a679783"
      ],
      "layout": "IPY_MODEL_5962517a2afc47b29b5f7f5952838ae4"
     }
    },
    "4281ef0b7e2c466d8ebca3037c79dcce": {
     "model_module": "@jupyter-widgets/base",
     "model_module_version": "1.2.0",
     "model_name": "LayoutModel",
     "state": {
      "_model_module": "@jupyter-widgets/base",
      "_model_module_version": "1.2.0",
      "_model_name": "LayoutModel",
      "_view_count": null,
      "_view_module": "@jupyter-widgets/base",
      "_view_module_version": "1.2.0",
      "_view_name": "LayoutView",
      "align_content": null,
      "align_items": null,
      "align_self": null,
      "border": null,
      "bottom": null,
      "display": null,
      "flex": null,
      "flex_flow": null,
      "grid_area": null,
      "grid_auto_columns": null,
      "grid_auto_flow": null,
      "grid_auto_rows": null,
      "grid_column": null,
      "grid_gap": null,
      "grid_row": null,
      "grid_template_areas": null,
      "grid_template_columns": null,
      "grid_template_rows": null,
      "height": null,
      "justify_content": null,
      "justify_items": null,
      "left": null,
      "margin": null,
      "max_height": null,
      "max_width": null,
      "min_height": null,
      "min_width": null,
      "object_fit": null,
      "object_position": null,
      "order": null,
      "overflow": null,
      "overflow_x": null,
      "overflow_y": null,
      "padding": null,
      "right": null,
      "top": null,
      "visibility": null,
      "width": null
     }
    },
    "4315a52a62744a87b08e84036ce7f273": {
     "model_module": "@jupyter-widgets/base",
     "model_module_version": "1.2.0",
     "model_name": "LayoutModel",
     "state": {
      "_model_module": "@jupyter-widgets/base",
      "_model_module_version": "1.2.0",
      "_model_name": "LayoutModel",
      "_view_count": null,
      "_view_module": "@jupyter-widgets/base",
      "_view_module_version": "1.2.0",
      "_view_name": "LayoutView",
      "align_content": null,
      "align_items": null,
      "align_self": null,
      "border": null,
      "bottom": null,
      "display": null,
      "flex": null,
      "flex_flow": null,
      "grid_area": null,
      "grid_auto_columns": null,
      "grid_auto_flow": null,
      "grid_auto_rows": null,
      "grid_column": null,
      "grid_gap": null,
      "grid_row": null,
      "grid_template_areas": null,
      "grid_template_columns": null,
      "grid_template_rows": null,
      "height": null,
      "justify_content": null,
      "justify_items": null,
      "left": null,
      "margin": null,
      "max_height": null,
      "max_width": null,
      "min_height": null,
      "min_width": null,
      "object_fit": null,
      "object_position": null,
      "order": null,
      "overflow": null,
      "overflow_x": null,
      "overflow_y": null,
      "padding": null,
      "right": null,
      "top": null,
      "visibility": null,
      "width": null
     }
    },
    "43ba75f2707b4e70925426acee07d3fd": {
     "model_module": "@jupyter-widgets/base",
     "model_module_version": "1.2.0",
     "model_name": "LayoutModel",
     "state": {
      "_model_module": "@jupyter-widgets/base",
      "_model_module_version": "1.2.0",
      "_model_name": "LayoutModel",
      "_view_count": null,
      "_view_module": "@jupyter-widgets/base",
      "_view_module_version": "1.2.0",
      "_view_name": "LayoutView",
      "align_content": null,
      "align_items": null,
      "align_self": null,
      "border": null,
      "bottom": null,
      "display": null,
      "flex": null,
      "flex_flow": null,
      "grid_area": null,
      "grid_auto_columns": null,
      "grid_auto_flow": null,
      "grid_auto_rows": null,
      "grid_column": null,
      "grid_gap": null,
      "grid_row": null,
      "grid_template_areas": null,
      "grid_template_columns": null,
      "grid_template_rows": null,
      "height": null,
      "justify_content": null,
      "justify_items": null,
      "left": null,
      "margin": null,
      "max_height": null,
      "max_width": null,
      "min_height": null,
      "min_width": null,
      "object_fit": null,
      "object_position": null,
      "order": null,
      "overflow": null,
      "overflow_x": null,
      "overflow_y": null,
      "padding": null,
      "right": null,
      "top": null,
      "visibility": null,
      "width": null
     }
    },
    "442f750334be4c6eb3de47bb3a679783": {
     "model_module": "@jupyter-widgets/controls",
     "model_module_version": "1.5.0",
     "model_name": "HTMLModel",
     "state": {
      "_dom_classes": [],
      "_model_module": "@jupyter-widgets/controls",
      "_model_module_version": "1.5.0",
      "_model_name": "HTMLModel",
      "_view_count": null,
      "_view_module": "@jupyter-widgets/controls",
      "_view_module_version": "1.5.0",
      "_view_name": "HTMLView",
      "description": "",
      "description_tooltip": null,
      "layout": "IPY_MODEL_cb32d5af4a914d01b8bb7d25f33421f0",
      "placeholder": "​",
      "style": "IPY_MODEL_1f72b3c2bf99414d89634868c350a538",
      "value": " 548M/548M [00:10&lt;00:00, 77.9MB/s]"
     }
    },
    "45b79fa0356b4fc5b3677ab418ee2b39": {
     "model_module": "@jupyter-widgets/controls",
     "model_module_version": "1.5.0",
     "model_name": "ProgressStyleModel",
     "state": {
      "_model_module": "@jupyter-widgets/controls",
      "_model_module_version": "1.5.0",
      "_model_name": "ProgressStyleModel",
      "_view_count": null,
      "_view_module": "@jupyter-widgets/base",
      "_view_module_version": "1.2.0",
      "_view_name": "StyleView",
      "bar_color": null,
      "description_width": ""
     }
    },
    "473541157df2446f9114037ba0439431": {
     "model_module": "@jupyter-widgets/controls",
     "model_module_version": "1.5.0",
     "model_name": "HTMLModel",
     "state": {
      "_dom_classes": [],
      "_model_module": "@jupyter-widgets/controls",
      "_model_module_version": "1.5.0",
      "_model_name": "HTMLModel",
      "_view_count": null,
      "_view_module": "@jupyter-widgets/controls",
      "_view_module_version": "1.5.0",
      "_view_name": "HTMLView",
      "description": "",
      "description_tooltip": null,
      "layout": "IPY_MODEL_5e93e7a380de4abdb2e81f2e904b733d",
      "placeholder": "​",
      "style": "IPY_MODEL_8c8848ef375140c6b22b91e38aaee2b9",
      "value": "merges.txt: 100%"
     }
    },
    "487631e412154f62b145198baf636ca4": {
     "model_module": "@jupyter-widgets/controls",
     "model_module_version": "1.5.0",
     "model_name": "ProgressStyleModel",
     "state": {
      "_model_module": "@jupyter-widgets/controls",
      "_model_module_version": "1.5.0",
      "_model_name": "ProgressStyleModel",
      "_view_count": null,
      "_view_module": "@jupyter-widgets/base",
      "_view_module_version": "1.2.0",
      "_view_name": "StyleView",
      "bar_color": null,
      "description_width": ""
     }
    },
    "49186a4fb7fe47b09880b8936f79972a": {
     "model_module": "@jupyter-widgets/base",
     "model_module_version": "1.2.0",
     "model_name": "LayoutModel",
     "state": {
      "_model_module": "@jupyter-widgets/base",
      "_model_module_version": "1.2.0",
      "_model_name": "LayoutModel",
      "_view_count": null,
      "_view_module": "@jupyter-widgets/base",
      "_view_module_version": "1.2.0",
      "_view_name": "LayoutView",
      "align_content": null,
      "align_items": null,
      "align_self": null,
      "border": null,
      "bottom": null,
      "display": null,
      "flex": null,
      "flex_flow": null,
      "grid_area": null,
      "grid_auto_columns": null,
      "grid_auto_flow": null,
      "grid_auto_rows": null,
      "grid_column": null,
      "grid_gap": null,
      "grid_row": null,
      "grid_template_areas": null,
      "grid_template_columns": null,
      "grid_template_rows": null,
      "height": null,
      "justify_content": null,
      "justify_items": null,
      "left": null,
      "margin": null,
      "max_height": null,
      "max_width": null,
      "min_height": null,
      "min_width": null,
      "object_fit": null,
      "object_position": null,
      "order": null,
      "overflow": null,
      "overflow_x": null,
      "overflow_y": null,
      "padding": null,
      "right": null,
      "top": null,
      "visibility": null,
      "width": null
     }
    },
    "499945734848421a810ec4af1822db32": {
     "model_module": "@jupyter-widgets/controls",
     "model_module_version": "1.5.0",
     "model_name": "DescriptionStyleModel",
     "state": {
      "_model_module": "@jupyter-widgets/controls",
      "_model_module_version": "1.5.0",
      "_model_name": "DescriptionStyleModel",
      "_view_count": null,
      "_view_module": "@jupyter-widgets/base",
      "_view_module_version": "1.2.0",
      "_view_name": "StyleView",
      "description_width": ""
     }
    },
    "4c1d292882cc465388d126901e5722a6": {
     "model_module": "@jupyter-widgets/controls",
     "model_module_version": "1.5.0",
     "model_name": "HTMLModel",
     "state": {
      "_dom_classes": [],
      "_model_module": "@jupyter-widgets/controls",
      "_model_module_version": "1.5.0",
      "_model_name": "HTMLModel",
      "_view_count": null,
      "_view_module": "@jupyter-widgets/controls",
      "_view_module_version": "1.5.0",
      "_view_name": "HTMLView",
      "description": "",
      "description_tooltip": null,
      "layout": "IPY_MODEL_1ef1e39fa39d4098a2f9223be02e1403",
      "placeholder": "​",
      "style": "IPY_MODEL_cacdc61acb0f461ba37c42621a89f702",
      "value": " 26.0/26.0 [00:00&lt;00:00, 793B/s]"
     }
    },
    "50636c8297394f6ba063b14845e92ca4": {
     "model_module": "@jupyter-widgets/base",
     "model_module_version": "1.2.0",
     "model_name": "LayoutModel",
     "state": {
      "_model_module": "@jupyter-widgets/base",
      "_model_module_version": "1.2.0",
      "_model_name": "LayoutModel",
      "_view_count": null,
      "_view_module": "@jupyter-widgets/base",
      "_view_module_version": "1.2.0",
      "_view_name": "LayoutView",
      "align_content": null,
      "align_items": null,
      "align_self": null,
      "border": null,
      "bottom": null,
      "display": null,
      "flex": null,
      "flex_flow": null,
      "grid_area": null,
      "grid_auto_columns": null,
      "grid_auto_flow": null,
      "grid_auto_rows": null,
      "grid_column": null,
      "grid_gap": null,
      "grid_row": null,
      "grid_template_areas": null,
      "grid_template_columns": null,
      "grid_template_rows": null,
      "height": null,
      "justify_content": null,
      "justify_items": null,
      "left": null,
      "margin": null,
      "max_height": null,
      "max_width": null,
      "min_height": null,
      "min_width": null,
      "object_fit": null,
      "object_position": null,
      "order": null,
      "overflow": null,
      "overflow_x": null,
      "overflow_y": null,
      "padding": null,
      "right": null,
      "top": null,
      "visibility": null,
      "width": null
     }
    },
    "5149754977f54c519b33d8cf2973d310": {
     "model_module": "@jupyter-widgets/base",
     "model_module_version": "1.2.0",
     "model_name": "LayoutModel",
     "state": {
      "_model_module": "@jupyter-widgets/base",
      "_model_module_version": "1.2.0",
      "_model_name": "LayoutModel",
      "_view_count": null,
      "_view_module": "@jupyter-widgets/base",
      "_view_module_version": "1.2.0",
      "_view_name": "LayoutView",
      "align_content": null,
      "align_items": null,
      "align_self": null,
      "border": null,
      "bottom": null,
      "display": null,
      "flex": null,
      "flex_flow": null,
      "grid_area": null,
      "grid_auto_columns": null,
      "grid_auto_flow": null,
      "grid_auto_rows": null,
      "grid_column": null,
      "grid_gap": null,
      "grid_row": null,
      "grid_template_areas": null,
      "grid_template_columns": null,
      "grid_template_rows": null,
      "height": null,
      "justify_content": null,
      "justify_items": null,
      "left": null,
      "margin": null,
      "max_height": null,
      "max_width": null,
      "min_height": null,
      "min_width": null,
      "object_fit": null,
      "object_position": null,
      "order": null,
      "overflow": null,
      "overflow_x": null,
      "overflow_y": null,
      "padding": null,
      "right": null,
      "top": null,
      "visibility": null,
      "width": null
     }
    },
    "569e51b8510e426abb265b583b720cae": {
     "model_module": "@jupyter-widgets/controls",
     "model_module_version": "1.5.0",
     "model_name": "DescriptionStyleModel",
     "state": {
      "_model_module": "@jupyter-widgets/controls",
      "_model_module_version": "1.5.0",
      "_model_name": "DescriptionStyleModel",
      "_view_count": null,
      "_view_module": "@jupyter-widgets/base",
      "_view_module_version": "1.2.0",
      "_view_name": "StyleView",
      "description_width": ""
     }
    },
    "5962517a2afc47b29b5f7f5952838ae4": {
     "model_module": "@jupyter-widgets/base",
     "model_module_version": "1.2.0",
     "model_name": "LayoutModel",
     "state": {
      "_model_module": "@jupyter-widgets/base",
      "_model_module_version": "1.2.0",
      "_model_name": "LayoutModel",
      "_view_count": null,
      "_view_module": "@jupyter-widgets/base",
      "_view_module_version": "1.2.0",
      "_view_name": "LayoutView",
      "align_content": null,
      "align_items": null,
      "align_self": null,
      "border": null,
      "bottom": null,
      "display": null,
      "flex": null,
      "flex_flow": null,
      "grid_area": null,
      "grid_auto_columns": null,
      "grid_auto_flow": null,
      "grid_auto_rows": null,
      "grid_column": null,
      "grid_gap": null,
      "grid_row": null,
      "grid_template_areas": null,
      "grid_template_columns": null,
      "grid_template_rows": null,
      "height": null,
      "justify_content": null,
      "justify_items": null,
      "left": null,
      "margin": null,
      "max_height": null,
      "max_width": null,
      "min_height": null,
      "min_width": null,
      "object_fit": null,
      "object_position": null,
      "order": null,
      "overflow": null,
      "overflow_x": null,
      "overflow_y": null,
      "padding": null,
      "right": null,
      "top": null,
      "visibility": null,
      "width": null
     }
    },
    "596725f34d064183902de4220a15e3d6": {
     "model_module": "@jupyter-widgets/base",
     "model_module_version": "1.2.0",
     "model_name": "LayoutModel",
     "state": {
      "_model_module": "@jupyter-widgets/base",
      "_model_module_version": "1.2.0",
      "_model_name": "LayoutModel",
      "_view_count": null,
      "_view_module": "@jupyter-widgets/base",
      "_view_module_version": "1.2.0",
      "_view_name": "LayoutView",
      "align_content": null,
      "align_items": null,
      "align_self": null,
      "border": null,
      "bottom": null,
      "display": null,
      "flex": null,
      "flex_flow": null,
      "grid_area": null,
      "grid_auto_columns": null,
      "grid_auto_flow": null,
      "grid_auto_rows": null,
      "grid_column": null,
      "grid_gap": null,
      "grid_row": null,
      "grid_template_areas": null,
      "grid_template_columns": null,
      "grid_template_rows": null,
      "height": null,
      "justify_content": null,
      "justify_items": null,
      "left": null,
      "margin": null,
      "max_height": null,
      "max_width": null,
      "min_height": null,
      "min_width": null,
      "object_fit": null,
      "object_position": null,
      "order": null,
      "overflow": null,
      "overflow_x": null,
      "overflow_y": null,
      "padding": null,
      "right": null,
      "top": null,
      "visibility": null,
      "width": null
     }
    },
    "5a020f35cd1e4952a38394ed9bd107c0": {
     "model_module": "@jupyter-widgets/base",
     "model_module_version": "1.2.0",
     "model_name": "LayoutModel",
     "state": {
      "_model_module": "@jupyter-widgets/base",
      "_model_module_version": "1.2.0",
      "_model_name": "LayoutModel",
      "_view_count": null,
      "_view_module": "@jupyter-widgets/base",
      "_view_module_version": "1.2.0",
      "_view_name": "LayoutView",
      "align_content": null,
      "align_items": null,
      "align_self": null,
      "border": null,
      "bottom": null,
      "display": null,
      "flex": null,
      "flex_flow": null,
      "grid_area": null,
      "grid_auto_columns": null,
      "grid_auto_flow": null,
      "grid_auto_rows": null,
      "grid_column": null,
      "grid_gap": null,
      "grid_row": null,
      "grid_template_areas": null,
      "grid_template_columns": null,
      "grid_template_rows": null,
      "height": null,
      "justify_content": null,
      "justify_items": null,
      "left": null,
      "margin": null,
      "max_height": null,
      "max_width": null,
      "min_height": null,
      "min_width": null,
      "object_fit": null,
      "object_position": null,
      "order": null,
      "overflow": null,
      "overflow_x": null,
      "overflow_y": null,
      "padding": null,
      "right": null,
      "top": null,
      "visibility": null,
      "width": null
     }
    },
    "5b6b63b003f24c60859557d69006ab89": {
     "model_module": "@jupyter-widgets/controls",
     "model_module_version": "1.5.0",
     "model_name": "HTMLModel",
     "state": {
      "_dom_classes": [],
      "_model_module": "@jupyter-widgets/controls",
      "_model_module_version": "1.5.0",
      "_model_name": "HTMLModel",
      "_view_count": null,
      "_view_module": "@jupyter-widgets/controls",
      "_view_module_version": "1.5.0",
      "_view_name": "HTMLView",
      "description": "",
      "description_tooltip": null,
      "layout": "IPY_MODEL_cd77936679934d259404d6c58b54872e",
      "placeholder": "​",
      "style": "IPY_MODEL_b24dba63e6214655a828f75c2688a7a8",
      "value": " 3533/3533 [00:01&lt;00:00, 2457.00 examples/s]"
     }
    },
    "5b95ee5ef8d3467cbb6513b103e4770e": {
     "model_module": "@jupyter-widgets/controls",
     "model_module_version": "1.5.0",
     "model_name": "HTMLModel",
     "state": {
      "_dom_classes": [],
      "_model_module": "@jupyter-widgets/controls",
      "_model_module_version": "1.5.0",
      "_model_name": "HTMLModel",
      "_view_count": null,
      "_view_module": "@jupyter-widgets/controls",
      "_view_module_version": "1.5.0",
      "_view_name": "HTMLView",
      "description": "",
      "description_tooltip": null,
      "layout": "IPY_MODEL_b4c84bf4e5534053ad90589bb9668341",
      "placeholder": "​",
      "style": "IPY_MODEL_abb5ad4f52794fb88da2906197b2560a",
      "value": "Map: 100%"
     }
    },
    "5e93e7a380de4abdb2e81f2e904b733d": {
     "model_module": "@jupyter-widgets/base",
     "model_module_version": "1.2.0",
     "model_name": "LayoutModel",
     "state": {
      "_model_module": "@jupyter-widgets/base",
      "_model_module_version": "1.2.0",
      "_model_name": "LayoutModel",
      "_view_count": null,
      "_view_module": "@jupyter-widgets/base",
      "_view_module_version": "1.2.0",
      "_view_name": "LayoutView",
      "align_content": null,
      "align_items": null,
      "align_self": null,
      "border": null,
      "bottom": null,
      "display": null,
      "flex": null,
      "flex_flow": null,
      "grid_area": null,
      "grid_auto_columns": null,
      "grid_auto_flow": null,
      "grid_auto_rows": null,
      "grid_column": null,
      "grid_gap": null,
      "grid_row": null,
      "grid_template_areas": null,
      "grid_template_columns": null,
      "grid_template_rows": null,
      "height": null,
      "justify_content": null,
      "justify_items": null,
      "left": null,
      "margin": null,
      "max_height": null,
      "max_width": null,
      "min_height": null,
      "min_width": null,
      "object_fit": null,
      "object_position": null,
      "order": null,
      "overflow": null,
      "overflow_x": null,
      "overflow_y": null,
      "padding": null,
      "right": null,
      "top": null,
      "visibility": null,
      "width": null
     }
    },
    "5f5efa738f21404fa6842bd3dcd74bd8": {
     "model_module": "@jupyter-widgets/controls",
     "model_module_version": "1.5.0",
     "model_name": "DescriptionStyleModel",
     "state": {
      "_model_module": "@jupyter-widgets/controls",
      "_model_module_version": "1.5.0",
      "_model_name": "DescriptionStyleModel",
      "_view_count": null,
      "_view_module": "@jupyter-widgets/base",
      "_view_module_version": "1.2.0",
      "_view_name": "StyleView",
      "description_width": ""
     }
    },
    "61494a9a37aa49fdb8cb16375949231e": {
     "model_module": "@jupyter-widgets/base",
     "model_module_version": "1.2.0",
     "model_name": "LayoutModel",
     "state": {
      "_model_module": "@jupyter-widgets/base",
      "_model_module_version": "1.2.0",
      "_model_name": "LayoutModel",
      "_view_count": null,
      "_view_module": "@jupyter-widgets/base",
      "_view_module_version": "1.2.0",
      "_view_name": "LayoutView",
      "align_content": null,
      "align_items": null,
      "align_self": null,
      "border": null,
      "bottom": null,
      "display": null,
      "flex": null,
      "flex_flow": null,
      "grid_area": null,
      "grid_auto_columns": null,
      "grid_auto_flow": null,
      "grid_auto_rows": null,
      "grid_column": null,
      "grid_gap": null,
      "grid_row": null,
      "grid_template_areas": null,
      "grid_template_columns": null,
      "grid_template_rows": null,
      "height": null,
      "justify_content": null,
      "justify_items": null,
      "left": null,
      "margin": null,
      "max_height": null,
      "max_width": null,
      "min_height": null,
      "min_width": null,
      "object_fit": null,
      "object_position": null,
      "order": null,
      "overflow": null,
      "overflow_x": null,
      "overflow_y": null,
      "padding": null,
      "right": null,
      "top": null,
      "visibility": null,
      "width": null
     }
    },
    "63a8a7390afb45c48f71f65c5fc2a3dc": {
     "model_module": "@jupyter-widgets/controls",
     "model_module_version": "1.5.0",
     "model_name": "DescriptionStyleModel",
     "state": {
      "_model_module": "@jupyter-widgets/controls",
      "_model_module_version": "1.5.0",
      "_model_name": "DescriptionStyleModel",
      "_view_count": null,
      "_view_module": "@jupyter-widgets/base",
      "_view_module_version": "1.2.0",
      "_view_name": "StyleView",
      "description_width": ""
     }
    },
    "654529883e29458382b47f696c4ed423": {
     "model_module": "@jupyter-widgets/controls",
     "model_module_version": "1.5.0",
     "model_name": "HTMLModel",
     "state": {
      "_dom_classes": [],
      "_model_module": "@jupyter-widgets/controls",
      "_model_module_version": "1.5.0",
      "_model_name": "HTMLModel",
      "_view_count": null,
      "_view_module": "@jupyter-widgets/controls",
      "_view_module_version": "1.5.0",
      "_view_name": "HTMLView",
      "description": "",
      "description_tooltip": null,
      "layout": "IPY_MODEL_78b8f65ffaf14aaabc75cf206eb39519",
      "placeholder": "​",
      "style": "IPY_MODEL_ae997c1c1a174938a24bd0d622e7ddac",
      "value": "Saving the dataset (1/1 shards): 100%"
     }
    },
    "66ad17c6913041b1bdcfff4e70b3ef94": {
     "model_module": "@jupyter-widgets/controls",
     "model_module_version": "1.5.0",
     "model_name": "HTMLModel",
     "state": {
      "_dom_classes": [],
      "_model_module": "@jupyter-widgets/controls",
      "_model_module_version": "1.5.0",
      "_model_name": "HTMLModel",
      "_view_count": null,
      "_view_module": "@jupyter-widgets/controls",
      "_view_module_version": "1.5.0",
      "_view_name": "HTMLView",
      "description": "",
      "description_tooltip": null,
      "layout": "IPY_MODEL_1c9b1d7188484facbd02453a2a7420d0",
      "placeholder": "​",
      "style": "IPY_MODEL_fe724671cc694d7894fc622fcf0bdf5c",
      "value": "tokenizer.json: 100%"
     }
    },
    "68f869c4efa64a0abb619a246f336a1b": {
     "model_module": "@jupyter-widgets/base",
     "model_module_version": "1.2.0",
     "model_name": "LayoutModel",
     "state": {
      "_model_module": "@jupyter-widgets/base",
      "_model_module_version": "1.2.0",
      "_model_name": "LayoutModel",
      "_view_count": null,
      "_view_module": "@jupyter-widgets/base",
      "_view_module_version": "1.2.0",
      "_view_name": "LayoutView",
      "align_content": null,
      "align_items": null,
      "align_self": null,
      "border": null,
      "bottom": null,
      "display": null,
      "flex": null,
      "flex_flow": null,
      "grid_area": null,
      "grid_auto_columns": null,
      "grid_auto_flow": null,
      "grid_auto_rows": null,
      "grid_column": null,
      "grid_gap": null,
      "grid_row": null,
      "grid_template_areas": null,
      "grid_template_columns": null,
      "grid_template_rows": null,
      "height": null,
      "justify_content": null,
      "justify_items": null,
      "left": null,
      "margin": null,
      "max_height": null,
      "max_width": null,
      "min_height": null,
      "min_width": null,
      "object_fit": null,
      "object_position": null,
      "order": null,
      "overflow": null,
      "overflow_x": null,
      "overflow_y": null,
      "padding": null,
      "right": null,
      "top": null,
      "visibility": null,
      "width": null
     }
    },
    "6991b61cab154da2953d426df35e0420": {
     "model_module": "@jupyter-widgets/base",
     "model_module_version": "1.2.0",
     "model_name": "LayoutModel",
     "state": {
      "_model_module": "@jupyter-widgets/base",
      "_model_module_version": "1.2.0",
      "_model_name": "LayoutModel",
      "_view_count": null,
      "_view_module": "@jupyter-widgets/base",
      "_view_module_version": "1.2.0",
      "_view_name": "LayoutView",
      "align_content": null,
      "align_items": null,
      "align_self": null,
      "border": null,
      "bottom": null,
      "display": null,
      "flex": null,
      "flex_flow": null,
      "grid_area": null,
      "grid_auto_columns": null,
      "grid_auto_flow": null,
      "grid_auto_rows": null,
      "grid_column": null,
      "grid_gap": null,
      "grid_row": null,
      "grid_template_areas": null,
      "grid_template_columns": null,
      "grid_template_rows": null,
      "height": null,
      "justify_content": null,
      "justify_items": null,
      "left": null,
      "margin": null,
      "max_height": null,
      "max_width": null,
      "min_height": null,
      "min_width": null,
      "object_fit": null,
      "object_position": null,
      "order": null,
      "overflow": null,
      "overflow_x": null,
      "overflow_y": null,
      "padding": null,
      "right": null,
      "top": null,
      "visibility": null,
      "width": null
     }
    },
    "6d26634270b84bfda51e3bcca2bf1d58": {
     "model_module": "@jupyter-widgets/controls",
     "model_module_version": "1.5.0",
     "model_name": "HTMLModel",
     "state": {
      "_dom_classes": [],
      "_model_module": "@jupyter-widgets/controls",
      "_model_module_version": "1.5.0",
      "_model_name": "HTMLModel",
      "_view_count": null,
      "_view_module": "@jupyter-widgets/controls",
      "_view_module_version": "1.5.0",
      "_view_name": "HTMLView",
      "description": "",
      "description_tooltip": null,
      "layout": "IPY_MODEL_ca9409b8084f4844ae658144465766e3",
      "placeholder": "​",
      "style": "IPY_MODEL_499945734848421a810ec4af1822db32",
      "value": "Map: 100%"
     }
    },
    "6dcff683979b4e03a2cab143e881b070": {
     "model_module": "@jupyter-widgets/base",
     "model_module_version": "1.2.0",
     "model_name": "LayoutModel",
     "state": {
      "_model_module": "@jupyter-widgets/base",
      "_model_module_version": "1.2.0",
      "_model_name": "LayoutModel",
      "_view_count": null,
      "_view_module": "@jupyter-widgets/base",
      "_view_module_version": "1.2.0",
      "_view_name": "LayoutView",
      "align_content": null,
      "align_items": null,
      "align_self": null,
      "border": null,
      "bottom": null,
      "display": null,
      "flex": null,
      "flex_flow": null,
      "grid_area": null,
      "grid_auto_columns": null,
      "grid_auto_flow": null,
      "grid_auto_rows": null,
      "grid_column": null,
      "grid_gap": null,
      "grid_row": null,
      "grid_template_areas": null,
      "grid_template_columns": null,
      "grid_template_rows": null,
      "height": null,
      "justify_content": null,
      "justify_items": null,
      "left": null,
      "margin": null,
      "max_height": null,
      "max_width": null,
      "min_height": null,
      "min_width": null,
      "object_fit": null,
      "object_position": null,
      "order": null,
      "overflow": null,
      "overflow_x": null,
      "overflow_y": null,
      "padding": null,
      "right": null,
      "top": null,
      "visibility": null,
      "width": null
     }
    },
    "6f21c39ce56e4212b59ed321ea65398b": {
     "model_module": "@jupyter-widgets/controls",
     "model_module_version": "1.5.0",
     "model_name": "DescriptionStyleModel",
     "state": {
      "_model_module": "@jupyter-widgets/controls",
      "_model_module_version": "1.5.0",
      "_model_name": "DescriptionStyleModel",
      "_view_count": null,
      "_view_module": "@jupyter-widgets/base",
      "_view_module_version": "1.2.0",
      "_view_name": "StyleView",
      "description_width": ""
     }
    },
    "6fd39f233e1547318977c634882bb57d": {
     "model_module": "@jupyter-widgets/controls",
     "model_module_version": "1.5.0",
     "model_name": "ProgressStyleModel",
     "state": {
      "_model_module": "@jupyter-widgets/controls",
      "_model_module_version": "1.5.0",
      "_model_name": "ProgressStyleModel",
      "_view_count": null,
      "_view_module": "@jupyter-widgets/base",
      "_view_module_version": "1.2.0",
      "_view_name": "StyleView",
      "bar_color": null,
      "description_width": ""
     }
    },
    "730cb790264e4b978e584c45b0658cbf": {
     "model_module": "@jupyter-widgets/controls",
     "model_module_version": "1.5.0",
     "model_name": "FloatProgressModel",
     "state": {
      "_dom_classes": [],
      "_model_module": "@jupyter-widgets/controls",
      "_model_module_version": "1.5.0",
      "_model_name": "FloatProgressModel",
      "_view_count": null,
      "_view_module": "@jupyter-widgets/controls",
      "_view_module_version": "1.5.0",
      "_view_name": "ProgressView",
      "bar_style": "success",
      "description": "",
      "description_tooltip": null,
      "layout": "IPY_MODEL_a46119d06e4f4e6a877da19ea1b16121",
      "max": 3533,
      "min": 0,
      "orientation": "horizontal",
      "style": "IPY_MODEL_04ad569d601c49b78f79a8722fbc9ca9",
      "value": 3533
     }
    },
    "739c6d29349d458ebf895838e045a0eb": {
     "model_module": "@jupyter-widgets/controls",
     "model_module_version": "1.5.0",
     "model_name": "HTMLModel",
     "state": {
      "_dom_classes": [],
      "_model_module": "@jupyter-widgets/controls",
      "_model_module_version": "1.5.0",
      "_model_name": "HTMLModel",
      "_view_count": null,
      "_view_module": "@jupyter-widgets/controls",
      "_view_module_version": "1.5.0",
      "_view_name": "HTMLView",
      "description": "",
      "description_tooltip": null,
      "layout": "IPY_MODEL_61494a9a37aa49fdb8cb16375949231e",
      "placeholder": "​",
      "style": "IPY_MODEL_6f21c39ce56e4212b59ed321ea65398b",
      "value": " 4.20k/? [00:00&lt;00:00, 181kB/s]"
     }
    },
    "748a8d5407bd4979857cf7408cf7808f": {
     "model_module": "@jupyter-widgets/controls",
     "model_module_version": "1.5.0",
     "model_name": "HBoxModel",
     "state": {
      "_dom_classes": [],
      "_model_module": "@jupyter-widgets/controls",
      "_model_module_version": "1.5.0",
      "_model_name": "HBoxModel",
      "_view_count": null,
      "_view_module": "@jupyter-widgets/controls",
      "_view_module_version": "1.5.0",
      "_view_name": "HBoxView",
      "box_style": "",
      "children": [
       "IPY_MODEL_473541157df2446f9114037ba0439431",
       "IPY_MODEL_c14b56ccffb0438a84174153134ac6bb",
       "IPY_MODEL_a08777eaaa4d48f2a703c02d300f661a"
      ],
      "layout": "IPY_MODEL_abc2b59a82094a7895c3a6426714a3e2"
     }
    },
    "750933647acf4a4faacb4924f66b7c6f": {
     "model_module": "@jupyter-widgets/controls",
     "model_module_version": "1.5.0",
     "model_name": "HTMLModel",
     "state": {
      "_dom_classes": [],
      "_model_module": "@jupyter-widgets/controls",
      "_model_module_version": "1.5.0",
      "_model_name": "HTMLModel",
      "_view_count": null,
      "_view_module": "@jupyter-widgets/controls",
      "_view_module_version": "1.5.0",
      "_view_name": "HTMLView",
      "description": "",
      "description_tooltip": null,
      "layout": "IPY_MODEL_a36e83b75e9648cea3ad34de19b8f6f3",
      "placeholder": "​",
      "style": "IPY_MODEL_a1f32a589bc245ff986fbe45a3457110",
      "value": " 1.36M/1.36M [00:00&lt;00:00, 5.55MB/s]"
     }
    },
    "78b8f65ffaf14aaabc75cf206eb39519": {
     "model_module": "@jupyter-widgets/base",
     "model_module_version": "1.2.0",
     "model_name": "LayoutModel",
     "state": {
      "_model_module": "@jupyter-widgets/base",
      "_model_module_version": "1.2.0",
      "_model_name": "LayoutModel",
      "_view_count": null,
      "_view_module": "@jupyter-widgets/base",
      "_view_module_version": "1.2.0",
      "_view_name": "LayoutView",
      "align_content": null,
      "align_items": null,
      "align_self": null,
      "border": null,
      "bottom": null,
      "display": null,
      "flex": null,
      "flex_flow": null,
      "grid_area": null,
      "grid_auto_columns": null,
      "grid_auto_flow": null,
      "grid_auto_rows": null,
      "grid_column": null,
      "grid_gap": null,
      "grid_row": null,
      "grid_template_areas": null,
      "grid_template_columns": null,
      "grid_template_rows": null,
      "height": null,
      "justify_content": null,
      "justify_items": null,
      "left": null,
      "margin": null,
      "max_height": null,
      "max_width": null,
      "min_height": null,
      "min_width": null,
      "object_fit": null,
      "object_position": null,
      "order": null,
      "overflow": null,
      "overflow_x": null,
      "overflow_y": null,
      "padding": null,
      "right": null,
      "top": null,
      "visibility": null,
      "width": null
     }
    },
    "7a5c3bfb8e0d4bc0a5f0e88ff9106374": {
     "model_module": "@jupyter-widgets/controls",
     "model_module_version": "1.5.0",
     "model_name": "HTMLModel",
     "state": {
      "_dom_classes": [],
      "_model_module": "@jupyter-widgets/controls",
      "_model_module_version": "1.5.0",
      "_model_name": "HTMLModel",
      "_view_count": null,
      "_view_module": "@jupyter-widgets/controls",
      "_view_module_version": "1.5.0",
      "_view_name": "HTMLView",
      "description": "",
      "description_tooltip": null,
      "layout": "IPY_MODEL_bb222de10e9e4ebabff02347958c5b86",
      "placeholder": "​",
      "style": "IPY_MODEL_1acd6563f516439499c3c027bfca1227",
      "value": " 1.04M/1.04M [00:00&lt;00:00, 4.29MB/s]"
     }
    },
    "7bb06aba28ae4b80bb5f2947e532aacf": {
     "model_module": "@jupyter-widgets/base",
     "model_module_version": "1.2.0",
     "model_name": "LayoutModel",
     "state": {
      "_model_module": "@jupyter-widgets/base",
      "_model_module_version": "1.2.0",
      "_model_name": "LayoutModel",
      "_view_count": null,
      "_view_module": "@jupyter-widgets/base",
      "_view_module_version": "1.2.0",
      "_view_name": "LayoutView",
      "align_content": null,
      "align_items": null,
      "align_self": null,
      "border": null,
      "bottom": null,
      "display": null,
      "flex": null,
      "flex_flow": null,
      "grid_area": null,
      "grid_auto_columns": null,
      "grid_auto_flow": null,
      "grid_auto_rows": null,
      "grid_column": null,
      "grid_gap": null,
      "grid_row": null,
      "grid_template_areas": null,
      "grid_template_columns": null,
      "grid_template_rows": null,
      "height": null,
      "justify_content": null,
      "justify_items": null,
      "left": null,
      "margin": null,
      "max_height": null,
      "max_width": null,
      "min_height": null,
      "min_width": null,
      "object_fit": null,
      "object_position": null,
      "order": null,
      "overflow": null,
      "overflow_x": null,
      "overflow_y": null,
      "padding": null,
      "right": null,
      "top": null,
      "visibility": null,
      "width": "20px"
     }
    },
    "7cf2e735313c4e568c4c837859f78ff8": {
     "model_module": "@jupyter-widgets/base",
     "model_module_version": "1.2.0",
     "model_name": "LayoutModel",
     "state": {
      "_model_module": "@jupyter-widgets/base",
      "_model_module_version": "1.2.0",
      "_model_name": "LayoutModel",
      "_view_count": null,
      "_view_module": "@jupyter-widgets/base",
      "_view_module_version": "1.2.0",
      "_view_name": "LayoutView",
      "align_content": null,
      "align_items": null,
      "align_self": null,
      "border": null,
      "bottom": null,
      "display": null,
      "flex": null,
      "flex_flow": null,
      "grid_area": null,
      "grid_auto_columns": null,
      "grid_auto_flow": null,
      "grid_auto_rows": null,
      "grid_column": null,
      "grid_gap": null,
      "grid_row": null,
      "grid_template_areas": null,
      "grid_template_columns": null,
      "grid_template_rows": null,
      "height": null,
      "justify_content": null,
      "justify_items": null,
      "left": null,
      "margin": null,
      "max_height": null,
      "max_width": null,
      "min_height": null,
      "min_width": null,
      "object_fit": null,
      "object_position": null,
      "order": null,
      "overflow": null,
      "overflow_x": null,
      "overflow_y": null,
      "padding": null,
      "right": null,
      "top": null,
      "visibility": null,
      "width": null
     }
    },
    "8037a16c2e7a4105b74ff6803e46c0d1": {
     "model_module": "@jupyter-widgets/controls",
     "model_module_version": "1.5.0",
     "model_name": "HBoxModel",
     "state": {
      "_dom_classes": [],
      "_model_module": "@jupyter-widgets/controls",
      "_model_module_version": "1.5.0",
      "_model_name": "HBoxModel",
      "_view_count": null,
      "_view_module": "@jupyter-widgets/controls",
      "_view_module_version": "1.5.0",
      "_view_name": "HBoxView",
      "box_style": "",
      "children": [
       "IPY_MODEL_654529883e29458382b47f696c4ed423",
       "IPY_MODEL_f0c80bf6c2e64744bbbc14388cecc3e6",
       "IPY_MODEL_3279fa126edf4eaf8cf9b9c921742866"
      ],
      "layout": "IPY_MODEL_848f62e3cd9a45d5b703398cf2b6b1e7"
     }
    },
    "80c38643ba284e61b01a03af4c0132d4": {
     "model_module": "@jupyter-widgets/controls",
     "model_module_version": "1.5.0",
     "model_name": "FloatProgressModel",
     "state": {
      "_dom_classes": [],
      "_model_module": "@jupyter-widgets/controls",
      "_model_module_version": "1.5.0",
      "_model_name": "FloatProgressModel",
      "_view_count": null,
      "_view_module": "@jupyter-widgets/controls",
      "_view_module_version": "1.5.0",
      "_view_name": "ProgressView",
      "bar_style": "success",
      "description": "",
      "description_tooltip": null,
      "layout": "IPY_MODEL_7bb06aba28ae4b80bb5f2947e532aacf",
      "max": 1,
      "min": 0,
      "orientation": "horizontal",
      "style": "IPY_MODEL_6fd39f233e1547318977c634882bb57d",
      "value": 1
     }
    },
    "848f62e3cd9a45d5b703398cf2b6b1e7": {
     "model_module": "@jupyter-widgets/base",
     "model_module_version": "1.2.0",
     "model_name": "LayoutModel",
     "state": {
      "_model_module": "@jupyter-widgets/base",
      "_model_module_version": "1.2.0",
      "_model_name": "LayoutModel",
      "_view_count": null,
      "_view_module": "@jupyter-widgets/base",
      "_view_module_version": "1.2.0",
      "_view_name": "LayoutView",
      "align_content": null,
      "align_items": null,
      "align_self": null,
      "border": null,
      "bottom": null,
      "display": null,
      "flex": null,
      "flex_flow": null,
      "grid_area": null,
      "grid_auto_columns": null,
      "grid_auto_flow": null,
      "grid_auto_rows": null,
      "grid_column": null,
      "grid_gap": null,
      "grid_row": null,
      "grid_template_areas": null,
      "grid_template_columns": null,
      "grid_template_rows": null,
      "height": null,
      "justify_content": null,
      "justify_items": null,
      "left": null,
      "margin": null,
      "max_height": null,
      "max_width": null,
      "min_height": null,
      "min_width": null,
      "object_fit": null,
      "object_position": null,
      "order": null,
      "overflow": null,
      "overflow_x": null,
      "overflow_y": null,
      "padding": null,
      "right": null,
      "top": null,
      "visibility": null,
      "width": null
     }
    },
    "8ae39709178e424ea32644b99aba07eb": {
     "model_module": "@jupyter-widgets/controls",
     "model_module_version": "1.5.0",
     "model_name": "FloatProgressModel",
     "state": {
      "_dom_classes": [],
      "_model_module": "@jupyter-widgets/controls",
      "_model_module_version": "1.5.0",
      "_model_name": "FloatProgressModel",
      "_view_count": null,
      "_view_module": "@jupyter-widgets/controls",
      "_view_module_version": "1.5.0",
      "_view_name": "ProgressView",
      "bar_style": "success",
      "description": "",
      "description_tooltip": null,
      "layout": "IPY_MODEL_d3f843167cfe4b7cb1aa6aee64c15b3f",
      "max": 1042301,
      "min": 0,
      "orientation": "horizontal",
      "style": "IPY_MODEL_45b79fa0356b4fc5b3677ab418ee2b39",
      "value": 1042301
     }
    },
    "8c8848ef375140c6b22b91e38aaee2b9": {
     "model_module": "@jupyter-widgets/controls",
     "model_module_version": "1.5.0",
     "model_name": "DescriptionStyleModel",
     "state": {
      "_model_module": "@jupyter-widgets/controls",
      "_model_module_version": "1.5.0",
      "_model_name": "DescriptionStyleModel",
      "_view_count": null,
      "_view_module": "@jupyter-widgets/base",
      "_view_module_version": "1.2.0",
      "_view_name": "StyleView",
      "description_width": ""
     }
    },
    "8fa9f1726fb44b4ba676dac621991ea2": {
     "model_module": "@jupyter-widgets/base",
     "model_module_version": "1.2.0",
     "model_name": "LayoutModel",
     "state": {
      "_model_module": "@jupyter-widgets/base",
      "_model_module_version": "1.2.0",
      "_model_name": "LayoutModel",
      "_view_count": null,
      "_view_module": "@jupyter-widgets/base",
      "_view_module_version": "1.2.0",
      "_view_name": "LayoutView",
      "align_content": null,
      "align_items": null,
      "align_self": null,
      "border": null,
      "bottom": null,
      "display": null,
      "flex": null,
      "flex_flow": null,
      "grid_area": null,
      "grid_auto_columns": null,
      "grid_auto_flow": null,
      "grid_auto_rows": null,
      "grid_column": null,
      "grid_gap": null,
      "grid_row": null,
      "grid_template_areas": null,
      "grid_template_columns": null,
      "grid_template_rows": null,
      "height": null,
      "justify_content": null,
      "justify_items": null,
      "left": null,
      "margin": null,
      "max_height": null,
      "max_width": null,
      "min_height": null,
      "min_width": null,
      "object_fit": null,
      "object_position": null,
      "order": null,
      "overflow": null,
      "overflow_x": null,
      "overflow_y": null,
      "padding": null,
      "right": null,
      "top": null,
      "visibility": null,
      "width": null
     }
    },
    "8fd1c89846dd4de3b047148b2390ca0f": {
     "model_module": "@jupyter-widgets/controls",
     "model_module_version": "1.5.0",
     "model_name": "HTMLModel",
     "state": {
      "_dom_classes": [],
      "_model_module": "@jupyter-widgets/controls",
      "_model_module_version": "1.5.0",
      "_model_name": "HTMLModel",
      "_view_count": null,
      "_view_module": "@jupyter-widgets/controls",
      "_view_module_version": "1.5.0",
      "_view_name": "HTMLView",
      "description": "",
      "description_tooltip": null,
      "layout": "IPY_MODEL_c06b51ef8b384ed486ff560bfbcf5c8d",
      "placeholder": "​",
      "style": "IPY_MODEL_569e51b8510e426abb265b583b720cae",
      "value": "Downloading builder script: "
     }
    },
    "9023f375e85842a797bf3356115b4148": {
     "model_module": "@jupyter-widgets/controls",
     "model_module_version": "1.5.0",
     "model_name": "DescriptionStyleModel",
     "state": {
      "_model_module": "@jupyter-widgets/controls",
      "_model_module_version": "1.5.0",
      "_model_name": "DescriptionStyleModel",
      "_view_count": null,
      "_view_module": "@jupyter-widgets/base",
      "_view_module_version": "1.2.0",
      "_view_name": "StyleView",
      "description_width": ""
     }
    },
    "99952decf0ee482ba25bd7e7423a75ab": {
     "model_module": "@jupyter-widgets/controls",
     "model_module_version": "1.5.0",
     "model_name": "DescriptionStyleModel",
     "state": {
      "_model_module": "@jupyter-widgets/controls",
      "_model_module_version": "1.5.0",
      "_model_name": "DescriptionStyleModel",
      "_view_count": null,
      "_view_module": "@jupyter-widgets/base",
      "_view_module_version": "1.2.0",
      "_view_name": "StyleView",
      "description_width": ""
     }
    },
    "a08777eaaa4d48f2a703c02d300f661a": {
     "model_module": "@jupyter-widgets/controls",
     "model_module_version": "1.5.0",
     "model_name": "HTMLModel",
     "state": {
      "_dom_classes": [],
      "_model_module": "@jupyter-widgets/controls",
      "_model_module_version": "1.5.0",
      "_model_name": "HTMLModel",
      "_view_count": null,
      "_view_module": "@jupyter-widgets/controls",
      "_view_module_version": "1.5.0",
      "_view_name": "HTMLView",
      "description": "",
      "description_tooltip": null,
      "layout": "IPY_MODEL_4281ef0b7e2c466d8ebca3037c79dcce",
      "placeholder": "​",
      "style": "IPY_MODEL_2b9fb728572e453088181acdb10ea78a",
      "value": " 456k/456k [00:00&lt;00:00, 5.41MB/s]"
     }
    },
    "a1f32a589bc245ff986fbe45a3457110": {
     "model_module": "@jupyter-widgets/controls",
     "model_module_version": "1.5.0",
     "model_name": "DescriptionStyleModel",
     "state": {
      "_model_module": "@jupyter-widgets/controls",
      "_model_module_version": "1.5.0",
      "_model_name": "DescriptionStyleModel",
      "_view_count": null,
      "_view_module": "@jupyter-widgets/base",
      "_view_module_version": "1.2.0",
      "_view_name": "StyleView",
      "description_width": ""
     }
    },
    "a2e8adaa2f8d4780af172c0a3de32f43": {
     "model_module": "@jupyter-widgets/base",
     "model_module_version": "1.2.0",
     "model_name": "LayoutModel",
     "state": {
      "_model_module": "@jupyter-widgets/base",
      "_model_module_version": "1.2.0",
      "_model_name": "LayoutModel",
      "_view_count": null,
      "_view_module": "@jupyter-widgets/base",
      "_view_module_version": "1.2.0",
      "_view_name": "LayoutView",
      "align_content": null,
      "align_items": null,
      "align_self": null,
      "border": null,
      "bottom": null,
      "display": null,
      "flex": null,
      "flex_flow": null,
      "grid_area": null,
      "grid_auto_columns": null,
      "grid_auto_flow": null,
      "grid_auto_rows": null,
      "grid_column": null,
      "grid_gap": null,
      "grid_row": null,
      "grid_template_areas": null,
      "grid_template_columns": null,
      "grid_template_rows": null,
      "height": null,
      "justify_content": null,
      "justify_items": null,
      "left": null,
      "margin": null,
      "max_height": null,
      "max_width": null,
      "min_height": null,
      "min_width": null,
      "object_fit": null,
      "object_position": null,
      "order": null,
      "overflow": null,
      "overflow_x": null,
      "overflow_y": null,
      "padding": null,
      "right": null,
      "top": null,
      "visibility": null,
      "width": null
     }
    },
    "a2eea41bc1f34784b87a4180ab07841a": {
     "model_module": "@jupyter-widgets/controls",
     "model_module_version": "1.5.0",
     "model_name": "FloatProgressModel",
     "state": {
      "_dom_classes": [],
      "_model_module": "@jupyter-widgets/controls",
      "_model_module_version": "1.5.0",
      "_model_name": "FloatProgressModel",
      "_view_count": null,
      "_view_module": "@jupyter-widgets/controls",
      "_view_module_version": "1.5.0",
      "_view_name": "ProgressView",
      "bar_style": "success",
      "description": "",
      "description_tooltip": null,
      "layout": "IPY_MODEL_a2e8adaa2f8d4780af172c0a3de32f43",
      "max": 26,
      "min": 0,
      "orientation": "horizontal",
      "style": "IPY_MODEL_bd2c49eea61043c0bad371f4e1fa2c16",
      "value": 26
     }
    },
    "a36e83b75e9648cea3ad34de19b8f6f3": {
     "model_module": "@jupyter-widgets/base",
     "model_module_version": "1.2.0",
     "model_name": "LayoutModel",
     "state": {
      "_model_module": "@jupyter-widgets/base",
      "_model_module_version": "1.2.0",
      "_model_name": "LayoutModel",
      "_view_count": null,
      "_view_module": "@jupyter-widgets/base",
      "_view_module_version": "1.2.0",
      "_view_name": "LayoutView",
      "align_content": null,
      "align_items": null,
      "align_self": null,
      "border": null,
      "bottom": null,
      "display": null,
      "flex": null,
      "flex_flow": null,
      "grid_area": null,
      "grid_auto_columns": null,
      "grid_auto_flow": null,
      "grid_auto_rows": null,
      "grid_column": null,
      "grid_gap": null,
      "grid_row": null,
      "grid_template_areas": null,
      "grid_template_columns": null,
      "grid_template_rows": null,
      "height": null,
      "justify_content": null,
      "justify_items": null,
      "left": null,
      "margin": null,
      "max_height": null,
      "max_width": null,
      "min_height": null,
      "min_width": null,
      "object_fit": null,
      "object_position": null,
      "order": null,
      "overflow": null,
      "overflow_x": null,
      "overflow_y": null,
      "padding": null,
      "right": null,
      "top": null,
      "visibility": null,
      "width": null
     }
    },
    "a46119d06e4f4e6a877da19ea1b16121": {
     "model_module": "@jupyter-widgets/base",
     "model_module_version": "1.2.0",
     "model_name": "LayoutModel",
     "state": {
      "_model_module": "@jupyter-widgets/base",
      "_model_module_version": "1.2.0",
      "_model_name": "LayoutModel",
      "_view_count": null,
      "_view_module": "@jupyter-widgets/base",
      "_view_module_version": "1.2.0",
      "_view_name": "LayoutView",
      "align_content": null,
      "align_items": null,
      "align_self": null,
      "border": null,
      "bottom": null,
      "display": null,
      "flex": null,
      "flex_flow": null,
      "grid_area": null,
      "grid_auto_columns": null,
      "grid_auto_flow": null,
      "grid_auto_rows": null,
      "grid_column": null,
      "grid_gap": null,
      "grid_row": null,
      "grid_template_areas": null,
      "grid_template_columns": null,
      "grid_template_rows": null,
      "height": null,
      "justify_content": null,
      "justify_items": null,
      "left": null,
      "margin": null,
      "max_height": null,
      "max_width": null,
      "min_height": null,
      "min_width": null,
      "object_fit": null,
      "object_position": null,
      "order": null,
      "overflow": null,
      "overflow_x": null,
      "overflow_y": null,
      "padding": null,
      "right": null,
      "top": null,
      "visibility": null,
      "width": null
     }
    },
    "a48f855494794564b4468bc0e013078b": {
     "model_module": "@jupyter-widgets/base",
     "model_module_version": "1.2.0",
     "model_name": "LayoutModel",
     "state": {
      "_model_module": "@jupyter-widgets/base",
      "_model_module_version": "1.2.0",
      "_model_name": "LayoutModel",
      "_view_count": null,
      "_view_module": "@jupyter-widgets/base",
      "_view_module_version": "1.2.0",
      "_view_name": "LayoutView",
      "align_content": null,
      "align_items": null,
      "align_self": null,
      "border": null,
      "bottom": null,
      "display": null,
      "flex": null,
      "flex_flow": null,
      "grid_area": null,
      "grid_auto_columns": null,
      "grid_auto_flow": null,
      "grid_auto_rows": null,
      "grid_column": null,
      "grid_gap": null,
      "grid_row": null,
      "grid_template_areas": null,
      "grid_template_columns": null,
      "grid_template_rows": null,
      "height": null,
      "justify_content": null,
      "justify_items": null,
      "left": null,
      "margin": null,
      "max_height": null,
      "max_width": null,
      "min_height": null,
      "min_width": null,
      "object_fit": null,
      "object_position": null,
      "order": null,
      "overflow": null,
      "overflow_x": null,
      "overflow_y": null,
      "padding": null,
      "right": null,
      "top": null,
      "visibility": null,
      "width": null
     }
    },
    "a4b4fdb635bb4fbda4834a08bf7602fd": {
     "model_module": "@jupyter-widgets/controls",
     "model_module_version": "1.5.0",
     "model_name": "HBoxModel",
     "state": {
      "_dom_classes": [],
      "_model_module": "@jupyter-widgets/controls",
      "_model_module_version": "1.5.0",
      "_model_name": "HBoxModel",
      "_view_count": null,
      "_view_module": "@jupyter-widgets/controls",
      "_view_module_version": "1.5.0",
      "_view_name": "HBoxView",
      "box_style": "",
      "children": [
       "IPY_MODEL_8fd1c89846dd4de3b047148b2390ca0f",
       "IPY_MODEL_d0e45c10bfb84bbea295ba1677cb3a15",
       "IPY_MODEL_c8db04d0c4cb4c60b096045e0c5ba2a7"
      ],
      "layout": "IPY_MODEL_3babf96eb54a43ca837da035bf6a4ff7"
     }
    },
    "a678783cc2724bb682c94df4e9283755": {
     "model_module": "@jupyter-widgets/base",
     "model_module_version": "1.2.0",
     "model_name": "LayoutModel",
     "state": {
      "_model_module": "@jupyter-widgets/base",
      "_model_module_version": "1.2.0",
      "_model_name": "LayoutModel",
      "_view_count": null,
      "_view_module": "@jupyter-widgets/base",
      "_view_module_version": "1.2.0",
      "_view_name": "LayoutView",
      "align_content": null,
      "align_items": null,
      "align_self": null,
      "border": null,
      "bottom": null,
      "display": null,
      "flex": null,
      "flex_flow": null,
      "grid_area": null,
      "grid_auto_columns": null,
      "grid_auto_flow": null,
      "grid_auto_rows": null,
      "grid_column": null,
      "grid_gap": null,
      "grid_row": null,
      "grid_template_areas": null,
      "grid_template_columns": null,
      "grid_template_rows": null,
      "height": null,
      "justify_content": null,
      "justify_items": null,
      "left": null,
      "margin": null,
      "max_height": null,
      "max_width": null,
      "min_height": null,
      "min_width": null,
      "object_fit": null,
      "object_position": null,
      "order": null,
      "overflow": null,
      "overflow_x": null,
      "overflow_y": null,
      "padding": null,
      "right": null,
      "top": null,
      "visibility": null,
      "width": null
     }
    },
    "abb5ad4f52794fb88da2906197b2560a": {
     "model_module": "@jupyter-widgets/controls",
     "model_module_version": "1.5.0",
     "model_name": "DescriptionStyleModel",
     "state": {
      "_model_module": "@jupyter-widgets/controls",
      "_model_module_version": "1.5.0",
      "_model_name": "DescriptionStyleModel",
      "_view_count": null,
      "_view_module": "@jupyter-widgets/base",
      "_view_module_version": "1.2.0",
      "_view_name": "StyleView",
      "description_width": ""
     }
    },
    "abc2b59a82094a7895c3a6426714a3e2": {
     "model_module": "@jupyter-widgets/base",
     "model_module_version": "1.2.0",
     "model_name": "LayoutModel",
     "state": {
      "_model_module": "@jupyter-widgets/base",
      "_model_module_version": "1.2.0",
      "_model_name": "LayoutModel",
      "_view_count": null,
      "_view_module": "@jupyter-widgets/base",
      "_view_module_version": "1.2.0",
      "_view_name": "LayoutView",
      "align_content": null,
      "align_items": null,
      "align_self": null,
      "border": null,
      "bottom": null,
      "display": null,
      "flex": null,
      "flex_flow": null,
      "grid_area": null,
      "grid_auto_columns": null,
      "grid_auto_flow": null,
      "grid_auto_rows": null,
      "grid_column": null,
      "grid_gap": null,
      "grid_row": null,
      "grid_template_areas": null,
      "grid_template_columns": null,
      "grid_template_rows": null,
      "height": null,
      "justify_content": null,
      "justify_items": null,
      "left": null,
      "margin": null,
      "max_height": null,
      "max_width": null,
      "min_height": null,
      "min_width": null,
      "object_fit": null,
      "object_position": null,
      "order": null,
      "overflow": null,
      "overflow_x": null,
      "overflow_y": null,
      "padding": null,
      "right": null,
      "top": null,
      "visibility": null,
      "width": null
     }
    },
    "ac76652605194296871ef19912d1093c": {
     "model_module": "@jupyter-widgets/controls",
     "model_module_version": "1.5.0",
     "model_name": "HTMLModel",
     "state": {
      "_dom_classes": [],
      "_model_module": "@jupyter-widgets/controls",
      "_model_module_version": "1.5.0",
      "_model_name": "HTMLModel",
      "_view_count": null,
      "_view_module": "@jupyter-widgets/controls",
      "_view_module_version": "1.5.0",
      "_view_name": "HTMLView",
      "description": "",
      "description_tooltip": null,
      "layout": "IPY_MODEL_e79c55e94b4a447c8c5b794e63133c0a",
      "placeholder": "​",
      "style": "IPY_MODEL_b4e2f261a7034954ada2e8f65d24dedf",
      "value": "model.safetensors: 100%"
     }
    },
    "ae2c8128dac64510bbb57269bce933e3": {
     "model_module": "@jupyter-widgets/controls",
     "model_module_version": "1.5.0",
     "model_name": "DescriptionStyleModel",
     "state": {
      "_model_module": "@jupyter-widgets/controls",
      "_model_module_version": "1.5.0",
      "_model_name": "DescriptionStyleModel",
      "_view_count": null,
      "_view_module": "@jupyter-widgets/base",
      "_view_module_version": "1.2.0",
      "_view_name": "StyleView",
      "description_width": ""
     }
    },
    "ae997c1c1a174938a24bd0d622e7ddac": {
     "model_module": "@jupyter-widgets/controls",
     "model_module_version": "1.5.0",
     "model_name": "DescriptionStyleModel",
     "state": {
      "_model_module": "@jupyter-widgets/controls",
      "_model_module_version": "1.5.0",
      "_model_name": "DescriptionStyleModel",
      "_view_count": null,
      "_view_module": "@jupyter-widgets/base",
      "_view_module_version": "1.2.0",
      "_view_name": "StyleView",
      "description_width": ""
     }
    },
    "b09c928e81d340ebb97c88758313ffbf": {
     "model_module": "@jupyter-widgets/controls",
     "model_module_version": "1.5.0",
     "model_name": "ProgressStyleModel",
     "state": {
      "_model_module": "@jupyter-widgets/controls",
      "_model_module_version": "1.5.0",
      "_model_name": "ProgressStyleModel",
      "_view_count": null,
      "_view_module": "@jupyter-widgets/base",
      "_view_module_version": "1.2.0",
      "_view_name": "StyleView",
      "bar_color": null,
      "description_width": ""
     }
    },
    "b0a7330739ba466da0e355b8c840db54": {
     "model_module": "@jupyter-widgets/base",
     "model_module_version": "1.2.0",
     "model_name": "LayoutModel",
     "state": {
      "_model_module": "@jupyter-widgets/base",
      "_model_module_version": "1.2.0",
      "_model_name": "LayoutModel",
      "_view_count": null,
      "_view_module": "@jupyter-widgets/base",
      "_view_module_version": "1.2.0",
      "_view_name": "LayoutView",
      "align_content": null,
      "align_items": null,
      "align_self": null,
      "border": null,
      "bottom": null,
      "display": null,
      "flex": null,
      "flex_flow": null,
      "grid_area": null,
      "grid_auto_columns": null,
      "grid_auto_flow": null,
      "grid_auto_rows": null,
      "grid_column": null,
      "grid_gap": null,
      "grid_row": null,
      "grid_template_areas": null,
      "grid_template_columns": null,
      "grid_template_rows": null,
      "height": null,
      "justify_content": null,
      "justify_items": null,
      "left": null,
      "margin": null,
      "max_height": null,
      "max_width": null,
      "min_height": null,
      "min_width": null,
      "object_fit": null,
      "object_position": null,
      "order": null,
      "overflow": null,
      "overflow_x": null,
      "overflow_y": null,
      "padding": null,
      "right": null,
      "top": null,
      "visibility": null,
      "width": null
     }
    },
    "b24dba63e6214655a828f75c2688a7a8": {
     "model_module": "@jupyter-widgets/controls",
     "model_module_version": "1.5.0",
     "model_name": "DescriptionStyleModel",
     "state": {
      "_model_module": "@jupyter-widgets/controls",
      "_model_module_version": "1.5.0",
      "_model_name": "DescriptionStyleModel",
      "_view_count": null,
      "_view_module": "@jupyter-widgets/base",
      "_view_module_version": "1.2.0",
      "_view_name": "StyleView",
      "description_width": ""
     }
    },
    "b4c84bf4e5534053ad90589bb9668341": {
     "model_module": "@jupyter-widgets/base",
     "model_module_version": "1.2.0",
     "model_name": "LayoutModel",
     "state": {
      "_model_module": "@jupyter-widgets/base",
      "_model_module_version": "1.2.0",
      "_model_name": "LayoutModel",
      "_view_count": null,
      "_view_module": "@jupyter-widgets/base",
      "_view_module_version": "1.2.0",
      "_view_name": "LayoutView",
      "align_content": null,
      "align_items": null,
      "align_self": null,
      "border": null,
      "bottom": null,
      "display": null,
      "flex": null,
      "flex_flow": null,
      "grid_area": null,
      "grid_auto_columns": null,
      "grid_auto_flow": null,
      "grid_auto_rows": null,
      "grid_column": null,
      "grid_gap": null,
      "grid_row": null,
      "grid_template_areas": null,
      "grid_template_columns": null,
      "grid_template_rows": null,
      "height": null,
      "justify_content": null,
      "justify_items": null,
      "left": null,
      "margin": null,
      "max_height": null,
      "max_width": null,
      "min_height": null,
      "min_width": null,
      "object_fit": null,
      "object_position": null,
      "order": null,
      "overflow": null,
      "overflow_x": null,
      "overflow_y": null,
      "padding": null,
      "right": null,
      "top": null,
      "visibility": null,
      "width": null
     }
    },
    "b4e2f261a7034954ada2e8f65d24dedf": {
     "model_module": "@jupyter-widgets/controls",
     "model_module_version": "1.5.0",
     "model_name": "DescriptionStyleModel",
     "state": {
      "_model_module": "@jupyter-widgets/controls",
      "_model_module_version": "1.5.0",
      "_model_name": "DescriptionStyleModel",
      "_view_count": null,
      "_view_module": "@jupyter-widgets/base",
      "_view_module_version": "1.2.0",
      "_view_name": "StyleView",
      "description_width": ""
     }
    },
    "b9b0c622d1d340edaa6c18dde3f1f4f5": {
     "model_module": "@jupyter-widgets/controls",
     "model_module_version": "1.5.0",
     "model_name": "FloatProgressModel",
     "state": {
      "_dom_classes": [],
      "_model_module": "@jupyter-widgets/controls",
      "_model_module_version": "1.5.0",
      "_model_name": "FloatProgressModel",
      "_view_count": null,
      "_view_module": "@jupyter-widgets/controls",
      "_view_module_version": "1.5.0",
      "_view_name": "ProgressView",
      "bar_style": "success",
      "description": "",
      "description_tooltip": null,
      "layout": "IPY_MODEL_8fa9f1726fb44b4ba676dac621991ea2",
      "max": 665,
      "min": 0,
      "orientation": "horizontal",
      "style": "IPY_MODEL_347ffe215b48425a9466c5809c6c273d",
      "value": 665
     }
    },
    "ba2589277fb94b30836ad513d25c62e5": {
     "model_module": "@jupyter-widgets/controls",
     "model_module_version": "1.5.0",
     "model_name": "ProgressStyleModel",
     "state": {
      "_model_module": "@jupyter-widgets/controls",
      "_model_module_version": "1.5.0",
      "_model_name": "ProgressStyleModel",
      "_view_count": null,
      "_view_module": "@jupyter-widgets/base",
      "_view_module_version": "1.2.0",
      "_view_name": "StyleView",
      "bar_color": null,
      "description_width": ""
     }
    },
    "bb18b5a11889424e951313cfdfdd1b57": {
     "model_module": "@jupyter-widgets/controls",
     "model_module_version": "1.5.0",
     "model_name": "HBoxModel",
     "state": {
      "_dom_classes": [],
      "_model_module": "@jupyter-widgets/controls",
      "_model_module_version": "1.5.0",
      "_model_name": "HBoxModel",
      "_view_count": null,
      "_view_module": "@jupyter-widgets/controls",
      "_view_module_version": "1.5.0",
      "_view_name": "HBoxView",
      "box_style": "",
      "children": [
       "IPY_MODEL_d30034e9bf6f4a3bbbf4a2e751252153",
       "IPY_MODEL_b9b0c622d1d340edaa6c18dde3f1f4f5",
       "IPY_MODEL_db3d19218a1f4f7480242f346904d043"
      ],
      "layout": "IPY_MODEL_a678783cc2724bb682c94df4e9283755"
     }
    },
    "bb222de10e9e4ebabff02347958c5b86": {
     "model_module": "@jupyter-widgets/base",
     "model_module_version": "1.2.0",
     "model_name": "LayoutModel",
     "state": {
      "_model_module": "@jupyter-widgets/base",
      "_model_module_version": "1.2.0",
      "_model_name": "LayoutModel",
      "_view_count": null,
      "_view_module": "@jupyter-widgets/base",
      "_view_module_version": "1.2.0",
      "_view_name": "LayoutView",
      "align_content": null,
      "align_items": null,
      "align_self": null,
      "border": null,
      "bottom": null,
      "display": null,
      "flex": null,
      "flex_flow": null,
      "grid_area": null,
      "grid_auto_columns": null,
      "grid_auto_flow": null,
      "grid_auto_rows": null,
      "grid_column": null,
      "grid_gap": null,
      "grid_row": null,
      "grid_template_areas": null,
      "grid_template_columns": null,
      "grid_template_rows": null,
      "height": null,
      "justify_content": null,
      "justify_items": null,
      "left": null,
      "margin": null,
      "max_height": null,
      "max_width": null,
      "min_height": null,
      "min_width": null,
      "object_fit": null,
      "object_position": null,
      "order": null,
      "overflow": null,
      "overflow_x": null,
      "overflow_y": null,
      "padding": null,
      "right": null,
      "top": null,
      "visibility": null,
      "width": null
     }
    },
    "bd01520cd8af4640bcd7102204154dc2": {
     "model_module": "@jupyter-widgets/controls",
     "model_module_version": "1.5.0",
     "model_name": "ProgressStyleModel",
     "state": {
      "_model_module": "@jupyter-widgets/controls",
      "_model_module_version": "1.5.0",
      "_model_name": "ProgressStyleModel",
      "_view_count": null,
      "_view_module": "@jupyter-widgets/base",
      "_view_module_version": "1.2.0",
      "_view_name": "StyleView",
      "bar_color": null,
      "description_width": ""
     }
    },
    "bd2c49eea61043c0bad371f4e1fa2c16": {
     "model_module": "@jupyter-widgets/controls",
     "model_module_version": "1.5.0",
     "model_name": "ProgressStyleModel",
     "state": {
      "_model_module": "@jupyter-widgets/controls",
      "_model_module_version": "1.5.0",
      "_model_name": "ProgressStyleModel",
      "_view_count": null,
      "_view_module": "@jupyter-widgets/base",
      "_view_module_version": "1.2.0",
      "_view_name": "StyleView",
      "bar_color": null,
      "description_width": ""
     }
    },
    "c06b51ef8b384ed486ff560bfbcf5c8d": {
     "model_module": "@jupyter-widgets/base",
     "model_module_version": "1.2.0",
     "model_name": "LayoutModel",
     "state": {
      "_model_module": "@jupyter-widgets/base",
      "_model_module_version": "1.2.0",
      "_model_name": "LayoutModel",
      "_view_count": null,
      "_view_module": "@jupyter-widgets/base",
      "_view_module_version": "1.2.0",
      "_view_name": "LayoutView",
      "align_content": null,
      "align_items": null,
      "align_self": null,
      "border": null,
      "bottom": null,
      "display": null,
      "flex": null,
      "flex_flow": null,
      "grid_area": null,
      "grid_auto_columns": null,
      "grid_auto_flow": null,
      "grid_auto_rows": null,
      "grid_column": null,
      "grid_gap": null,
      "grid_row": null,
      "grid_template_areas": null,
      "grid_template_columns": null,
      "grid_template_rows": null,
      "height": null,
      "justify_content": null,
      "justify_items": null,
      "left": null,
      "margin": null,
      "max_height": null,
      "max_width": null,
      "min_height": null,
      "min_width": null,
      "object_fit": null,
      "object_position": null,
      "order": null,
      "overflow": null,
      "overflow_x": null,
      "overflow_y": null,
      "padding": null,
      "right": null,
      "top": null,
      "visibility": null,
      "width": null
     }
    },
    "c14b56ccffb0438a84174153134ac6bb": {
     "model_module": "@jupyter-widgets/controls",
     "model_module_version": "1.5.0",
     "model_name": "FloatProgressModel",
     "state": {
      "_dom_classes": [],
      "_model_module": "@jupyter-widgets/controls",
      "_model_module_version": "1.5.0",
      "_model_name": "FloatProgressModel",
      "_view_count": null,
      "_view_module": "@jupyter-widgets/controls",
      "_view_module_version": "1.5.0",
      "_view_name": "ProgressView",
      "bar_style": "success",
      "description": "",
      "description_tooltip": null,
      "layout": "IPY_MODEL_4315a52a62744a87b08e84036ce7f273",
      "max": 456318,
      "min": 0,
      "orientation": "horizontal",
      "style": "IPY_MODEL_c588e82c7eeb469cb04f315ab443601f",
      "value": 456318
     }
    },
    "c588e82c7eeb469cb04f315ab443601f": {
     "model_module": "@jupyter-widgets/controls",
     "model_module_version": "1.5.0",
     "model_name": "ProgressStyleModel",
     "state": {
      "_model_module": "@jupyter-widgets/controls",
      "_model_module_version": "1.5.0",
      "_model_name": "ProgressStyleModel",
      "_view_count": null,
      "_view_module": "@jupyter-widgets/base",
      "_view_module_version": "1.2.0",
      "_view_name": "StyleView",
      "bar_color": null,
      "description_width": ""
     }
    },
    "c7b1826d518a493a9085a5f7317496d5": {
     "model_module": "@jupyter-widgets/base",
     "model_module_version": "1.2.0",
     "model_name": "LayoutModel",
     "state": {
      "_model_module": "@jupyter-widgets/base",
      "_model_module_version": "1.2.0",
      "_model_name": "LayoutModel",
      "_view_count": null,
      "_view_module": "@jupyter-widgets/base",
      "_view_module_version": "1.2.0",
      "_view_name": "LayoutView",
      "align_content": null,
      "align_items": null,
      "align_self": null,
      "border": null,
      "bottom": null,
      "display": null,
      "flex": null,
      "flex_flow": null,
      "grid_area": null,
      "grid_auto_columns": null,
      "grid_auto_flow": null,
      "grid_auto_rows": null,
      "grid_column": null,
      "grid_gap": null,
      "grid_row": null,
      "grid_template_areas": null,
      "grid_template_columns": null,
      "grid_template_rows": null,
      "height": null,
      "justify_content": null,
      "justify_items": null,
      "left": null,
      "margin": null,
      "max_height": null,
      "max_width": null,
      "min_height": null,
      "min_width": null,
      "object_fit": null,
      "object_position": null,
      "order": null,
      "overflow": null,
      "overflow_x": null,
      "overflow_y": null,
      "padding": null,
      "right": null,
      "top": null,
      "visibility": null,
      "width": null
     }
    },
    "c8db04d0c4cb4c60b096045e0c5ba2a7": {
     "model_module": "@jupyter-widgets/controls",
     "model_module_version": "1.5.0",
     "model_name": "HTMLModel",
     "state": {
      "_dom_classes": [],
      "_model_module": "@jupyter-widgets/controls",
      "_model_module_version": "1.5.0",
      "_model_name": "HTMLModel",
      "_view_count": null,
      "_view_module": "@jupyter-widgets/controls",
      "_view_module_version": "1.5.0",
      "_view_name": "HTMLView",
      "description": "",
      "description_tooltip": null,
      "layout": "IPY_MODEL_a48f855494794564b4468bc0e013078b",
      "placeholder": "​",
      "style": "IPY_MODEL_3f006f1084d241e0baaedb2e47eb5353",
      "value": " 6.79k/? [00:00&lt;00:00, 197kB/s]"
     }
    },
    "ca9409b8084f4844ae658144465766e3": {
     "model_module": "@jupyter-widgets/base",
     "model_module_version": "1.2.0",
     "model_name": "LayoutModel",
     "state": {
      "_model_module": "@jupyter-widgets/base",
      "_model_module_version": "1.2.0",
      "_model_name": "LayoutModel",
      "_view_count": null,
      "_view_module": "@jupyter-widgets/base",
      "_view_module_version": "1.2.0",
      "_view_name": "LayoutView",
      "align_content": null,
      "align_items": null,
      "align_self": null,
      "border": null,
      "bottom": null,
      "display": null,
      "flex": null,
      "flex_flow": null,
      "grid_area": null,
      "grid_auto_columns": null,
      "grid_auto_flow": null,
      "grid_auto_rows": null,
      "grid_column": null,
      "grid_gap": null,
      "grid_row": null,
      "grid_template_areas": null,
      "grid_template_columns": null,
      "grid_template_rows": null,
      "height": null,
      "justify_content": null,
      "justify_items": null,
      "left": null,
      "margin": null,
      "max_height": null,
      "max_width": null,
      "min_height": null,
      "min_width": null,
      "object_fit": null,
      "object_position": null,
      "order": null,
      "overflow": null,
      "overflow_x": null,
      "overflow_y": null,
      "padding": null,
      "right": null,
      "top": null,
      "visibility": null,
      "width": null
     }
    },
    "cacdc61acb0f461ba37c42621a89f702": {
     "model_module": "@jupyter-widgets/controls",
     "model_module_version": "1.5.0",
     "model_name": "DescriptionStyleModel",
     "state": {
      "_model_module": "@jupyter-widgets/controls",
      "_model_module_version": "1.5.0",
      "_model_name": "DescriptionStyleModel",
      "_view_count": null,
      "_view_module": "@jupyter-widgets/base",
      "_view_module_version": "1.2.0",
      "_view_name": "StyleView",
      "description_width": ""
     }
    },
    "cb32d5af4a914d01b8bb7d25f33421f0": {
     "model_module": "@jupyter-widgets/base",
     "model_module_version": "1.2.0",
     "model_name": "LayoutModel",
     "state": {
      "_model_module": "@jupyter-widgets/base",
      "_model_module_version": "1.2.0",
      "_model_name": "LayoutModel",
      "_view_count": null,
      "_view_module": "@jupyter-widgets/base",
      "_view_module_version": "1.2.0",
      "_view_name": "LayoutView",
      "align_content": null,
      "align_items": null,
      "align_self": null,
      "border": null,
      "bottom": null,
      "display": null,
      "flex": null,
      "flex_flow": null,
      "grid_area": null,
      "grid_auto_columns": null,
      "grid_auto_flow": null,
      "grid_auto_rows": null,
      "grid_column": null,
      "grid_gap": null,
      "grid_row": null,
      "grid_template_areas": null,
      "grid_template_columns": null,
      "grid_template_rows": null,
      "height": null,
      "justify_content": null,
      "justify_items": null,
      "left": null,
      "margin": null,
      "max_height": null,
      "max_width": null,
      "min_height": null,
      "min_width": null,
      "object_fit": null,
      "object_position": null,
      "order": null,
      "overflow": null,
      "overflow_x": null,
      "overflow_y": null,
      "padding": null,
      "right": null,
      "top": null,
      "visibility": null,
      "width": null
     }
    },
    "cd77936679934d259404d6c58b54872e": {
     "model_module": "@jupyter-widgets/base",
     "model_module_version": "1.2.0",
     "model_name": "LayoutModel",
     "state": {
      "_model_module": "@jupyter-widgets/base",
      "_model_module_version": "1.2.0",
      "_model_name": "LayoutModel",
      "_view_count": null,
      "_view_module": "@jupyter-widgets/base",
      "_view_module_version": "1.2.0",
      "_view_name": "LayoutView",
      "align_content": null,
      "align_items": null,
      "align_self": null,
      "border": null,
      "bottom": null,
      "display": null,
      "flex": null,
      "flex_flow": null,
      "grid_area": null,
      "grid_auto_columns": null,
      "grid_auto_flow": null,
      "grid_auto_rows": null,
      "grid_column": null,
      "grid_gap": null,
      "grid_row": null,
      "grid_template_areas": null,
      "grid_template_columns": null,
      "grid_template_rows": null,
      "height": null,
      "justify_content": null,
      "justify_items": null,
      "left": null,
      "margin": null,
      "max_height": null,
      "max_width": null,
      "min_height": null,
      "min_width": null,
      "object_fit": null,
      "object_position": null,
      "order": null,
      "overflow": null,
      "overflow_x": null,
      "overflow_y": null,
      "padding": null,
      "right": null,
      "top": null,
      "visibility": null,
      "width": null
     }
    },
    "d06afa4337a044fb94d1adfb881085dd": {
     "model_module": "@jupyter-widgets/controls",
     "model_module_version": "1.5.0",
     "model_name": "HTMLModel",
     "state": {
      "_dom_classes": [],
      "_model_module": "@jupyter-widgets/controls",
      "_model_module_version": "1.5.0",
      "_model_name": "HTMLModel",
      "_view_count": null,
      "_view_module": "@jupyter-widgets/controls",
      "_view_module_version": "1.5.0",
      "_view_name": "HTMLView",
      "description": "",
      "description_tooltip": null,
      "layout": "IPY_MODEL_d46635fbee58419e87e5f31518ab8225",
      "placeholder": "​",
      "style": "IPY_MODEL_5f5efa738f21404fa6842bd3dcd74bd8",
      "value": "tokenizer_config.json: 100%"
     }
    },
    "d0e45c10bfb84bbea295ba1677cb3a15": {
     "model_module": "@jupyter-widgets/controls",
     "model_module_version": "1.5.0",
     "model_name": "FloatProgressModel",
     "state": {
      "_dom_classes": [],
      "_model_module": "@jupyter-widgets/controls",
      "_model_module_version": "1.5.0",
      "_model_name": "FloatProgressModel",
      "_view_count": null,
      "_view_module": "@jupyter-widgets/controls",
      "_view_module_version": "1.5.0",
      "_view_name": "ProgressView",
      "bar_style": "success",
      "description": "",
      "description_tooltip": null,
      "layout": "IPY_MODEL_3b9b334011654fdfa63c0660baacc875",
      "max": 1,
      "min": 0,
      "orientation": "horizontal",
      "style": "IPY_MODEL_b09c928e81d340ebb97c88758313ffbf",
      "value": 1
     }
    },
    "d30034e9bf6f4a3bbbf4a2e751252153": {
     "model_module": "@jupyter-widgets/controls",
     "model_module_version": "1.5.0",
     "model_name": "HTMLModel",
     "state": {
      "_dom_classes": [],
      "_model_module": "@jupyter-widgets/controls",
      "_model_module_version": "1.5.0",
      "_model_name": "HTMLModel",
      "_view_count": null,
      "_view_module": "@jupyter-widgets/controls",
      "_view_module_version": "1.5.0",
      "_view_name": "HTMLView",
      "description": "",
      "description_tooltip": null,
      "layout": "IPY_MODEL_25d61e5ace404dc48416df608771ca8e",
      "placeholder": "​",
      "style": "IPY_MODEL_303070e42a444fd2b905238ef81b94f5",
      "value": "config.json: 100%"
     }
    },
    "d361371bd63741ea9f4c3ed30adc2670": {
     "model_module": "@jupyter-widgets/base",
     "model_module_version": "1.2.0",
     "model_name": "LayoutModel",
     "state": {
      "_model_module": "@jupyter-widgets/base",
      "_model_module_version": "1.2.0",
      "_model_name": "LayoutModel",
      "_view_count": null,
      "_view_module": "@jupyter-widgets/base",
      "_view_module_version": "1.2.0",
      "_view_name": "LayoutView",
      "align_content": null,
      "align_items": null,
      "align_self": null,
      "border": null,
      "bottom": null,
      "display": null,
      "flex": null,
      "flex_flow": null,
      "grid_area": null,
      "grid_auto_columns": null,
      "grid_auto_flow": null,
      "grid_auto_rows": null,
      "grid_column": null,
      "grid_gap": null,
      "grid_row": null,
      "grid_template_areas": null,
      "grid_template_columns": null,
      "grid_template_rows": null,
      "height": null,
      "justify_content": null,
      "justify_items": null,
      "left": null,
      "margin": null,
      "max_height": null,
      "max_width": null,
      "min_height": null,
      "min_width": null,
      "object_fit": null,
      "object_position": null,
      "order": null,
      "overflow": null,
      "overflow_x": null,
      "overflow_y": null,
      "padding": null,
      "right": null,
      "top": null,
      "visibility": null,
      "width": null
     }
    },
    "d3f843167cfe4b7cb1aa6aee64c15b3f": {
     "model_module": "@jupyter-widgets/base",
     "model_module_version": "1.2.0",
     "model_name": "LayoutModel",
     "state": {
      "_model_module": "@jupyter-widgets/base",
      "_model_module_version": "1.2.0",
      "_model_name": "LayoutModel",
      "_view_count": null,
      "_view_module": "@jupyter-widgets/base",
      "_view_module_version": "1.2.0",
      "_view_name": "LayoutView",
      "align_content": null,
      "align_items": null,
      "align_self": null,
      "border": null,
      "bottom": null,
      "display": null,
      "flex": null,
      "flex_flow": null,
      "grid_area": null,
      "grid_auto_columns": null,
      "grid_auto_flow": null,
      "grid_auto_rows": null,
      "grid_column": null,
      "grid_gap": null,
      "grid_row": null,
      "grid_template_areas": null,
      "grid_template_columns": null,
      "grid_template_rows": null,
      "height": null,
      "justify_content": null,
      "justify_items": null,
      "left": null,
      "margin": null,
      "max_height": null,
      "max_width": null,
      "min_height": null,
      "min_width": null,
      "object_fit": null,
      "object_position": null,
      "order": null,
      "overflow": null,
      "overflow_x": null,
      "overflow_y": null,
      "padding": null,
      "right": null,
      "top": null,
      "visibility": null,
      "width": null
     }
    },
    "d3fae819059b48228f5b024944cac5f9": {
     "model_module": "@jupyter-widgets/controls",
     "model_module_version": "1.5.0",
     "model_name": "HBoxModel",
     "state": {
      "_dom_classes": [],
      "_model_module": "@jupyter-widgets/controls",
      "_model_module_version": "1.5.0",
      "_model_name": "HBoxModel",
      "_view_count": null,
      "_view_module": "@jupyter-widgets/controls",
      "_view_module_version": "1.5.0",
      "_view_name": "HBoxView",
      "box_style": "",
      "children": [
       "IPY_MODEL_d06afa4337a044fb94d1adfb881085dd",
       "IPY_MODEL_a2eea41bc1f34784b87a4180ab07841a",
       "IPY_MODEL_4c1d292882cc465388d126901e5722a6"
      ],
      "layout": "IPY_MODEL_e8de0a693c3144f0895bc7999e745eb6"
     }
    },
    "d46635fbee58419e87e5f31518ab8225": {
     "model_module": "@jupyter-widgets/base",
     "model_module_version": "1.2.0",
     "model_name": "LayoutModel",
     "state": {
      "_model_module": "@jupyter-widgets/base",
      "_model_module_version": "1.2.0",
      "_model_name": "LayoutModel",
      "_view_count": null,
      "_view_module": "@jupyter-widgets/base",
      "_view_module_version": "1.2.0",
      "_view_name": "LayoutView",
      "align_content": null,
      "align_items": null,
      "align_self": null,
      "border": null,
      "bottom": null,
      "display": null,
      "flex": null,
      "flex_flow": null,
      "grid_area": null,
      "grid_auto_columns": null,
      "grid_auto_flow": null,
      "grid_auto_rows": null,
      "grid_column": null,
      "grid_gap": null,
      "grid_row": null,
      "grid_template_areas": null,
      "grid_template_columns": null,
      "grid_template_rows": null,
      "height": null,
      "justify_content": null,
      "justify_items": null,
      "left": null,
      "margin": null,
      "max_height": null,
      "max_width": null,
      "min_height": null,
      "min_width": null,
      "object_fit": null,
      "object_position": null,
      "order": null,
      "overflow": null,
      "overflow_x": null,
      "overflow_y": null,
      "padding": null,
      "right": null,
      "top": null,
      "visibility": null,
      "width": null
     }
    },
    "d556723eedae407098d6b6abcf9caefc": {
     "model_module": "@jupyter-widgets/base",
     "model_module_version": "1.2.0",
     "model_name": "LayoutModel",
     "state": {
      "_model_module": "@jupyter-widgets/base",
      "_model_module_version": "1.2.0",
      "_model_name": "LayoutModel",
      "_view_count": null,
      "_view_module": "@jupyter-widgets/base",
      "_view_module_version": "1.2.0",
      "_view_name": "LayoutView",
      "align_content": null,
      "align_items": null,
      "align_self": null,
      "border": null,
      "bottom": null,
      "display": null,
      "flex": null,
      "flex_flow": null,
      "grid_area": null,
      "grid_auto_columns": null,
      "grid_auto_flow": null,
      "grid_auto_rows": null,
      "grid_column": null,
      "grid_gap": null,
      "grid_row": null,
      "grid_template_areas": null,
      "grid_template_columns": null,
      "grid_template_rows": null,
      "height": null,
      "justify_content": null,
      "justify_items": null,
      "left": null,
      "margin": null,
      "max_height": null,
      "max_width": null,
      "min_height": null,
      "min_width": null,
      "object_fit": null,
      "object_position": null,
      "order": null,
      "overflow": null,
      "overflow_x": null,
      "overflow_y": null,
      "padding": null,
      "right": null,
      "top": null,
      "visibility": null,
      "width": null
     }
    },
    "d9a520bc6f7545ee8cd9914ca804c488": {
     "model_module": "@jupyter-widgets/controls",
     "model_module_version": "1.5.0",
     "model_name": "HTMLModel",
     "state": {
      "_dom_classes": [],
      "_model_module": "@jupyter-widgets/controls",
      "_model_module_version": "1.5.0",
      "_model_name": "HTMLModel",
      "_view_count": null,
      "_view_module": "@jupyter-widgets/controls",
      "_view_module_version": "1.5.0",
      "_view_name": "HTMLView",
      "description": "",
      "description_tooltip": null,
      "layout": "IPY_MODEL_d361371bd63741ea9f4c3ed30adc2670",
      "placeholder": "​",
      "style": "IPY_MODEL_ecf0bdd5749f4994909a97e1a527fc74",
      "value": "vocab.json: 100%"
     }
    },
    "db3d19218a1f4f7480242f346904d043": {
     "model_module": "@jupyter-widgets/controls",
     "model_module_version": "1.5.0",
     "model_name": "HTMLModel",
     "state": {
      "_dom_classes": [],
      "_model_module": "@jupyter-widgets/controls",
      "_model_module_version": "1.5.0",
      "_model_name": "HTMLModel",
      "_view_count": null,
      "_view_module": "@jupyter-widgets/controls",
      "_view_module_version": "1.5.0",
      "_view_name": "HTMLView",
      "description": "",
      "description_tooltip": null,
      "layout": "IPY_MODEL_5a020f35cd1e4952a38394ed9bd107c0",
      "placeholder": "​",
      "style": "IPY_MODEL_0a652a2390d9400db66ccadef934d92b",
      "value": " 665/665 [00:00&lt;00:00, 18.4kB/s]"
     }
    },
    "dea19a542d524ce0a5c1d43c7accf6ce": {
     "model_module": "@jupyter-widgets/controls",
     "model_module_version": "1.5.0",
     "model_name": "HBoxModel",
     "state": {
      "_dom_classes": [],
      "_model_module": "@jupyter-widgets/controls",
      "_model_module_version": "1.5.0",
      "_model_name": "HBoxModel",
      "_view_count": null,
      "_view_module": "@jupyter-widgets/controls",
      "_view_module_version": "1.5.0",
      "_view_name": "HBoxView",
      "box_style": "",
      "children": [
       "IPY_MODEL_6d26634270b84bfda51e3bcca2bf1d58",
       "IPY_MODEL_730cb790264e4b978e584c45b0658cbf",
       "IPY_MODEL_5b6b63b003f24c60859557d69006ab89"
      ],
      "layout": "IPY_MODEL_6991b61cab154da2953d426df35e0420"
     }
    },
    "dfc02369ec874b388acbda5e454b049b": {
     "model_module": "@jupyter-widgets/controls",
     "model_module_version": "1.5.0",
     "model_name": "DescriptionStyleModel",
     "state": {
      "_model_module": "@jupyter-widgets/controls",
      "_model_module_version": "1.5.0",
      "_model_name": "DescriptionStyleModel",
      "_view_count": null,
      "_view_module": "@jupyter-widgets/base",
      "_view_module_version": "1.2.0",
      "_view_name": "StyleView",
      "description_width": ""
     }
    },
    "e79c55e94b4a447c8c5b794e63133c0a": {
     "model_module": "@jupyter-widgets/base",
     "model_module_version": "1.2.0",
     "model_name": "LayoutModel",
     "state": {
      "_model_module": "@jupyter-widgets/base",
      "_model_module_version": "1.2.0",
      "_model_name": "LayoutModel",
      "_view_count": null,
      "_view_module": "@jupyter-widgets/base",
      "_view_module_version": "1.2.0",
      "_view_name": "LayoutView",
      "align_content": null,
      "align_items": null,
      "align_self": null,
      "border": null,
      "bottom": null,
      "display": null,
      "flex": null,
      "flex_flow": null,
      "grid_area": null,
      "grid_auto_columns": null,
      "grid_auto_flow": null,
      "grid_auto_rows": null,
      "grid_column": null,
      "grid_gap": null,
      "grid_row": null,
      "grid_template_areas": null,
      "grid_template_columns": null,
      "grid_template_rows": null,
      "height": null,
      "justify_content": null,
      "justify_items": null,
      "left": null,
      "margin": null,
      "max_height": null,
      "max_width": null,
      "min_height": null,
      "min_width": null,
      "object_fit": null,
      "object_position": null,
      "order": null,
      "overflow": null,
      "overflow_x": null,
      "overflow_y": null,
      "padding": null,
      "right": null,
      "top": null,
      "visibility": null,
      "width": null
     }
    },
    "e8de0a693c3144f0895bc7999e745eb6": {
     "model_module": "@jupyter-widgets/base",
     "model_module_version": "1.2.0",
     "model_name": "LayoutModel",
     "state": {
      "_model_module": "@jupyter-widgets/base",
      "_model_module_version": "1.2.0",
      "_model_name": "LayoutModel",
      "_view_count": null,
      "_view_module": "@jupyter-widgets/base",
      "_view_module_version": "1.2.0",
      "_view_name": "LayoutView",
      "align_content": null,
      "align_items": null,
      "align_self": null,
      "border": null,
      "bottom": null,
      "display": null,
      "flex": null,
      "flex_flow": null,
      "grid_area": null,
      "grid_auto_columns": null,
      "grid_auto_flow": null,
      "grid_auto_rows": null,
      "grid_column": null,
      "grid_gap": null,
      "grid_row": null,
      "grid_template_areas": null,
      "grid_template_columns": null,
      "grid_template_rows": null,
      "height": null,
      "justify_content": null,
      "justify_items": null,
      "left": null,
      "margin": null,
      "max_height": null,
      "max_width": null,
      "min_height": null,
      "min_width": null,
      "object_fit": null,
      "object_position": null,
      "order": null,
      "overflow": null,
      "overflow_x": null,
      "overflow_y": null,
      "padding": null,
      "right": null,
      "top": null,
      "visibility": null,
      "width": null
     }
    },
    "ea76d079b5bf461ab30177d01006f019": {
     "model_module": "@jupyter-widgets/controls",
     "model_module_version": "1.5.0",
     "model_name": "FloatProgressModel",
     "state": {
      "_dom_classes": [],
      "_model_module": "@jupyter-widgets/controls",
      "_model_module_version": "1.5.0",
      "_model_name": "FloatProgressModel",
      "_view_count": null,
      "_view_module": "@jupyter-widgets/controls",
      "_view_module_version": "1.5.0",
      "_view_name": "ProgressView",
      "bar_style": "success",
      "description": "",
      "description_tooltip": null,
      "layout": "IPY_MODEL_36b618391f4149f6ab86fafa2c18b365",
      "max": 1355256,
      "min": 0,
      "orientation": "horizontal",
      "style": "IPY_MODEL_487631e412154f62b145198baf636ca4",
      "value": 1355256
     }
    },
    "ec78b7e25c5c441cadd8d69820857a10": {
     "model_module": "@jupyter-widgets/controls",
     "model_module_version": "1.5.0",
     "model_name": "FloatProgressModel",
     "state": {
      "_dom_classes": [],
      "_model_module": "@jupyter-widgets/controls",
      "_model_module_version": "1.5.0",
      "_model_name": "FloatProgressModel",
      "_view_count": null,
      "_view_module": "@jupyter-widgets/controls",
      "_view_module_version": "1.5.0",
      "_view_name": "ProgressView",
      "bar_style": "success",
      "description": "",
      "description_tooltip": null,
      "layout": "IPY_MODEL_5149754977f54c519b33d8cf2973d310",
      "max": 548105171,
      "min": 0,
      "orientation": "horizontal",
      "style": "IPY_MODEL_ba2589277fb94b30836ad513d25c62e5",
      "value": 548105171
     }
    },
    "ecf0bdd5749f4994909a97e1a527fc74": {
     "model_module": "@jupyter-widgets/controls",
     "model_module_version": "1.5.0",
     "model_name": "DescriptionStyleModel",
     "state": {
      "_model_module": "@jupyter-widgets/controls",
      "_model_module_version": "1.5.0",
      "_model_name": "DescriptionStyleModel",
      "_view_count": null,
      "_view_module": "@jupyter-widgets/base",
      "_view_module_version": "1.2.0",
      "_view_name": "StyleView",
      "description_width": ""
     }
    },
    "f0c80bf6c2e64744bbbc14388cecc3e6": {
     "model_module": "@jupyter-widgets/controls",
     "model_module_version": "1.5.0",
     "model_name": "FloatProgressModel",
     "state": {
      "_dom_classes": [],
      "_model_module": "@jupyter-widgets/controls",
      "_model_module_version": "1.5.0",
      "_model_name": "FloatProgressModel",
      "_view_count": null,
      "_view_module": "@jupyter-widgets/controls",
      "_view_module_version": "1.5.0",
      "_view_name": "ProgressView",
      "bar_style": "success",
      "description": "",
      "description_tooltip": null,
      "layout": "IPY_MODEL_50636c8297394f6ba063b14845e92ca4",
      "max": 27435,
      "min": 0,
      "orientation": "horizontal",
      "style": "IPY_MODEL_bd01520cd8af4640bcd7102204154dc2",
      "value": 27435
     }
    },
    "f29d0d2df5e8486286190a02debdb5fd": {
     "model_module": "@jupyter-widgets/controls",
     "model_module_version": "1.5.0",
     "model_name": "ProgressStyleModel",
     "state": {
      "_model_module": "@jupyter-widgets/controls",
      "_model_module_version": "1.5.0",
      "_model_name": "ProgressStyleModel",
      "_view_count": null,
      "_view_module": "@jupyter-widgets/base",
      "_view_module_version": "1.2.0",
      "_view_name": "StyleView",
      "bar_color": null,
      "description_width": ""
     }
    },
    "f644a8cf240c4d529fec3a76898a2426": {
     "model_module": "@jupyter-widgets/controls",
     "model_module_version": "1.5.0",
     "model_name": "HBoxModel",
     "state": {
      "_dom_classes": [],
      "_model_module": "@jupyter-widgets/controls",
      "_model_module_version": "1.5.0",
      "_model_name": "HBoxModel",
      "_view_count": null,
      "_view_module": "@jupyter-widgets/controls",
      "_view_module_version": "1.5.0",
      "_view_name": "HBoxView",
      "box_style": "",
      "children": [
       "IPY_MODEL_66ad17c6913041b1bdcfff4e70b3ef94",
       "IPY_MODEL_ea76d079b5bf461ab30177d01006f019",
       "IPY_MODEL_750933647acf4a4faacb4924f66b7c6f"
      ],
      "layout": "IPY_MODEL_128228eb292c4646bb44f655549a4dd6"
     }
    },
    "fe724671cc694d7894fc622fcf0bdf5c": {
     "model_module": "@jupyter-widgets/controls",
     "model_module_version": "1.5.0",
     "model_name": "DescriptionStyleModel",
     "state": {
      "_model_module": "@jupyter-widgets/controls",
      "_model_module_version": "1.5.0",
      "_model_name": "DescriptionStyleModel",
      "_view_count": null,
      "_view_module": "@jupyter-widgets/base",
      "_view_module_version": "1.2.0",
      "_view_name": "StyleView",
      "description_width": ""
     }
    }
   }
  }
 },
 "nbformat": 4,
 "nbformat_minor": 5
}
